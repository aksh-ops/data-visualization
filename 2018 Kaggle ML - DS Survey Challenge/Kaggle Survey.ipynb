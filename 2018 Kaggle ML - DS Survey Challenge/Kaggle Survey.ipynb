{
  "cells": [
    {
      "metadata": {
        "_uuid": "8f2839f25d086af736a60e9eeb907d3b93b6e0e5",
        "_cell_guid": "b1076dfc-b9ad-4769-8c92-a6c4dae69d19",
        "trusted": true,
        "_kg_hide-input": false,
        "_kg_hide-output": false
      },
      "cell_type": "markdown",
      "source": "# ANALYSIS OF 2018 KAGGLE ML & DS SURVEY "
    },
    {
      "metadata": {
        "_uuid": "d12d39fa881fe724db448a5a8af5d0ec059dec28"
      },
      "cell_type": "markdown",
      "source": "![img](https://www.kaggle.com/static/images/home/computer.png)"
    },
    {
      "metadata": {
        "_cell_guid": "79c7e3d0-c299-4dcb-8224-4455121ee9b0",
        "_uuid": "d629ff2d2480ee46fbb7e2d37f6b5fab8052498a",
        "trusted": true,
        "_kg_hide-input": true
      },
      "cell_type": "code",
      "source": "import numpy as np \nimport pandas as pd \nimport warnings\nimport seaborn as sns\nfrom matplotlib_venn import venn3\nfrom matplotlib_venn import venn2\nwarnings.filterwarnings(\"ignore\")\nimport matplotlib.pylab as plt\nimport squarify    ",
      "execution_count": null,
      "outputs": []
    },
    {
      "metadata": {
        "trusted": true,
        "_uuid": "9bca39bd2a13efdea375200182487a004d524dfb",
        "_kg_hide-input": true
      },
      "cell_type": "code",
      "source": "mcr = pd.read_csv('../input/multipleChoiceResponses.csv')\nffr = pd.read_csv('../input/freeFormResponses.csv')\nss = pd.read_csv('../input/SurveySchema.csv')",
      "execution_count": null,
      "outputs": []
    },
    {
      "metadata": {
        "trusted": true,
        "_uuid": "b9888d45df49359fc3f87bc52a87aad87c0d005b",
        "_kg_hide-input": true
      },
      "cell_type": "code",
      "source": "mcr.head()",
      "execution_count": null,
      "outputs": []
    },
    {
      "metadata": {
        "trusted": true,
        "_uuid": "a0e33c86618a753fd64c98891bc2bf56b9328184",
        "_kg_hide-input": true
      },
      "cell_type": "code",
      "source": "time = mcr['Time from Start to Finish (seconds)']\ntime.pop(0)\nminutes = [round(int(i)/60) for i in time]",
      "execution_count": null,
      "outputs": []
    },
    {
      "metadata": {
        "_uuid": "0897057c81aec6b0309f161d4043c81bdbc23455"
      },
      "cell_type": "markdown",
      "source": "## Time Taken by users to fill the Survey "
    },
    {
      "metadata": {
        "_kg_hide-output": false,
        "_kg_hide-input": false,
        "trusted": true,
        "_uuid": "54fcc87b59beffcc31d9366ccd914d8648c9d6b6"
      },
      "cell_type": "code",
      "source": "print(\"Maximum Time Taken By a User to fill the survey is:\",max(minutes), 'Minutes' )\nprint(\"Minimum Time Taken By a User to fill the survey is:\",min(minutes), 'Minutes' )\nprint(\"Average Time Taken By a User to fill the survey is:\",sum(minutes)/len(minutes), 'Minutes' )",
      "execution_count": null,
      "outputs": []
    },
    {
      "metadata": {
        "_uuid": "344e32a043a015b99c6ce9b15eb3cec47dd90962"
      },
      "cell_type": "markdown",
      "source": "## Gender Distribution of users who filled the Survey \n\n> Looks like only 17% of the survey participant are females, Gotta pump those Numbers up"
    },
    {
      "metadata": {
        "_kg_hide-input": true,
        "trusted": true,
        "_uuid": "289bad8e78fc7781d9b5ceca50512311f86fc188"
      },
      "cell_type": "code",
      "source": "gender = mcr['Q1']\ngender.pop(0)\nnames= mcr['Q1'].value_counts().index\nnames = np.array(names).tolist()\ncolors = ['yellowgreen', 'gold', 'lightskyblue', 'lightcoral']\nexplode = (0, 0.1, 0, 0) \nsize= mcr['Q1'].value_counts().values\nplt.pie(size,explode=explode,labels=names,colors=colors,autopct='%1.1f%%', shadow=True)\nplt.style.use('classic')\nplt.show()",
      "execution_count": null,
      "outputs": []
    },
    {
      "metadata": {
        "_uuid": "d8da8d33b73ef91dcc487f7d4963a6a8e630ec90"
      },
      "cell_type": "markdown",
      "source": "## Age Distribution of users who filled the Survey \n> Most of the survey participants are between 25-29"
    },
    {
      "metadata": {
        "_kg_hide-input": true,
        "trusted": true,
        "_uuid": "2364c520bfeb4eee9679c31197bc3399865fef90"
      },
      "cell_type": "code",
      "source": "val = mcr.groupby(\"Q2\").filter(lambda x: len(x) > 1)\nsns.countplot(x='Q2', palette=\"Pastel2\",data = val);\nplt.xticks(rotation=45)",
      "execution_count": null,
      "outputs": []
    },
    {
      "metadata": {
        "_uuid": "1c4b89a3d5541efed18990c3b15fba48660047a5"
      },
      "cell_type": "markdown",
      "source": "## Usage of machine learning  in Various industries "
    },
    {
      "metadata": {
        "_kg_hide-input": true,
        "trusted": true,
        "_uuid": "b4394123169adfb4de315ebe61a4d91db353cbe7"
      },
      "cell_type": "code",
      "source": "k = []\nfor i in val['Q7'].value_counts().index: \n    k.append(val[(val['Q7'] == i)]['Q10'].value_counts())",
      "execution_count": null,
      "outputs": []
    },
    {
      "metadata": {
        "_kg_hide-input": true,
        "trusted": true,
        "_uuid": "5c939cb37a6518a9233b43cab773ab15eefa33e3"
      },
      "cell_type": "code",
      "source": "exploring = [k[i]['We are exploring ML methods (and may one day put a model into production)'] for i in range(0,19)]\nstarted = [k[i]['We recently started using ML methods (i.e., models in production for less than 2 years)'] for i in range(0,19)]\nestablished = [k[i]['We have well established ML methods (i.e., models in production for more than 2 years)'] for i in range(0,19)]\nnot_using = [k[i]['No (we do not use ML methods)'] for i in range(0,19)]\nusing = [k[i]['We use ML methods for generating insights (but do not put working models into production)'] for i in range(0,19)]\nno = [k[i]['I do not know'] for i in range(0,19)]",
      "execution_count": null,
      "outputs": []
    },
    {
      "metadata": {
        "_kg_hide-output": false,
        "_kg_hide-input": true,
        "trusted": true,
        "_uuid": "e7a9cbd530c4d1a73f29dc454fb4de49df64ae93"
      },
      "cell_type": "code",
      "source": "barWidth = 0.25\nplt.figure(figsize=(20,10))\nr1 = np.arange(len(exploring))\nplt.bar(r1,exploring, width=barWidth, edgecolor='white', label='Exploring ML methods')\nplt.bar(r1,started, width=barWidth, edgecolor='white', label='Started using ML methods')\nplt.bar(r1,established, width=barWidth, edgecolor='white', label='Have been using ML')\nplt.bar(r1,not_using, width=barWidth, edgecolor='white', label='We dont use ML')\nplt.bar(r1,using, width=barWidth, edgecolor='white', label='Use ML for insights not production')\nplt.bar(r1,no, width=barWidth, edgecolor='white', label='I dont know')\nparams = {'legend.fontsize': 20,\n          'legend.handlelength': 2}\nplt.xlabel('group', fontweight='bold')\nplt.xticks([r + barWidth for r in range(len(exploring))], list(val['Q7'].value_counts().index))\nplt.legend()\nplt.rcParams.update(params)\nplt.xlabel('Industry Type',fontsize=20)\nplt.xticks(fontsize=20,rotation=90)\nplt.style.use('ggplot')\nplt.show()",
      "execution_count": null,
      "outputs": []
    },
    {
      "metadata": {
        "_uuid": "49ad36c7549aa3742886c160ff50c45ec4da2bce"
      },
      "cell_type": "markdown",
      "source": "##  Comparison of Data science students in India vs USA vs China vs Russia \n\n- Majority of the American, Chinese and Russian data scientists hold a masters degreee\n-  Only in India majority of data scientists have a bachelors degree"
    },
    {
      "metadata": {
        "_kg_hide-input": true,
        "trusted": true,
        "_uuid": "7091eefca4e892fae94a1347cfa3e06d9656f518"
      },
      "cell_type": "code",
      "source": "coun = val[(val['Q3'] == 'United States of America') |( val['Q3'] == 'India')|( val['Q3'] == 'China')|( val['Q3'] == 'Russia')]\nplt.figure(figsize=(10,6))\nparams = {'legend.fontsize': 7,\n          'legend.handlelength': 2}\nplt.rcParams.update(params)\n\nsns.countplot(x=\"Q3\",hue=\"Q4\", data=coun)\nplt.show()",
      "execution_count": null,
      "outputs": []
    },
    {
      "metadata": {
        "_uuid": "4ef624cb87ab5f826e3c578bc8b8fae44f59ac34"
      },
      "cell_type": "markdown",
      "source": "## Analysis with respect to Experience in USA, India, Russia and China\n- India has Highest numbers Noobs.....No suprise given the craze\n-  China has the best balance between Noobs/Experts"
    },
    {
      "metadata": {
        "trusted": true,
        "_uuid": "18d10ece5e60cce05778dad1d9f68430f6a45d74"
      },
      "cell_type": "code",
      "source": "#val['Q8'].value_counts()\nplt.figure(figsize=(10,6))\nsns.countplot(x=\"Q3\",hue=\"Q8\", data=coun)\nplt.title('Experience of ML practitioners')\nplt.show()",
      "execution_count": null,
      "outputs": []
    },
    {
      "metadata": {
        "_uuid": "c4b7d8d46891d31cc8e80ce016a869f6c1cf63c7"
      },
      "cell_type": "markdown",
      "source": "## Age of Survey participants with respect to their designation\n\n- Most of the data scientists, analysts and consultants are in their 20s and early 30s\n- As expected Students are between 18- 24 (Undergraduates and Postgraduates)\n- Managers , Chief officers, Business analysts and Statisicians tend to be older\n"
    },
    {
      "metadata": {
        "trusted": true,
        "scrolled": false,
        "_uuid": "f104144652140677643c3b12fda1a177d3412943"
      },
      "cell_type": "code",
      "source": "plt.figure(figsize=(10,40))\nsns.countplot(y=\"Q6\",hue=\"Q2\", data=val, palette ='muted')\nparams = {'legend.fontsize': 10,\n          'legend.handlelength': 2}\nplt.rcParams.update(params)\nplt.show()",
      "execution_count": null,
      "outputs": []
    },
    {
      "metadata": {
        "_uuid": "77cb8087c324a7a5f07b695d8dbc244d7e710f13"
      },
      "cell_type": "markdown",
      "source": "**Primary Tools of Data scientists**"
    },
    {
      "metadata": {
        "trusted": true,
        "_uuid": "ebef9eff988a13e96f0a909faaafb5632a593fe2"
      },
      "cell_type": "code",
      "source": "val['Q12_MULTIPLE_CHOICE'].value_counts()\nl = ['Jupyter/Rstudio','Statistical software(Excel etc)','Other','SAS,SPSS etc','Cloud based','BI software']\nsquarify.plot(sizes=val['Q12_MULTIPLE_CHOICE'].value_counts().values, label=l, alpha=.8 )\nplt.axis('off')\nplt.show() ",
      "execution_count": null,
      "outputs": []
    },
    {
      "metadata": {
        "_uuid": "fc83366c8f7bc0174ed9026bc33e49c745fc5ca3"
      },
      "cell_type": "markdown",
      "source": "## Venn Diagram of the Programming Languages/IDE's used "
    },
    {
      "metadata": {
        "_kg_hide-input": true,
        "trusted": true,
        "_uuid": "0315e270eaa7475c47081267cddba620007cbdf7"
      },
      "cell_type": "code",
      "source": "jupyter = val['Q13_Part_1'].count()\nrstudio = val['Q13_Part_2'].count()\nmatlab = val['Q13_Part_7'].count()\njup_r = len(val[(val['Q13_Part_1']=='Jupyter/IPython') & (val['Q13_Part_2']=='RStudio')])\njup_mat = len(val[(val['Q13_Part_1']=='Jupyter/IPython') & (val['Q13_Part_7']=='MATLAB')])\nr_mat = len(val[(val['Q13_Part_2']=='RStudio') & (val['Q13_Part_7']=='MATLAB')])\njup_r_mat = len(val[(val['Q13_Part_1']=='Jupyter/IPython') & (val['Q13_Part_2']=='RStudio')& (val['Q13_Part_7']=='MATLAB')])",
      "execution_count": null,
      "outputs": []
    },
    {
      "metadata": {
        "_kg_hide-input": true,
        "trusted": true,
        "_uuid": "0348f5206e448146deaae52ac2c06ac9a45f3dd8"
      },
      "cell_type": "code",
      "source": "",
      "execution_count": null,
      "outputs": []
    },
    {
      "metadata": {
        "_kg_hide-input": true,
        "trusted": true,
        "_uuid": "bdb0edaf239901ab3a52e981fd6471b8ef430dc4"
      },
      "cell_type": "code",
      "source": "v=venn3(subsets = (jupyter, rstudio, jup_r, matlab,jup_mat,r_mat,jup_r_mat), set_labels = ('Jupyter Notebook', 'R studio', 'Matlab'))\nplt.title(\"ML and DL\")\nplt.show()",
      "execution_count": null,
      "outputs": []
    },
    {
      "metadata": {
        "_kg_hide-input": true,
        "trusted": true,
        "_uuid": "bea82050dc96f5e3c92ded0472666857d180be57"
      },
      "cell_type": "code",
      "source": "spy = val['Q13_Part_13'].count()\npyc = val['Q13_Part_3'].count()\ns_p = len(val[(val['Q13_Part_13']=='Spyder') & (val['Q13_Part_3']=='PyCharm')])",
      "execution_count": null,
      "outputs": []
    },
    {
      "metadata": {
        "_kg_hide-input": true,
        "trusted": true,
        "_uuid": "8b242da720d383a2c8b0e8eabbf87fc4b3092d53"
      },
      "cell_type": "code",
      "source": "v = venn2(subsets = (spy, pyc, s_p), set_labels = ('Spyder', 'Pycharm'))\nplt.title(\"Python IDE's Pycharm vs Spyder\")\nplt.show()",
      "execution_count": null,
      "outputs": []
    },
    {
      "metadata": {
        "trusted": true,
        "_uuid": "9bb22f28e22360b65b2ac20fcbb178ed136f121d",
        "_kg_hide-input": true
      },
      "cell_type": "code",
      "source": "sublime = val['Q13_Part_1'].count()\natom = val['Q13_Part_6'].count()\nnote = val['Q13_Part_7'].count()\nsub_atom = len(val[(val['Q13_Part_10']=='Sublime Text') & (val['Q13_Part_6']=='Atom')])\nsub_note = len(val[(val['Q13_Part_9']=='Notepad++') & (val['Q13_Part_7']=='MATLAB')])\natom_note = len(val[(val['Q13_Part_6']=='Atom') & (val['Q13_Part_9']=='Notepad++')])\nsub_at_not = len(val[(val['Q13_Part_10']=='Sublime Text') & (val['Q13_Part_6']=='Atom')& (val['Q13_Part_9']=='Notepad++')])",
      "execution_count": null,
      "outputs": []
    },
    {
      "metadata": {
        "trusted": true,
        "_uuid": "c8f2a70ef13365e2a1a55fdbe0ac4eff2ac9c35a",
        "_kg_hide-input": true
      },
      "cell_type": "code",
      "source": "v=venn3(subsets = (sublime, atom, sub_atom, note,sub_note,atom_note,sub_at_not), set_labels = ('Sublime ', 'Atom', 'Notepad++'))\nplt.title(\"Source code editors\")\nplt.show()",
      "execution_count": null,
      "outputs": []
    },
    {
      "metadata": {
        "trusted": true,
        "_uuid": "88f87baec7dfd2f3f838031d5cf9f725661194a4"
      },
      "cell_type": "code",
      "source": "",
      "execution_count": null,
      "outputs": []
    }
  ],
  "metadata": {
    "kernelspec": {
      "display_name": "Python 3",
      "language": "python",
      "name": "python3"
    },
    "language_info": {
      "name": "python",
      "version": "3.6.6",
      "mimetype": "text/x-python",
      "codemirror_mode": {
        "name": "ipython",
        "version": 3
      },
      "pygments_lexer": "ipython3",
      "nbconvert_exporter": "python",
      "file_extension": ".py"
    }
  },
  "nbformat": 4,
  "nbformat_minor": 1
}