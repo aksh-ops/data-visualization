{
 "cells": [
  {
   "cell_type": "markdown",
   "metadata": {},
   "source": [
    "# ANALYSIS OF ACADEMY AWARDS DATASET"
   ]
  },
  {
   "cell_type": "markdown",
   "metadata": {},
   "source": [
    "![img ](https://media.giphy.com/media/srg19CG0cKMuI/giphy.gif)"
   ]
  },
  {
   "cell_type": "code",
   "execution_count": 9,
   "metadata": {
    "extensions": {
     "jupyter_dashboards": {
      "version": 1,
      "views": {
       "grid_default": {
        "hidden": true
       },
       "report_default": {
        "hidden": true
       }
      }
     }
    }
   },
   "outputs": [
    {
     "data": {
      "text/html": [
       "<script>requirejs.config({paths: { 'plotly': ['https://cdn.plot.ly/plotly-latest.min']},});if(!window.Plotly) {{require(['plotly'],function(plotly) {window.Plotly=plotly;});}}</script>"
      ],
      "text/vnd.plotly.v1+html": [
       "<script>requirejs.config({paths: { 'plotly': ['https://cdn.plot.ly/plotly-latest.min']},});if(!window.Plotly) {{require(['plotly'],function(plotly) {window.Plotly=plotly;});}}</script>"
      ]
     },
     "metadata": {},
     "output_type": "display_data"
    }
   ],
   "source": [
    "import pandas as pd\n",
    "import numpy as np \n",
    "import plotly\n",
    "import plotly.graph_objs as go\n",
    "plotly.offline.init_notebook_mode(connected=True)\n",
    "import matplotlib.pyplot as plt\n",
    "import seaborn as sns\n",
    "import warnings\n",
    "warnings.filterwarnings('ignore')"
   ]
  },
  {
   "cell_type": "code",
   "execution_count": 64,
   "metadata": {
    "extensions": {
     "jupyter_dashboards": {
      "version": 1,
      "views": {
       "grid_default": {
        "col": 0,
        "height": 4,
        "hidden": false,
        "row": 0,
        "width": 5
       },
       "report_default": {
        "hidden": false
       }
      }
     }
    }
   },
   "outputs": [
    {
     "data": {
      "text/html": [
       "<div>\n",
       "<style>\n",
       "    .dataframe thead tr:only-child th {\n",
       "        text-align: right;\n",
       "    }\n",
       "\n",
       "    .dataframe thead th {\n",
       "        text-align: left;\n",
       "    }\n",
       "\n",
       "    .dataframe tbody tr th {\n",
       "        vertical-align: top;\n",
       "    }\n",
       "</style>\n",
       "<table border=\"1\" class=\"dataframe\">\n",
       "  <thead>\n",
       "    <tr style=\"text-align: right;\">\n",
       "      <th></th>\n",
       "      <th>Year</th>\n",
       "      <th>Ceremony</th>\n",
       "      <th>Award</th>\n",
       "      <th>Winner</th>\n",
       "      <th>Name</th>\n",
       "      <th>Film</th>\n",
       "    </tr>\n",
       "  </thead>\n",
       "  <tbody>\n",
       "    <tr>\n",
       "      <th>0</th>\n",
       "      <td>1927/1928</td>\n",
       "      <td>1</td>\n",
       "      <td>Actor</td>\n",
       "      <td>NaN</td>\n",
       "      <td>Richard Barthelmess</td>\n",
       "      <td>The Noose</td>\n",
       "    </tr>\n",
       "  </tbody>\n",
       "</table>\n",
       "</div>"
      ],
      "text/plain": [
       "        Year  Ceremony  Award  Winner                 Name       Film\n",
       "0  1927/1928         1  Actor     NaN  Richard Barthelmess  The Noose"
      ]
     },
     "execution_count": 64,
     "metadata": {},
     "output_type": "execute_result"
    }
   ],
   "source": [
    "df = pd.read_csv('database.csv')\n",
    "df.head(1)"
   ]
  },
  {
   "cell_type": "code",
   "execution_count": 65,
   "metadata": {
    "collapsed": true,
    "extensions": {
     "jupyter_dashboards": {
      "version": 1,
      "views": {
       "grid_default": {
        "hidden": true
       },
       "report_default": {
        "hidden": true
       }
      }
     }
    }
   },
   "outputs": [],
   "source": [
    "dirc = df[(df['Award'] == 'Directing')]['Film'].value_counts()\n",
    "dirc = dirc[(dirc.values > 3)]\n",
    "d = df[(df['Award'] == 'Directing') & df['Winner'] == 1]['Film'].value_counts()\n",
    "d = d[(d.values > 1)]\n",
    "won = []\n",
    "nomi = []\n",
    "for i in d.index:\n",
    "    if i in dirc.index:\n",
    "        won.append(d[i])\n",
    "        nomi.append(dirc[i])"
   ]
  },
  {
   "cell_type": "code",
   "execution_count": 66,
   "metadata": {
    "scrolled": true
   },
   "outputs": [
    {
     "data": {
      "application/vnd.plotly.v1+json": {
       "data": [
        {
         "name": "Nominations",
         "type": "bar",
         "x": [
          "John Ford",
          "Frank Capra",
          "William Wyler",
          "David Lean",
          "Leo McCarey",
          "Milos Forman",
          "Ang Lee",
          "Alejandro G. Iñárritu",
          "Clint Eastwood",
          "Oliver Stone",
          "Elia Kazan",
          "Fred Zinnemann",
          "Joseph L. Mankiewicz",
          "Steven Spielberg",
          "George Stevens",
          "Billy Wilder"
         ],
         "y": [
          5,
          5,
          12,
          7,
          4,
          5,
          7,
          4,
          7,
          5,
          8
         ]
        },
        {
         "name": "Won",
         "type": "bar",
         "x": [
          "John Ford",
          "Frank Capra",
          "William Wyler",
          "David Lean",
          "Leo McCarey",
          "Milos Forman",
          "Ang Lee",
          "Alejandro G. Iñárritu",
          "Clint Eastwood",
          "Oliver Stone",
          "Elia Kazan",
          "Fred Zinnemann",
          "Joseph L. Mankiewicz",
          "Steven Spielberg",
          "George Stevens",
          "Billy Wilder"
         ],
         "y": [
          4,
          3,
          3,
          2,
          2,
          2,
          2,
          2,
          2,
          2,
          2
         ]
        }
       ],
       "layout": {
        "barmode": "group",
        "height": 500,
        "title": "Nominations vs Wins of Directors with more than one oscar",
        "width": 800
       }
      },
      "text/html": [
       "<div id=\"e8db4e08-f227-4354-8d83-117ace0c9175\" style=\"height: 500px; width: 800px;\" class=\"plotly-graph-div\"></div><script type=\"text/javascript\">require([\"plotly\"], function(Plotly) { window.PLOTLYENV=window.PLOTLYENV || {};window.PLOTLYENV.BASE_URL=\"https://plot.ly\";Plotly.newPlot(\"e8db4e08-f227-4354-8d83-117ace0c9175\", [{\"type\": \"bar\", \"x\": [\"John Ford\", \"Frank Capra\", \"William Wyler\", \"David Lean\", \"Leo McCarey\", \"Milos Forman\", \"Ang Lee\", \"Alejandro G. I\\u00f1\\u00e1rritu\", \"Clint Eastwood\", \"Oliver Stone\", \"Elia Kazan\", \"Fred Zinnemann\", \"Joseph L. Mankiewicz\", \"Steven Spielberg\", \"George Stevens\", \"Billy Wilder\"], \"y\": [5, 5, 12, 7, 4, 5, 7, 4, 7, 5, 8], \"name\": \"Nominations\"}, {\"type\": \"bar\", \"x\": [\"John Ford\", \"Frank Capra\", \"William Wyler\", \"David Lean\", \"Leo McCarey\", \"Milos Forman\", \"Ang Lee\", \"Alejandro G. I\\u00f1\\u00e1rritu\", \"Clint Eastwood\", \"Oliver Stone\", \"Elia Kazan\", \"Fred Zinnemann\", \"Joseph L. Mankiewicz\", \"Steven Spielberg\", \"George Stevens\", \"Billy Wilder\"], \"y\": [4, 3, 3, 2, 2, 2, 2, 2, 2, 2, 2], \"name\": \"Won\"}], {\"barmode\": \"group\", \"title\": \"Nominations vs Wins of Directors with more than one oscar\", \"width\": 800, \"height\": 500}, {\"showLink\": true, \"linkText\": \"Export to plot.ly\"})});</script>"
      ],
      "text/vnd.plotly.v1+html": [
       "<div id=\"e8db4e08-f227-4354-8d83-117ace0c9175\" style=\"height: 500px; width: 800px;\" class=\"plotly-graph-div\"></div><script type=\"text/javascript\">require([\"plotly\"], function(Plotly) { window.PLOTLYENV=window.PLOTLYENV || {};window.PLOTLYENV.BASE_URL=\"https://plot.ly\";Plotly.newPlot(\"e8db4e08-f227-4354-8d83-117ace0c9175\", [{\"type\": \"bar\", \"x\": [\"John Ford\", \"Frank Capra\", \"William Wyler\", \"David Lean\", \"Leo McCarey\", \"Milos Forman\", \"Ang Lee\", \"Alejandro G. I\\u00f1\\u00e1rritu\", \"Clint Eastwood\", \"Oliver Stone\", \"Elia Kazan\", \"Fred Zinnemann\", \"Joseph L. Mankiewicz\", \"Steven Spielberg\", \"George Stevens\", \"Billy Wilder\"], \"y\": [5, 5, 12, 7, 4, 5, 7, 4, 7, 5, 8], \"name\": \"Nominations\"}, {\"type\": \"bar\", \"x\": [\"John Ford\", \"Frank Capra\", \"William Wyler\", \"David Lean\", \"Leo McCarey\", \"Milos Forman\", \"Ang Lee\", \"Alejandro G. I\\u00f1\\u00e1rritu\", \"Clint Eastwood\", \"Oliver Stone\", \"Elia Kazan\", \"Fred Zinnemann\", \"Joseph L. Mankiewicz\", \"Steven Spielberg\", \"George Stevens\", \"Billy Wilder\"], \"y\": [4, 3, 3, 2, 2, 2, 2, 2, 2, 2, 2], \"name\": \"Won\"}], {\"barmode\": \"group\", \"title\": \"Nominations vs Wins of Directors with more than one oscar\", \"width\": 800, \"height\": 500}, {\"showLink\": true, \"linkText\": \"Export to plot.ly\"})});</script>"
      ]
     },
     "metadata": {},
     "output_type": "display_data"
    }
   ],
   "source": [
    "trace1 = go.Bar(\n",
    "    x=d.index,\n",
    "    y=nomi,\n",
    "    name='Nominations'\n",
    ")\n",
    "trace2 = go.Bar(\n",
    "    x=d.index,\n",
    "    y=won,\n",
    "    name='Won'\n",
    ")\n",
    "\n",
    "data = [trace1, trace2]\n",
    "plotly.offline.iplot({\n",
    "    \"data\": data,\n",
    "    \"layout\": go.Layout(barmode='group', title=\"Nominations vs Wins of Directors with more than one oscar\"\n",
    "                           ,width=800,height=500,)\n",
    "})"
   ]
  },
  {
   "cell_type": "markdown",
   "metadata": {},
   "source": [
    "Looks like john ford has the highest win percentage of 80% and William Wyler has the lowest of 25%"
   ]
  },
  {
   "cell_type": "markdown",
   "metadata": {
    "extensions": {
     "jupyter_dashboards": {
      "version": 1,
      "views": {
       "grid_default": {
        "col": 0,
        "height": 7,
        "hidden": false,
        "row": 4,
        "width": 4
       },
       "report_default": {
        "hidden": false
       }
      }
     }
    }
   },
   "source": [
    "![img ](https://media.giphy.com/media/xT9IghIG6yXWd64Yms/giphy.gif)"
   ]
  },
  {
   "cell_type": "code",
   "execution_count": null,
   "metadata": {
    "collapsed": true
   },
   "outputs": [],
   "source": []
  },
  {
   "cell_type": "code",
   "execution_count": 103,
   "metadata": {},
   "outputs": [],
   "source": [
    "actor_nom = df[(df['Award'] == 'Actor') ]['Name'].value_counts()\n",
    "actor_nom = actor_nom[(actor_nom.values > 2)]\n",
    "actor_win =  df[(df['Award'] == 'Actor') & df['Winner'] == 1]['Name'].value_counts()\n",
    "won = []\n",
    "for i in actor_nom.index:\n",
    "    if i in actor_win.index:\n",
    "        won.append(actor_win[i])\n",
    "    else:\n",
    "        won.append(0)"
   ]
  },
  {
   "cell_type": "code",
   "execution_count": 113,
   "metadata": {
    "scrolled": true
   },
   "outputs": [
    {
     "data": {
      "application/vnd.plotly.v1+json": {
       "data": [
        {
         "name": "Nominations",
         "type": "bar",
         "x": [
          "Spencer Tracy",
          "Laurence Olivier",
          "Marlon Brando",
          "Paul Muni",
          "Richard Burton",
          "Fredric March",
          "Gary Cooper",
          "Gregory Peck",
          "James Stewart",
          "Peter O'Toole",
          "Charles Boyer",
          "Jack Lemmon",
          "Jack Nicholson",
          "Paul Newman",
          "Clark Gable",
          "James Cagney",
          "Charles Laughton",
          "Burt Lancaster",
          "Ronald Colman",
          "Kirk Douglas",
          "William Powell",
          "Dustin Hoffman",
          "Bing Crosby",
          "Al Pacino",
          "Humphrey Bogart",
          "Montgomery Clift"
         ],
         "y": [
          9,
          7,
          7,
          6,
          5,
          5,
          5,
          5,
          5,
          5,
          4,
          4,
          4,
          4,
          3,
          3,
          3,
          3,
          3,
          3,
          3,
          3,
          3,
          3,
          3,
          3
         ]
        },
        {
         "name": "Won",
         "type": "bar",
         "x": [
          "Spencer Tracy",
          "Laurence Olivier",
          "Marlon Brando",
          "Paul Muni",
          "Richard Burton",
          "Fredric March",
          "Gary Cooper",
          "Gregory Peck",
          "James Stewart",
          "Peter O'Toole",
          "Charles Boyer",
          "Jack Lemmon",
          "Jack Nicholson",
          "Paul Newman",
          "Clark Gable",
          "James Cagney",
          "Charles Laughton",
          "Burt Lancaster",
          "Ronald Colman",
          "Kirk Douglas",
          "William Powell",
          "Dustin Hoffman",
          "Bing Crosby",
          "Al Pacino",
          "Humphrey Bogart",
          "Montgomery Clift"
         ],
         "y": [
          2,
          3,
          1,
          1,
          0,
          1,
          0,
          2,
          2,
          1,
          0,
          2,
          0,
          1,
          2,
          1,
          1,
          0,
          0,
          1,
          1,
          0,
          0,
          0,
          1,
          1
         ]
        }
       ],
       "layout": {
        "barmode": "group",
        "height": 300,
        "title": "Nominations vs Wins of Actors with more than one oscar",
        "width": 1000
       }
      },
      "text/html": [
       "<div id=\"1db27aa1-8248-4c41-a23a-12ed8d8945bb\" style=\"height: 300px; width: 1000px;\" class=\"plotly-graph-div\"></div><script type=\"text/javascript\">require([\"plotly\"], function(Plotly) { window.PLOTLYENV=window.PLOTLYENV || {};window.PLOTLYENV.BASE_URL=\"https://plot.ly\";Plotly.newPlot(\"1db27aa1-8248-4c41-a23a-12ed8d8945bb\", [{\"type\": \"bar\", \"x\": [\"Spencer Tracy\", \"Laurence Olivier\", \"Marlon Brando\", \"Paul Muni\", \"Richard Burton\", \"Fredric March\", \"Gary Cooper\", \"Gregory Peck\", \"James Stewart\", \"Peter O'Toole\", \"Charles Boyer\", \"Jack Lemmon\", \"Jack Nicholson\", \"Paul Newman\", \"Clark Gable\", \"James Cagney\", \"Charles Laughton\", \"Burt Lancaster\", \"Ronald Colman\", \"Kirk Douglas\", \"William Powell\", \"Dustin Hoffman\", \"Bing Crosby\", \"Al Pacino\", \"Humphrey Bogart\", \"Montgomery Clift\"], \"y\": [9, 7, 7, 6, 5, 5, 5, 5, 5, 5, 4, 4, 4, 4, 3, 3, 3, 3, 3, 3, 3, 3, 3, 3, 3, 3], \"name\": \"Nominations\"}, {\"type\": \"bar\", \"x\": [\"Spencer Tracy\", \"Laurence Olivier\", \"Marlon Brando\", \"Paul Muni\", \"Richard Burton\", \"Fredric March\", \"Gary Cooper\", \"Gregory Peck\", \"James Stewart\", \"Peter O'Toole\", \"Charles Boyer\", \"Jack Lemmon\", \"Jack Nicholson\", \"Paul Newman\", \"Clark Gable\", \"James Cagney\", \"Charles Laughton\", \"Burt Lancaster\", \"Ronald Colman\", \"Kirk Douglas\", \"William Powell\", \"Dustin Hoffman\", \"Bing Crosby\", \"Al Pacino\", \"Humphrey Bogart\", \"Montgomery Clift\"], \"y\": [2, 3, 1, 1, 0, 1, 0, 2, 2, 1, 0, 2, 0, 1, 2, 1, 1, 0, 0, 1, 1, 0, 0, 0, 1, 1], \"name\": \"Won\"}], {\"barmode\": \"group\", \"title\": \"Nominations vs Wins of Actors with more than one oscar\", \"width\": 1000, \"height\": 300}, {\"showLink\": true, \"linkText\": \"Export to plot.ly\"})});</script>"
      ],
      "text/vnd.plotly.v1+html": [
       "<div id=\"1db27aa1-8248-4c41-a23a-12ed8d8945bb\" style=\"height: 300px; width: 1000px;\" class=\"plotly-graph-div\"></div><script type=\"text/javascript\">require([\"plotly\"], function(Plotly) { window.PLOTLYENV=window.PLOTLYENV || {};window.PLOTLYENV.BASE_URL=\"https://plot.ly\";Plotly.newPlot(\"1db27aa1-8248-4c41-a23a-12ed8d8945bb\", [{\"type\": \"bar\", \"x\": [\"Spencer Tracy\", \"Laurence Olivier\", \"Marlon Brando\", \"Paul Muni\", \"Richard Burton\", \"Fredric March\", \"Gary Cooper\", \"Gregory Peck\", \"James Stewart\", \"Peter O'Toole\", \"Charles Boyer\", \"Jack Lemmon\", \"Jack Nicholson\", \"Paul Newman\", \"Clark Gable\", \"James Cagney\", \"Charles Laughton\", \"Burt Lancaster\", \"Ronald Colman\", \"Kirk Douglas\", \"William Powell\", \"Dustin Hoffman\", \"Bing Crosby\", \"Al Pacino\", \"Humphrey Bogart\", \"Montgomery Clift\"], \"y\": [9, 7, 7, 6, 5, 5, 5, 5, 5, 5, 4, 4, 4, 4, 3, 3, 3, 3, 3, 3, 3, 3, 3, 3, 3, 3], \"name\": \"Nominations\"}, {\"type\": \"bar\", \"x\": [\"Spencer Tracy\", \"Laurence Olivier\", \"Marlon Brando\", \"Paul Muni\", \"Richard Burton\", \"Fredric March\", \"Gary Cooper\", \"Gregory Peck\", \"James Stewart\", \"Peter O'Toole\", \"Charles Boyer\", \"Jack Lemmon\", \"Jack Nicholson\", \"Paul Newman\", \"Clark Gable\", \"James Cagney\", \"Charles Laughton\", \"Burt Lancaster\", \"Ronald Colman\", \"Kirk Douglas\", \"William Powell\", \"Dustin Hoffman\", \"Bing Crosby\", \"Al Pacino\", \"Humphrey Bogart\", \"Montgomery Clift\"], \"y\": [2, 3, 1, 1, 0, 1, 0, 2, 2, 1, 0, 2, 0, 1, 2, 1, 1, 0, 0, 1, 1, 0, 0, 0, 1, 1], \"name\": \"Won\"}], {\"barmode\": \"group\", \"title\": \"Nominations vs Wins of Actors with more than one oscar\", \"width\": 1000, \"height\": 300}, {\"showLink\": true, \"linkText\": \"Export to plot.ly\"})});</script>"
      ]
     },
     "metadata": {},
     "output_type": "display_data"
    }
   ],
   "source": [
    "trace1 = go.Bar(\n",
    "    x=actor_nom.index,\n",
    "    y=actor_nom.values,\n",
    "    name='Nominations'\n",
    ")\n",
    "trace2 = go.Bar(\n",
    "    x=actor_nom.index,\n",
    "    y=won,\n",
    "    name='Won'\n",
    ")\n",
    "\n",
    "data = [trace1, trace2]\n",
    "plotly.offline.iplot({\n",
    "    \"data\": data,\n",
    "    \"layout\": go.Layout(barmode='group', title=\"Nominations vs Wins of Actors with more than one oscar\"\n",
    "                           ,width=1000,height=300,)\n",
    "})"
   ]
  },
  {
   "cell_type": "markdown",
   "metadata": {
    "extensions": {
     "jupyter_dashboards": {
      "version": 1,
      "views": {
       "grid_default": {
        "col": 4,
        "height": 7,
        "hidden": false,
        "row": 13,
        "width": 4
       },
       "report_default": {
        "hidden": false
       }
      }
     }
    }
   },
   "source": [
    "Spencer Tracy has the highest number of nominations and wins followed by Laurence Ol and Marlon brando"
   ]
  },
  {
   "cell_type": "code",
   "execution_count": 159,
   "metadata": {},
   "outputs": [
    {
     "data": {
      "application/vnd.plotly.v1+json": {
       "data": [
        {
         "name": "Nominations",
         "type": "bar",
         "x": [
          "Walter Brennan",
          "Arthur Kennedy",
          "Claude Rains",
          "Robert Duvall",
          "Jack Nicholson",
          "Jason Robards",
          "Ed Harris",
          "Charles Bickford",
          "Jeff Bridges",
          "Jack Palance",
          "Al Pacino",
          "Martin Landau",
          "Mark Ruffalo",
          "Charles Coburn",
          "Peter Ustinov",
          "Tommy Lee Jones",
          "Philip Seymour Hoffman",
          "Gig Young",
          "Gene Hackman"
         ],
         "y": [
          4,
          4,
          4,
          4,
          4,
          3,
          3,
          3,
          3,
          3,
          3,
          3,
          3,
          3,
          3,
          3,
          3,
          3,
          3
         ]
        },
        {
         "name": "Won",
         "type": "bar",
         "x": [
          "Walter Brennan",
          "Arthur Kennedy",
          "Claude Rains",
          "Robert Duvall",
          "Jack Nicholson",
          "Jason Robards",
          "Ed Harris",
          "Charles Bickford",
          "Jeff Bridges",
          "Jack Palance",
          "Al Pacino",
          "Martin Landau",
          "Mark Ruffalo",
          "Charles Coburn",
          "Peter Ustinov",
          "Tommy Lee Jones",
          "Philip Seymour Hoffman",
          "Gig Young",
          "Gene Hackman"
         ],
         "y": [
          3,
          0,
          0,
          0,
          1,
          2,
          0,
          0,
          0,
          1,
          0,
          1,
          0,
          1,
          2,
          1,
          0,
          1,
          1
         ]
        }
       ],
       "layout": {
        "barmode": "group",
        "height": 300,
        "title": "Nominations vs Wins of Actor in a Supporting Role with more than one oscar",
        "width": 1000
       }
      },
      "text/html": [
       "<div id=\"71e47196-8424-4c7f-a9b2-62dff36e499c\" style=\"height: 300px; width: 1000px;\" class=\"plotly-graph-div\"></div><script type=\"text/javascript\">require([\"plotly\"], function(Plotly) { window.PLOTLYENV=window.PLOTLYENV || {};window.PLOTLYENV.BASE_URL=\"https://plot.ly\";Plotly.newPlot(\"71e47196-8424-4c7f-a9b2-62dff36e499c\", [{\"type\": \"bar\", \"x\": [\"Walter Brennan\", \"Arthur Kennedy\", \"Claude Rains\", \"Robert Duvall\", \"Jack Nicholson\", \"Jason Robards\", \"Ed Harris\", \"Charles Bickford\", \"Jeff Bridges\", \"Jack Palance\", \"Al Pacino\", \"Martin Landau\", \"Mark Ruffalo\", \"Charles Coburn\", \"Peter Ustinov\", \"Tommy Lee Jones\", \"Philip Seymour Hoffman\", \"Gig Young\", \"Gene Hackman\"], \"y\": [4, 4, 4, 4, 4, 3, 3, 3, 3, 3, 3, 3, 3, 3, 3, 3, 3, 3, 3], \"name\": \"Nominations\"}, {\"type\": \"bar\", \"x\": [\"Walter Brennan\", \"Arthur Kennedy\", \"Claude Rains\", \"Robert Duvall\", \"Jack Nicholson\", \"Jason Robards\", \"Ed Harris\", \"Charles Bickford\", \"Jeff Bridges\", \"Jack Palance\", \"Al Pacino\", \"Martin Landau\", \"Mark Ruffalo\", \"Charles Coburn\", \"Peter Ustinov\", \"Tommy Lee Jones\", \"Philip Seymour Hoffman\", \"Gig Young\", \"Gene Hackman\"], \"y\": [3, 0, 0, 0, 1, 2, 0, 0, 0, 1, 0, 1, 0, 1, 2, 1, 0, 1, 1], \"name\": \"Won\"}], {\"barmode\": \"group\", \"title\": \"Nominations vs Wins of Actor in a Supporting Role with more than one oscar\", \"width\": 1000, \"height\": 300}, {\"showLink\": true, \"linkText\": \"Export to plot.ly\"})});</script>"
      ],
      "text/vnd.plotly.v1+html": [
       "<div id=\"71e47196-8424-4c7f-a9b2-62dff36e499c\" style=\"height: 300px; width: 1000px;\" class=\"plotly-graph-div\"></div><script type=\"text/javascript\">require([\"plotly\"], function(Plotly) { window.PLOTLYENV=window.PLOTLYENV || {};window.PLOTLYENV.BASE_URL=\"https://plot.ly\";Plotly.newPlot(\"71e47196-8424-4c7f-a9b2-62dff36e499c\", [{\"type\": \"bar\", \"x\": [\"Walter Brennan\", \"Arthur Kennedy\", \"Claude Rains\", \"Robert Duvall\", \"Jack Nicholson\", \"Jason Robards\", \"Ed Harris\", \"Charles Bickford\", \"Jeff Bridges\", \"Jack Palance\", \"Al Pacino\", \"Martin Landau\", \"Mark Ruffalo\", \"Charles Coburn\", \"Peter Ustinov\", \"Tommy Lee Jones\", \"Philip Seymour Hoffman\", \"Gig Young\", \"Gene Hackman\"], \"y\": [4, 4, 4, 4, 4, 3, 3, 3, 3, 3, 3, 3, 3, 3, 3, 3, 3, 3, 3], \"name\": \"Nominations\"}, {\"type\": \"bar\", \"x\": [\"Walter Brennan\", \"Arthur Kennedy\", \"Claude Rains\", \"Robert Duvall\", \"Jack Nicholson\", \"Jason Robards\", \"Ed Harris\", \"Charles Bickford\", \"Jeff Bridges\", \"Jack Palance\", \"Al Pacino\", \"Martin Landau\", \"Mark Ruffalo\", \"Charles Coburn\", \"Peter Ustinov\", \"Tommy Lee Jones\", \"Philip Seymour Hoffman\", \"Gig Young\", \"Gene Hackman\"], \"y\": [3, 0, 0, 0, 1, 2, 0, 0, 0, 1, 0, 1, 0, 1, 2, 1, 0, 1, 1], \"name\": \"Won\"}], {\"barmode\": \"group\", \"title\": \"Nominations vs Wins of Actor in a Supporting Role with more than one oscar\", \"width\": 1000, \"height\": 300}, {\"showLink\": true, \"linkText\": \"Export to plot.ly\"})});</script>"
      ]
     },
     "metadata": {},
     "output_type": "display_data"
    }
   ],
   "source": [
    "actor_nom = df[(df['Award'] == 'Actor in a Supporting Role') ]['Name'].value_counts()\n",
    "actor_nom = actor_nom[(actor_nom.values > 2)]\n",
    "actor_win =  df[(df['Award'] == 'Actor in a Supporting Role') & df['Winner'] == 1]['Name'].value_counts()\n",
    "won = []\n",
    "for i in actor_nom.index:\n",
    "    if i in actor_win.index:\n",
    "        won.append(actor_win[i])\n",
    "    else:\n",
    "        won.append(0)\n",
    "trace1 = go.Bar(\n",
    "    x=actor_nom.index,\n",
    "    y=actor_nom.values,\n",
    "    name='Nominations'\n",
    ")\n",
    "trace2 = go.Bar(\n",
    "    x=actor_nom.index,\n",
    "    y=won,\n",
    "    name='Won'\n",
    ")\n",
    "\n",
    "data = [trace1, trace2]\n",
    "plotly.offline.iplot({\n",
    "    \"data\": data,\n",
    "    \"layout\": go.Layout(barmode='group', title=\"Nominations vs Wins of Actor in a Supporting Role with more than one oscar\"\n",
    "                           ,width=1000,height=300,)\n",
    "})"
   ]
  },
  {
   "cell_type": "code",
   "execution_count": 161,
   "metadata": {},
   "outputs": [
    {
     "data": {
      "application/vnd.plotly.v1+json": {
       "data": [
        {
         "name": "Nominations",
         "type": "bar",
         "x": [
          "Robert De Niro",
          "Sean Penn",
          "Tom Hanks",
          "Denzel Washington",
          "Dustin Hoffman",
          "Paul Newman",
          "Leonardo DiCaprio",
          "Daniel Day-Lewis",
          "Jack Nicholson",
          "Peter O'Toole",
          "Russell Crowe",
          "William Hurt",
          "Robin Williams",
          "Johnny Depp",
          "Robert Duvall",
          "Warren Beatty",
          "Jack Lemmon",
          "Morgan Freeman",
          "George Clooney",
          "Anthony Hopkins",
          "Jeff Bridges"
         ],
         "y": [
          5,
          5,
          5,
          4,
          4,
          4,
          4,
          4,
          4,
          3,
          3,
          3,
          3,
          3,
          3,
          3,
          3,
          3,
          3,
          3,
          3
         ]
        },
        {
         "name": "Won",
         "type": "bar",
         "x": [
          "Robert De Niro",
          "Sean Penn",
          "Tom Hanks",
          "Denzel Washington",
          "Dustin Hoffman",
          "Paul Newman",
          "Leonardo DiCaprio",
          "Daniel Day-Lewis",
          "Jack Nicholson",
          "Peter O'Toole",
          "Russell Crowe",
          "William Hurt",
          "Robin Williams",
          "Johnny Depp",
          "Robert Duvall",
          "Warren Beatty",
          "Jack Lemmon",
          "Morgan Freeman",
          "George Clooney",
          "Anthony Hopkins",
          "Jeff Bridges"
         ],
         "y": [
          1,
          2,
          2,
          1,
          2,
          1,
          1,
          2,
          1,
          0,
          1,
          1,
          0,
          0,
          1,
          0,
          0,
          0,
          0,
          1,
          1
         ]
        }
       ],
       "layout": {
        "barmode": "group",
        "height": 300,
        "title": "Nominations vs Wins of Actor in a leading Role with more than one oscar",
        "width": 1000
       }
      },
      "text/html": [
       "<div id=\"51ae26aa-6e75-40bb-a5cc-f96bcdf6b8c0\" style=\"height: 300px; width: 1000px;\" class=\"plotly-graph-div\"></div><script type=\"text/javascript\">require([\"plotly\"], function(Plotly) { window.PLOTLYENV=window.PLOTLYENV || {};window.PLOTLYENV.BASE_URL=\"https://plot.ly\";Plotly.newPlot(\"51ae26aa-6e75-40bb-a5cc-f96bcdf6b8c0\", [{\"type\": \"bar\", \"x\": [\"Robert De Niro\", \"Sean Penn\", \"Tom Hanks\", \"Denzel Washington\", \"Dustin Hoffman\", \"Paul Newman\", \"Leonardo DiCaprio\", \"Daniel Day-Lewis\", \"Jack Nicholson\", \"Peter O'Toole\", \"Russell Crowe\", \"William Hurt\", \"Robin Williams\", \"Johnny Depp\", \"Robert Duvall\", \"Warren Beatty\", \"Jack Lemmon\", \"Morgan Freeman\", \"George Clooney\", \"Anthony Hopkins\", \"Jeff Bridges\"], \"y\": [5, 5, 5, 4, 4, 4, 4, 4, 4, 3, 3, 3, 3, 3, 3, 3, 3, 3, 3, 3, 3], \"name\": \"Nominations\"}, {\"type\": \"bar\", \"x\": [\"Robert De Niro\", \"Sean Penn\", \"Tom Hanks\", \"Denzel Washington\", \"Dustin Hoffman\", \"Paul Newman\", \"Leonardo DiCaprio\", \"Daniel Day-Lewis\", \"Jack Nicholson\", \"Peter O'Toole\", \"Russell Crowe\", \"William Hurt\", \"Robin Williams\", \"Johnny Depp\", \"Robert Duvall\", \"Warren Beatty\", \"Jack Lemmon\", \"Morgan Freeman\", \"George Clooney\", \"Anthony Hopkins\", \"Jeff Bridges\"], \"y\": [1, 2, 2, 1, 2, 1, 1, 2, 1, 0, 1, 1, 0, 0, 1, 0, 0, 0, 0, 1, 1], \"name\": \"Won\"}], {\"barmode\": \"group\", \"title\": \"Nominations vs Wins of Actor in a leading Role with more than one oscar\", \"width\": 1000, \"height\": 300}, {\"showLink\": true, \"linkText\": \"Export to plot.ly\"})});</script>"
      ],
      "text/vnd.plotly.v1+html": [
       "<div id=\"51ae26aa-6e75-40bb-a5cc-f96bcdf6b8c0\" style=\"height: 300px; width: 1000px;\" class=\"plotly-graph-div\"></div><script type=\"text/javascript\">require([\"plotly\"], function(Plotly) { window.PLOTLYENV=window.PLOTLYENV || {};window.PLOTLYENV.BASE_URL=\"https://plot.ly\";Plotly.newPlot(\"51ae26aa-6e75-40bb-a5cc-f96bcdf6b8c0\", [{\"type\": \"bar\", \"x\": [\"Robert De Niro\", \"Sean Penn\", \"Tom Hanks\", \"Denzel Washington\", \"Dustin Hoffman\", \"Paul Newman\", \"Leonardo DiCaprio\", \"Daniel Day-Lewis\", \"Jack Nicholson\", \"Peter O'Toole\", \"Russell Crowe\", \"William Hurt\", \"Robin Williams\", \"Johnny Depp\", \"Robert Duvall\", \"Warren Beatty\", \"Jack Lemmon\", \"Morgan Freeman\", \"George Clooney\", \"Anthony Hopkins\", \"Jeff Bridges\"], \"y\": [5, 5, 5, 4, 4, 4, 4, 4, 4, 3, 3, 3, 3, 3, 3, 3, 3, 3, 3, 3, 3], \"name\": \"Nominations\"}, {\"type\": \"bar\", \"x\": [\"Robert De Niro\", \"Sean Penn\", \"Tom Hanks\", \"Denzel Washington\", \"Dustin Hoffman\", \"Paul Newman\", \"Leonardo DiCaprio\", \"Daniel Day-Lewis\", \"Jack Nicholson\", \"Peter O'Toole\", \"Russell Crowe\", \"William Hurt\", \"Robin Williams\", \"Johnny Depp\", \"Robert Duvall\", \"Warren Beatty\", \"Jack Lemmon\", \"Morgan Freeman\", \"George Clooney\", \"Anthony Hopkins\", \"Jeff Bridges\"], \"y\": [1, 2, 2, 1, 2, 1, 1, 2, 1, 0, 1, 1, 0, 0, 1, 0, 0, 0, 0, 1, 1], \"name\": \"Won\"}], {\"barmode\": \"group\", \"title\": \"Nominations vs Wins of Actor in a leading Role with more than one oscar\", \"width\": 1000, \"height\": 300}, {\"showLink\": true, \"linkText\": \"Export to plot.ly\"})});</script>"
      ]
     },
     "metadata": {},
     "output_type": "display_data"
    }
   ],
   "source": [
    "actor_nom = df[(df['Award'] == 'Actor in a Leading Role') ]['Name'].value_counts()\n",
    "actor_nom = actor_nom[(actor_nom.values > 2)]\n",
    "actor_win =  df[(df['Award'] == 'Actor in a Leading Role') & df['Winner'] == 1]['Name'].value_counts()\n",
    "won = []\n",
    "for i in actor_nom.index:\n",
    "    if i in actor_win.index:\n",
    "        won.append(actor_win[i])\n",
    "    else:\n",
    "        won.append(0)\n",
    "trace1 = go.Bar(\n",
    "    x=actor_nom.index,\n",
    "    y=actor_nom.values,\n",
    "    name='Nominations'\n",
    ")\n",
    "trace2 = go.Bar(\n",
    "    x=actor_nom.index,\n",
    "    y=won,\n",
    "    name='Won'\n",
    ")\n",
    "\n",
    "data = [trace1, trace2]\n",
    "plotly.offline.iplot({\n",
    "    \"data\": data,\n",
    "    \"layout\": go.Layout(barmode='group', title=\"Nominations vs Wins of Actor in a leading Role with more than one oscar\"\n",
    "                           ,width=1000,height=300,)\n",
    "})"
   ]
  },
  {
   "cell_type": "markdown",
   "metadata": {},
   "source": [
    "![img ](https://media.giphy.com/media/2wYxEYYuf8Vs9hiWtQ/giphy.gif)"
   ]
  },
  {
   "cell_type": "code",
   "execution_count": 107,
   "metadata": {},
   "outputs": [],
   "source": [
    "actress_nom = df[(df['Award'] == 'Actress') ]['Name'].value_counts()\n",
    "actress_nom = actress_nom[(actress_nom.values >= 3)]\n",
    "actress_win =  df[(df['Award'] == 'Actress') & df['Winner'] == 1]['Name'].value_counts()\n",
    "won = []\n",
    "for i in actress_nom.index:\n",
    "    if i in actress_win.index:\n",
    "        won.append(actress_win[i])\n",
    "    else:\n",
    "        won.append(0)"
   ]
  },
  {
   "cell_type": "code",
   "execution_count": 114,
   "metadata": {
    "extensions": {
     "jupyter_dashboards": {
      "version": 1,
      "views": {
       "grid_default": {
        "col": 8,
        "height": 6,
        "hidden": false,
        "row": 13,
        "width": 4
       },
       "report_default": {
        "hidden": false
       }
      }
     }
    }
   },
   "outputs": [
    {
     "data": {
      "application/vnd.plotly.v1+json": {
       "data": [
        {
         "name": "Nominations",
         "type": "bar",
         "x": [
          "Bette Davis",
          "Katharine Hepburn",
          "Greer Garson",
          "Norma Shearer",
          "Deborah Kerr",
          "Audrey Hepburn",
          "Irene Dunne",
          "Ingrid Bergman",
          "Elizabeth Taylor",
          "Susan Hayward",
          "Barbara Stanwyck",
          "Glenda Jackson",
          "Rosalind Russell",
          "Jane Wyman",
          "Olivia de Havilland",
          "Jennifer Jones",
          "Joan Crawford",
          "Shirley MacLaine",
          "Greta Garbo",
          "Claudette Colbert",
          "Joanne Woodward",
          "Gloria Swanson",
          "Vanessa Redgrave",
          "Eleanor Parker",
          "Anne Bancroft",
          "Joan Fontaine"
         ],
         "y": [
          11,
          11,
          7,
          6,
          6,
          5,
          5,
          5,
          5,
          5,
          4,
          4,
          4,
          4,
          4,
          4,
          3,
          3,
          3,
          3,
          3,
          3,
          3,
          3,
          3,
          3
         ]
        },
        {
         "name": "Won",
         "type": "bar",
         "x": [
          "Bette Davis",
          "Katharine Hepburn",
          "Greer Garson",
          "Norma Shearer",
          "Deborah Kerr",
          "Audrey Hepburn",
          "Irene Dunne",
          "Ingrid Bergman",
          "Elizabeth Taylor",
          "Susan Hayward",
          "Barbara Stanwyck",
          "Glenda Jackson",
          "Rosalind Russell",
          "Jane Wyman",
          "Olivia de Havilland",
          "Jennifer Jones",
          "Joan Crawford",
          "Shirley MacLaine",
          "Greta Garbo",
          "Claudette Colbert",
          "Joanne Woodward",
          "Gloria Swanson",
          "Vanessa Redgrave",
          "Eleanor Parker",
          "Anne Bancroft",
          "Joan Fontaine"
         ],
         "y": [
          2,
          3,
          1,
          1,
          0,
          1,
          0,
          2,
          2,
          1,
          0,
          2,
          0,
          1,
          2,
          1,
          1,
          0,
          0,
          1,
          1,
          0,
          0,
          0,
          1,
          1
         ]
        }
       ],
       "layout": {
        "barmode": "group",
        "height": 300,
        "title": "Nominations vs Wins of actresss with more than one oscar",
        "width": 1000
       }
      },
      "text/html": [
       "<div id=\"bd9a6e63-2460-4eb0-a812-986833f98740\" style=\"height: 300px; width: 1000px;\" class=\"plotly-graph-div\"></div><script type=\"text/javascript\">require([\"plotly\"], function(Plotly) { window.PLOTLYENV=window.PLOTLYENV || {};window.PLOTLYENV.BASE_URL=\"https://plot.ly\";Plotly.newPlot(\"bd9a6e63-2460-4eb0-a812-986833f98740\", [{\"type\": \"bar\", \"x\": [\"Bette Davis\", \"Katharine Hepburn\", \"Greer Garson\", \"Norma Shearer\", \"Deborah Kerr\", \"Audrey Hepburn\", \"Irene Dunne\", \"Ingrid Bergman\", \"Elizabeth Taylor\", \"Susan Hayward\", \"Barbara Stanwyck\", \"Glenda Jackson\", \"Rosalind Russell\", \"Jane Wyman\", \"Olivia de Havilland\", \"Jennifer Jones\", \"Joan Crawford\", \"Shirley MacLaine\", \"Greta Garbo\", \"Claudette Colbert\", \"Joanne Woodward\", \"Gloria Swanson\", \"Vanessa Redgrave\", \"Eleanor Parker\", \"Anne Bancroft\", \"Joan Fontaine\"], \"y\": [11, 11, 7, 6, 6, 5, 5, 5, 5, 5, 4, 4, 4, 4, 4, 4, 3, 3, 3, 3, 3, 3, 3, 3, 3, 3], \"name\": \"Nominations\"}, {\"type\": \"bar\", \"x\": [\"Bette Davis\", \"Katharine Hepburn\", \"Greer Garson\", \"Norma Shearer\", \"Deborah Kerr\", \"Audrey Hepburn\", \"Irene Dunne\", \"Ingrid Bergman\", \"Elizabeth Taylor\", \"Susan Hayward\", \"Barbara Stanwyck\", \"Glenda Jackson\", \"Rosalind Russell\", \"Jane Wyman\", \"Olivia de Havilland\", \"Jennifer Jones\", \"Joan Crawford\", \"Shirley MacLaine\", \"Greta Garbo\", \"Claudette Colbert\", \"Joanne Woodward\", \"Gloria Swanson\", \"Vanessa Redgrave\", \"Eleanor Parker\", \"Anne Bancroft\", \"Joan Fontaine\"], \"y\": [2, 3, 1, 1, 0, 1, 0, 2, 2, 1, 0, 2, 0, 1, 2, 1, 1, 0, 0, 1, 1, 0, 0, 0, 1, 1], \"name\": \"Won\"}], {\"barmode\": \"group\", \"title\": \"Nominations vs Wins of actresss with more than one oscar\", \"width\": 1000, \"height\": 300}, {\"showLink\": true, \"linkText\": \"Export to plot.ly\"})});</script>"
      ],
      "text/vnd.plotly.v1+html": [
       "<div id=\"bd9a6e63-2460-4eb0-a812-986833f98740\" style=\"height: 300px; width: 1000px;\" class=\"plotly-graph-div\"></div><script type=\"text/javascript\">require([\"plotly\"], function(Plotly) { window.PLOTLYENV=window.PLOTLYENV || {};window.PLOTLYENV.BASE_URL=\"https://plot.ly\";Plotly.newPlot(\"bd9a6e63-2460-4eb0-a812-986833f98740\", [{\"type\": \"bar\", \"x\": [\"Bette Davis\", \"Katharine Hepburn\", \"Greer Garson\", \"Norma Shearer\", \"Deborah Kerr\", \"Audrey Hepburn\", \"Irene Dunne\", \"Ingrid Bergman\", \"Elizabeth Taylor\", \"Susan Hayward\", \"Barbara Stanwyck\", \"Glenda Jackson\", \"Rosalind Russell\", \"Jane Wyman\", \"Olivia de Havilland\", \"Jennifer Jones\", \"Joan Crawford\", \"Shirley MacLaine\", \"Greta Garbo\", \"Claudette Colbert\", \"Joanne Woodward\", \"Gloria Swanson\", \"Vanessa Redgrave\", \"Eleanor Parker\", \"Anne Bancroft\", \"Joan Fontaine\"], \"y\": [11, 11, 7, 6, 6, 5, 5, 5, 5, 5, 4, 4, 4, 4, 4, 4, 3, 3, 3, 3, 3, 3, 3, 3, 3, 3], \"name\": \"Nominations\"}, {\"type\": \"bar\", \"x\": [\"Bette Davis\", \"Katharine Hepburn\", \"Greer Garson\", \"Norma Shearer\", \"Deborah Kerr\", \"Audrey Hepburn\", \"Irene Dunne\", \"Ingrid Bergman\", \"Elizabeth Taylor\", \"Susan Hayward\", \"Barbara Stanwyck\", \"Glenda Jackson\", \"Rosalind Russell\", \"Jane Wyman\", \"Olivia de Havilland\", \"Jennifer Jones\", \"Joan Crawford\", \"Shirley MacLaine\", \"Greta Garbo\", \"Claudette Colbert\", \"Joanne Woodward\", \"Gloria Swanson\", \"Vanessa Redgrave\", \"Eleanor Parker\", \"Anne Bancroft\", \"Joan Fontaine\"], \"y\": [2, 3, 1, 1, 0, 1, 0, 2, 2, 1, 0, 2, 0, 1, 2, 1, 1, 0, 0, 1, 1, 0, 0, 0, 1, 1], \"name\": \"Won\"}], {\"barmode\": \"group\", \"title\": \"Nominations vs Wins of actresss with more than one oscar\", \"width\": 1000, \"height\": 300}, {\"showLink\": true, \"linkText\": \"Export to plot.ly\"})});</script>"
      ]
     },
     "metadata": {},
     "output_type": "display_data"
    }
   ],
   "source": [
    "trace1 = go.Bar(\n",
    "    x=actress_nom.index,\n",
    "    y=actress_nom.values,\n",
    "    name='Nominations'\n",
    ")\n",
    "trace2 = go.Bar(\n",
    "    x=actress_nom.index,\n",
    "    y=won,\n",
    "    name='Won'\n",
    ")\n",
    "\n",
    "data = [trace1, trace2]\n",
    "plotly.offline.iplot({\n",
    "    \"data\": data,\n",
    "    \"layout\": go.Layout(barmode='group', title=\"Nominations vs Wins of actresss with more than one oscar\"\n",
    "                           ,width=1000,height=300,)\n",
    "})"
   ]
  },
  {
   "cell_type": "code",
   "execution_count": 125,
   "metadata": {
    "scrolled": true
   },
   "outputs": [
    {
     "data": {
      "application/vnd.plotly.v1+json": {
       "data": [
        {
         "name": "Nominations",
         "type": "bar",
         "x": [
          "Meryl Streep",
          "Sissy Spacek",
          "Susan Sarandon",
          "Judi Dench",
          "Jessica Lange",
          "Jane Fonda",
          "Diane Keaton",
          "Kate Winslet",
          "Cate Blanchett",
          "Marsha Mason",
          "Emma Thompson",
          "Annette Bening",
          "Nicole Kidman",
          "Jennifer Lawrence",
          "Debra Winger",
          "Glenn Close",
          "Ellen Burstyn",
          "Jodie Foster",
          "Julianne Moore"
         ],
         "y": [
          15,
          6,
          5,
          5,
          5,
          4,
          4,
          4,
          4,
          3,
          3,
          3,
          3,
          3,
          3,
          3,
          3,
          3,
          3
         ]
        },
        {
         "name": "Won",
         "type": "bar",
         "x": [
          "Meryl Streep",
          "Sissy Spacek",
          "Susan Sarandon",
          "Judi Dench",
          "Jessica Lange",
          "Jane Fonda",
          "Diane Keaton",
          "Kate Winslet",
          "Cate Blanchett",
          "Marsha Mason",
          "Emma Thompson",
          "Annette Bening",
          "Nicole Kidman",
          "Jennifer Lawrence",
          "Debra Winger",
          "Glenn Close",
          "Ellen Burstyn",
          "Jodie Foster",
          "Julianne Moore"
         ],
         "y": [
          2,
          1,
          1,
          0,
          1,
          1,
          1,
          1,
          1,
          0,
          1,
          0,
          1,
          1,
          0,
          0,
          0,
          2,
          1
         ]
        }
       ],
       "layout": {
        "barmode": "group",
        "height": 300,
        "title": "Nominations vs Wins of actresss in Leading role with more than one oscar",
        "width": 1000
       }
      },
      "text/html": [
       "<div id=\"545de681-1c5e-4481-a74a-62497eb2c303\" style=\"height: 300px; width: 1000px;\" class=\"plotly-graph-div\"></div><script type=\"text/javascript\">require([\"plotly\"], function(Plotly) { window.PLOTLYENV=window.PLOTLYENV || {};window.PLOTLYENV.BASE_URL=\"https://plot.ly\";Plotly.newPlot(\"545de681-1c5e-4481-a74a-62497eb2c303\", [{\"type\": \"bar\", \"x\": [\"Meryl Streep\", \"Sissy Spacek\", \"Susan Sarandon\", \"Judi Dench\", \"Jessica Lange\", \"Jane Fonda\", \"Diane Keaton\", \"Kate Winslet\", \"Cate Blanchett\", \"Marsha Mason\", \"Emma Thompson\", \"Annette Bening\", \"Nicole Kidman\", \"Jennifer Lawrence\", \"Debra Winger\", \"Glenn Close\", \"Ellen Burstyn\", \"Jodie Foster\", \"Julianne Moore\"], \"y\": [15, 6, 5, 5, 5, 4, 4, 4, 4, 3, 3, 3, 3, 3, 3, 3, 3, 3, 3], \"name\": \"Nominations\"}, {\"type\": \"bar\", \"x\": [\"Meryl Streep\", \"Sissy Spacek\", \"Susan Sarandon\", \"Judi Dench\", \"Jessica Lange\", \"Jane Fonda\", \"Diane Keaton\", \"Kate Winslet\", \"Cate Blanchett\", \"Marsha Mason\", \"Emma Thompson\", \"Annette Bening\", \"Nicole Kidman\", \"Jennifer Lawrence\", \"Debra Winger\", \"Glenn Close\", \"Ellen Burstyn\", \"Jodie Foster\", \"Julianne Moore\"], \"y\": [2, 1, 1, 0, 1, 1, 1, 1, 1, 0, 1, 0, 1, 1, 0, 0, 0, 2, 1], \"name\": \"Won\"}], {\"barmode\": \"group\", \"title\": \"Nominations vs Wins of actresss in Leading role with more than one oscar\", \"width\": 1000, \"height\": 300}, {\"showLink\": true, \"linkText\": \"Export to plot.ly\"})});</script>"
      ],
      "text/vnd.plotly.v1+html": [
       "<div id=\"545de681-1c5e-4481-a74a-62497eb2c303\" style=\"height: 300px; width: 1000px;\" class=\"plotly-graph-div\"></div><script type=\"text/javascript\">require([\"plotly\"], function(Plotly) { window.PLOTLYENV=window.PLOTLYENV || {};window.PLOTLYENV.BASE_URL=\"https://plot.ly\";Plotly.newPlot(\"545de681-1c5e-4481-a74a-62497eb2c303\", [{\"type\": \"bar\", \"x\": [\"Meryl Streep\", \"Sissy Spacek\", \"Susan Sarandon\", \"Judi Dench\", \"Jessica Lange\", \"Jane Fonda\", \"Diane Keaton\", \"Kate Winslet\", \"Cate Blanchett\", \"Marsha Mason\", \"Emma Thompson\", \"Annette Bening\", \"Nicole Kidman\", \"Jennifer Lawrence\", \"Debra Winger\", \"Glenn Close\", \"Ellen Burstyn\", \"Jodie Foster\", \"Julianne Moore\"], \"y\": [15, 6, 5, 5, 5, 4, 4, 4, 4, 3, 3, 3, 3, 3, 3, 3, 3, 3, 3], \"name\": \"Nominations\"}, {\"type\": \"bar\", \"x\": [\"Meryl Streep\", \"Sissy Spacek\", \"Susan Sarandon\", \"Judi Dench\", \"Jessica Lange\", \"Jane Fonda\", \"Diane Keaton\", \"Kate Winslet\", \"Cate Blanchett\", \"Marsha Mason\", \"Emma Thompson\", \"Annette Bening\", \"Nicole Kidman\", \"Jennifer Lawrence\", \"Debra Winger\", \"Glenn Close\", \"Ellen Burstyn\", \"Jodie Foster\", \"Julianne Moore\"], \"y\": [2, 1, 1, 0, 1, 1, 1, 1, 1, 0, 1, 0, 1, 1, 0, 0, 0, 2, 1], \"name\": \"Won\"}], {\"barmode\": \"group\", \"title\": \"Nominations vs Wins of actresss in Leading role with more than one oscar\", \"width\": 1000, \"height\": 300}, {\"showLink\": true, \"linkText\": \"Export to plot.ly\"})});</script>"
      ]
     },
     "metadata": {},
     "output_type": "display_data"
    }
   ],
   "source": [
    "actress_nom = df[(df['Award'] == 'Actress in a Leading Role') ]['Name'].value_counts()\n",
    "actress_nom = actress_nom[(actress_nom.values > 2)]\n",
    "actress_win =  df[(df['Award'] == 'Actress in a Leading Role') & df['Winner'] == 1]['Name'].value_counts()\n",
    "won = []\n",
    "for i in actress_nom.index:\n",
    "    if i in actress_win.index:\n",
    "        won.append(actress_win[i])\n",
    "    else:\n",
    "        won.append(0)\n",
    "trace1 = go.Bar(\n",
    "    x=actress_nom.index,\n",
    "    y=actress_nom.values,\n",
    "    name='Nominations'\n",
    ")\n",
    "trace2 = go.Bar(\n",
    "    x=actress_nom.index,\n",
    "    y=won,\n",
    "    name='Won'\n",
    ")\n",
    "\n",
    "data = [trace1, trace2]\n",
    "plotly.offline.iplot({\n",
    "    \"data\": data,\n",
    "    \"layout\": go.Layout(barmode='group', title=\"Nominations vs Wins of actresss in Leading role with more than one oscar\"\n",
    "                           ,width=1000,height=300,)\n",
    "})"
   ]
  },
  {
   "cell_type": "markdown",
   "metadata": {},
   "source": [
    "![img ](https://media.giphy.com/media/l46CAeMR1XVgrpY5O/giphy.gif)"
   ]
  },
  {
   "cell_type": "code",
   "execution_count": 124,
   "metadata": {},
   "outputs": [
    {
     "data": {
      "application/vnd.plotly.v1+json": {
       "data": [
        {
         "name": "Nominations",
         "type": "bar",
         "x": [
          "Thelma Ritter",
          "Meryl Streep",
          "Maggie Smith",
          "Maureen Stapleton",
          "Agnes Moorehead",
          "Lee Grant",
          "Amy Adams",
          "Geraldine Page",
          "Ethel Barrymore",
          "Dianne Wiest",
          "Celeste Holm",
          "Cate Blanchett",
          "Gladys Cooper",
          "Marisa Tomei",
          "Frances McDormand",
          "Claire Trevor",
          "Diane Ladd",
          "Glenn Close",
          "Shelley Winters",
          "Anne Revere",
          "Kate Winslet",
          "Angela Lansbury"
         ],
         "y": [
          6,
          4,
          4,
          4,
          4,
          4,
          4,
          4,
          4,
          3,
          3,
          3,
          3,
          3,
          3,
          3,
          3,
          3,
          3,
          3,
          3,
          3
         ]
        },
        {
         "name": "Won",
         "type": "bar",
         "x": [
          "Thelma Ritter",
          "Meryl Streep",
          "Maggie Smith",
          "Maureen Stapleton",
          "Agnes Moorehead",
          "Lee Grant",
          "Amy Adams",
          "Geraldine Page",
          "Ethel Barrymore",
          "Dianne Wiest",
          "Celeste Holm",
          "Cate Blanchett",
          "Gladys Cooper",
          "Marisa Tomei",
          "Frances McDormand",
          "Claire Trevor",
          "Diane Ladd",
          "Glenn Close",
          "Shelley Winters",
          "Anne Revere",
          "Kate Winslet",
          "Angela Lansbury"
         ],
         "y": [
          0,
          1,
          1,
          1,
          0,
          1,
          0,
          0,
          1,
          2,
          1,
          1,
          0,
          1,
          0,
          1,
          0,
          0,
          2,
          1,
          0,
          0
         ]
        }
       ],
       "layout": {
        "barmode": "group",
        "height": 300,
        "title": "Nominations vs Wins of actresss in supporting role with more than one oscar",
        "width": 1000
       }
      },
      "text/html": [
       "<div id=\"7af6dfdc-3a7f-4563-9e28-24c269e27def\" style=\"height: 300px; width: 1000px;\" class=\"plotly-graph-div\"></div><script type=\"text/javascript\">require([\"plotly\"], function(Plotly) { window.PLOTLYENV=window.PLOTLYENV || {};window.PLOTLYENV.BASE_URL=\"https://plot.ly\";Plotly.newPlot(\"7af6dfdc-3a7f-4563-9e28-24c269e27def\", [{\"type\": \"bar\", \"x\": [\"Thelma Ritter\", \"Meryl Streep\", \"Maggie Smith\", \"Maureen Stapleton\", \"Agnes Moorehead\", \"Lee Grant\", \"Amy Adams\", \"Geraldine Page\", \"Ethel Barrymore\", \"Dianne Wiest\", \"Celeste Holm\", \"Cate Blanchett\", \"Gladys Cooper\", \"Marisa Tomei\", \"Frances McDormand\", \"Claire Trevor\", \"Diane Ladd\", \"Glenn Close\", \"Shelley Winters\", \"Anne Revere\", \"Kate Winslet\", \"Angela Lansbury\"], \"y\": [6, 4, 4, 4, 4, 4, 4, 4, 4, 3, 3, 3, 3, 3, 3, 3, 3, 3, 3, 3, 3, 3], \"name\": \"Nominations\"}, {\"type\": \"bar\", \"x\": [\"Thelma Ritter\", \"Meryl Streep\", \"Maggie Smith\", \"Maureen Stapleton\", \"Agnes Moorehead\", \"Lee Grant\", \"Amy Adams\", \"Geraldine Page\", \"Ethel Barrymore\", \"Dianne Wiest\", \"Celeste Holm\", \"Cate Blanchett\", \"Gladys Cooper\", \"Marisa Tomei\", \"Frances McDormand\", \"Claire Trevor\", \"Diane Ladd\", \"Glenn Close\", \"Shelley Winters\", \"Anne Revere\", \"Kate Winslet\", \"Angela Lansbury\"], \"y\": [0, 1, 1, 1, 0, 1, 0, 0, 1, 2, 1, 1, 0, 1, 0, 1, 0, 0, 2, 1, 0, 0], \"name\": \"Won\"}], {\"barmode\": \"group\", \"title\": \"Nominations vs Wins of actresss in supporting role with more than one oscar\", \"width\": 1000, \"height\": 300}, {\"showLink\": true, \"linkText\": \"Export to plot.ly\"})});</script>"
      ],
      "text/vnd.plotly.v1+html": [
       "<div id=\"7af6dfdc-3a7f-4563-9e28-24c269e27def\" style=\"height: 300px; width: 1000px;\" class=\"plotly-graph-div\"></div><script type=\"text/javascript\">require([\"plotly\"], function(Plotly) { window.PLOTLYENV=window.PLOTLYENV || {};window.PLOTLYENV.BASE_URL=\"https://plot.ly\";Plotly.newPlot(\"7af6dfdc-3a7f-4563-9e28-24c269e27def\", [{\"type\": \"bar\", \"x\": [\"Thelma Ritter\", \"Meryl Streep\", \"Maggie Smith\", \"Maureen Stapleton\", \"Agnes Moorehead\", \"Lee Grant\", \"Amy Adams\", \"Geraldine Page\", \"Ethel Barrymore\", \"Dianne Wiest\", \"Celeste Holm\", \"Cate Blanchett\", \"Gladys Cooper\", \"Marisa Tomei\", \"Frances McDormand\", \"Claire Trevor\", \"Diane Ladd\", \"Glenn Close\", \"Shelley Winters\", \"Anne Revere\", \"Kate Winslet\", \"Angela Lansbury\"], \"y\": [6, 4, 4, 4, 4, 4, 4, 4, 4, 3, 3, 3, 3, 3, 3, 3, 3, 3, 3, 3, 3, 3], \"name\": \"Nominations\"}, {\"type\": \"bar\", \"x\": [\"Thelma Ritter\", \"Meryl Streep\", \"Maggie Smith\", \"Maureen Stapleton\", \"Agnes Moorehead\", \"Lee Grant\", \"Amy Adams\", \"Geraldine Page\", \"Ethel Barrymore\", \"Dianne Wiest\", \"Celeste Holm\", \"Cate Blanchett\", \"Gladys Cooper\", \"Marisa Tomei\", \"Frances McDormand\", \"Claire Trevor\", \"Diane Ladd\", \"Glenn Close\", \"Shelley Winters\", \"Anne Revere\", \"Kate Winslet\", \"Angela Lansbury\"], \"y\": [0, 1, 1, 1, 0, 1, 0, 0, 1, 2, 1, 1, 0, 1, 0, 1, 0, 0, 2, 1, 0, 0], \"name\": \"Won\"}], {\"barmode\": \"group\", \"title\": \"Nominations vs Wins of actresss in supporting role with more than one oscar\", \"width\": 1000, \"height\": 300}, {\"showLink\": true, \"linkText\": \"Export to plot.ly\"})});</script>"
      ]
     },
     "metadata": {},
     "output_type": "display_data"
    }
   ],
   "source": [
    "actress_nom = df[(df['Award'] == 'Actress in a Supporting Role') ]['Name'].value_counts()\n",
    "actress_nom = actress_nom[(actress_nom.values > 2)]\n",
    "actress_win =  df[(df['Award'] == 'Actress in a Supporting Role') & df['Winner'] == 1]['Name'].value_counts()\n",
    "won = []\n",
    "for i in actress_nom.index:\n",
    "    if i in actress_win.index:\n",
    "        won.append(actress_win[i])\n",
    "    else:\n",
    "        won.append(0)\n",
    "trace1 = go.Bar(\n",
    "    x=actress_nom.index,\n",
    "    y=actress_nom.values,\n",
    "    name='Nominations'\n",
    ")\n",
    "trace2 = go.Bar(\n",
    "    x=actress_nom.index,\n",
    "    y=won,\n",
    "    name='Won'\n",
    ")\n",
    "\n",
    "data = [trace1, trace2]\n",
    "plotly.offline.iplot({\n",
    "    \"data\": data,\n",
    "    \"layout\": go.Layout(barmode='group', title=\"Nominations vs Wins of actresss in supporting role with more than one oscar\"\n",
    "                           ,width=1000,height=300,)\n",
    "})"
   ]
  },
  {
   "cell_type": "code",
   "execution_count": 233,
   "metadata": {},
   "outputs": [
    {
     "data": {
      "application/vnd.plotly.v1+json": {
       "data": [
        {
         "marker": {
          "color": [
           33,
           33,
           32,
           32,
           31,
           31,
           30,
           30,
           30,
           30,
           30,
           30,
           30,
           30,
           30,
           30,
           30,
           30,
           29,
           29,
           29,
           29,
           29,
           29,
           29,
           29,
           29,
           29,
           29,
           29,
           28,
           28,
           28,
           28,
           28,
           28,
           28,
           28,
           28,
           28,
           28,
           27,
           27,
           27,
           27,
           27,
           27,
           27,
           27,
           27,
           27,
           27,
           27,
           27,
           27,
           27,
           27,
           26,
           26,
           26,
           26,
           26,
           26,
           26,
           26,
           26,
           25,
           25,
           25,
           25,
           25,
           25,
           25,
           25,
           24,
           24,
           24,
           23,
           23,
           22,
           19,
           18,
           17,
           15,
           14,
           9,
           8,
           7
          ],
          "colorscale": "Viridis",
          "showscale": true,
          "size": 15
         },
         "mode": "markers",
         "type": "scatter",
         "x": [
          "1954",
          "1952",
          "1949",
          "1948",
          "1953",
          "2001",
          "2012",
          "2013",
          "1979",
          "1966",
          "1942",
          "1950",
          "1961",
          "1978",
          "2014",
          "1970",
          "1956",
          "1990",
          "1996",
          "2011",
          "1951",
          "2010",
          "1999",
          "2000",
          "1991",
          "1977",
          "1965",
          "1992",
          "1960",
          "2006",
          "2007",
          "2009",
          "1945",
          "1946",
          "1959",
          "1941",
          "1984",
          "2004",
          "1995",
          "1947",
          "1994",
          "2002",
          "1989",
          "1944",
          "1955",
          "1981",
          "1998",
          "1988",
          "2008",
          "1986",
          "2003",
          "1997",
          "1982",
          "1964",
          "1963",
          "2005",
          "1985",
          "2015",
          "1943",
          "1967",
          "1968",
          "1983",
          "1993",
          "1939",
          "1962",
          "1975",
          "1937",
          "1938",
          "1958",
          "1987",
          "1973",
          "1974",
          "1972",
          "1957",
          "1976",
          "1969",
          "1940",
          "1971",
          "1980",
          "1936",
          "1932/1933",
          "1935",
          "1934",
          "1927/1928",
          "1931/1932",
          "1930/1931",
          "1929/1930",
          "1928/1929"
         ],
         "y": [
          33,
          33,
          32,
          32,
          31,
          31,
          30,
          30,
          30,
          30,
          30,
          30,
          30,
          30,
          30,
          30,
          30,
          30,
          29,
          29,
          29,
          29,
          29,
          29,
          29,
          29,
          29,
          29,
          29,
          29,
          28,
          28,
          28,
          28,
          28,
          28,
          28,
          28,
          28,
          28,
          28,
          27,
          27,
          27,
          27,
          27,
          27,
          27,
          27,
          27,
          27,
          27,
          27,
          27,
          27,
          27,
          27,
          26,
          26,
          26,
          26,
          26,
          26,
          26,
          26,
          26,
          25,
          25,
          25,
          25,
          25,
          25,
          25,
          25,
          24,
          24,
          24,
          23,
          23,
          22,
          19,
          18,
          17,
          15,
          14,
          9,
          8,
          7
         ]
        }
       ],
       "layout": {
        "height": 300,
        "title": "Number of Oscars given out over the years ",
        "width": 1000
       }
      },
      "text/html": [
       "<div id=\"3e93d709-0004-4e15-a28b-b2bf44e962bf\" style=\"height: 300px; width: 1000px;\" class=\"plotly-graph-div\"></div><script type=\"text/javascript\">require([\"plotly\"], function(Plotly) { window.PLOTLYENV=window.PLOTLYENV || {};window.PLOTLYENV.BASE_URL=\"https://plot.ly\";Plotly.newPlot(\"3e93d709-0004-4e15-a28b-b2bf44e962bf\", [{\"type\": \"scatter\", \"x\": [\"1954\", \"1952\", \"1949\", \"1948\", \"1953\", \"2001\", \"2012\", \"2013\", \"1979\", \"1966\", \"1942\", \"1950\", \"1961\", \"1978\", \"2014\", \"1970\", \"1956\", \"1990\", \"1996\", \"2011\", \"1951\", \"2010\", \"1999\", \"2000\", \"1991\", \"1977\", \"1965\", \"1992\", \"1960\", \"2006\", \"2007\", \"2009\", \"1945\", \"1946\", \"1959\", \"1941\", \"1984\", \"2004\", \"1995\", \"1947\", \"1994\", \"2002\", \"1989\", \"1944\", \"1955\", \"1981\", \"1998\", \"1988\", \"2008\", \"1986\", \"2003\", \"1997\", \"1982\", \"1964\", \"1963\", \"2005\", \"1985\", \"2015\", \"1943\", \"1967\", \"1968\", \"1983\", \"1993\", \"1939\", \"1962\", \"1975\", \"1937\", \"1938\", \"1958\", \"1987\", \"1973\", \"1974\", \"1972\", \"1957\", \"1976\", \"1969\", \"1940\", \"1971\", \"1980\", \"1936\", \"1932/1933\", \"1935\", \"1934\", \"1927/1928\", \"1931/1932\", \"1930/1931\", \"1929/1930\", \"1928/1929\"], \"y\": [33, 33, 32, 32, 31, 31, 30, 30, 30, 30, 30, 30, 30, 30, 30, 30, 30, 30, 29, 29, 29, 29, 29, 29, 29, 29, 29, 29, 29, 29, 28, 28, 28, 28, 28, 28, 28, 28, 28, 28, 28, 27, 27, 27, 27, 27, 27, 27, 27, 27, 27, 27, 27, 27, 27, 27, 27, 26, 26, 26, 26, 26, 26, 26, 26, 26, 25, 25, 25, 25, 25, 25, 25, 25, 24, 24, 24, 23, 23, 22, 19, 18, 17, 15, 14, 9, 8, 7], \"mode\": \"markers\", \"marker\": {\"size\": 15, \"color\": [33, 33, 32, 32, 31, 31, 30, 30, 30, 30, 30, 30, 30, 30, 30, 30, 30, 30, 29, 29, 29, 29, 29, 29, 29, 29, 29, 29, 29, 29, 28, 28, 28, 28, 28, 28, 28, 28, 28, 28, 28, 27, 27, 27, 27, 27, 27, 27, 27, 27, 27, 27, 27, 27, 27, 27, 27, 26, 26, 26, 26, 26, 26, 26, 26, 26, 25, 25, 25, 25, 25, 25, 25, 25, 24, 24, 24, 23, 23, 22, 19, 18, 17, 15, 14, 9, 8, 7], \"colorscale\": \"Viridis\", \"showscale\": true}}], {\"title\": \"Number of Oscars given out over the years \", \"width\": 1000, \"height\": 300}, {\"showLink\": true, \"linkText\": \"Export to plot.ly\"})});</script>"
      ],
      "text/vnd.plotly.v1+html": [
       "<div id=\"3e93d709-0004-4e15-a28b-b2bf44e962bf\" style=\"height: 300px; width: 1000px;\" class=\"plotly-graph-div\"></div><script type=\"text/javascript\">require([\"plotly\"], function(Plotly) { window.PLOTLYENV=window.PLOTLYENV || {};window.PLOTLYENV.BASE_URL=\"https://plot.ly\";Plotly.newPlot(\"3e93d709-0004-4e15-a28b-b2bf44e962bf\", [{\"type\": \"scatter\", \"x\": [\"1954\", \"1952\", \"1949\", \"1948\", \"1953\", \"2001\", \"2012\", \"2013\", \"1979\", \"1966\", \"1942\", \"1950\", \"1961\", \"1978\", \"2014\", \"1970\", \"1956\", \"1990\", \"1996\", \"2011\", \"1951\", \"2010\", \"1999\", \"2000\", \"1991\", \"1977\", \"1965\", \"1992\", \"1960\", \"2006\", \"2007\", \"2009\", \"1945\", \"1946\", \"1959\", \"1941\", \"1984\", \"2004\", \"1995\", \"1947\", \"1994\", \"2002\", \"1989\", \"1944\", \"1955\", \"1981\", \"1998\", \"1988\", \"2008\", \"1986\", \"2003\", \"1997\", \"1982\", \"1964\", \"1963\", \"2005\", \"1985\", \"2015\", \"1943\", \"1967\", \"1968\", \"1983\", \"1993\", \"1939\", \"1962\", \"1975\", \"1937\", \"1938\", \"1958\", \"1987\", \"1973\", \"1974\", \"1972\", \"1957\", \"1976\", \"1969\", \"1940\", \"1971\", \"1980\", \"1936\", \"1932/1933\", \"1935\", \"1934\", \"1927/1928\", \"1931/1932\", \"1930/1931\", \"1929/1930\", \"1928/1929\"], \"y\": [33, 33, 32, 32, 31, 31, 30, 30, 30, 30, 30, 30, 30, 30, 30, 30, 30, 30, 29, 29, 29, 29, 29, 29, 29, 29, 29, 29, 29, 29, 28, 28, 28, 28, 28, 28, 28, 28, 28, 28, 28, 27, 27, 27, 27, 27, 27, 27, 27, 27, 27, 27, 27, 27, 27, 27, 27, 26, 26, 26, 26, 26, 26, 26, 26, 26, 25, 25, 25, 25, 25, 25, 25, 25, 24, 24, 24, 23, 23, 22, 19, 18, 17, 15, 14, 9, 8, 7], \"mode\": \"markers\", \"marker\": {\"size\": 15, \"color\": [33, 33, 32, 32, 31, 31, 30, 30, 30, 30, 30, 30, 30, 30, 30, 30, 30, 30, 29, 29, 29, 29, 29, 29, 29, 29, 29, 29, 29, 29, 28, 28, 28, 28, 28, 28, 28, 28, 28, 28, 28, 27, 27, 27, 27, 27, 27, 27, 27, 27, 27, 27, 27, 27, 27, 27, 27, 26, 26, 26, 26, 26, 26, 26, 26, 26, 25, 25, 25, 25, 25, 25, 25, 25, 24, 24, 24, 23, 23, 22, 19, 18, 17, 15, 14, 9, 8, 7], \"colorscale\": \"Viridis\", \"showscale\": true}}], {\"title\": \"Number of Oscars given out over the years \", \"width\": 1000, \"height\": 300}, {\"showLink\": true, \"linkText\": \"Export to plot.ly\"})});</script>"
      ]
     },
     "metadata": {},
     "output_type": "display_data"
    }
   ],
   "source": [
    "dd = df[(df['Winner'] == 1)]\n",
    "years = dd['Year'].value_counts()\n",
    "trace = go.Scatter(\n",
    "    x = years.index,\n",
    "    y = years.values,    \n",
    "    mode='markers',\n",
    "    marker=dict(\n",
    "        size=15,\n",
    "        color = years.values, \n",
    "        colorscale='Viridis',\n",
    "        showscale=True\n",
    "    )\n",
    ")\n",
    "plotly.offline.iplot({\n",
    "    \"data\": [trace],\n",
    "    \"layout\": go.Layout(title=\"Number of Oscars given out over the years \"\n",
    "                           ,width=1000,height=300,)\n",
    "})"
   ]
  },
  {
   "cell_type": "markdown",
   "metadata": {},
   "source": [
    "### On an average about 20-30 Academy Awards are given out each year"
   ]
  },
  {
   "cell_type": "code",
   "execution_count": 227,
   "metadata": {},
   "outputs": [],
   "source": [
    "dd = dd['Name'].value_counts()"
   ]
  },
  {
   "cell_type": "code",
   "execution_count": 230,
   "metadata": {},
   "outputs": [
    {
     "data": {
      "application/vnd.plotly.v1+json": {
       "data": [
        {
         "marker": {
          "opacity": [
           22,
           20,
           18,
           18,
           16,
           16,
           16,
           14,
           14,
           14,
           14,
           14,
           14,
           14,
           14,
           14,
           14,
           12,
           12,
           12,
           12,
           12,
           12,
           12,
           12,
           12,
           12,
           12,
           10,
           10,
           10,
           10,
           10,
           10,
           10,
           10,
           10,
           10,
           10,
           10,
           10,
           10,
           10,
           10,
           10,
           10,
           10
          ],
          "size": [
           22,
           20,
           18,
           18,
           16,
           16,
           16,
           14,
           14,
           14,
           14,
           14,
           14,
           14,
           14,
           14,
           14,
           12,
           12,
           12,
           12,
           12,
           12,
           12,
           12,
           12,
           12,
           12,
           10,
           10,
           10,
           10,
           10,
           10,
           10,
           10,
           10,
           10,
           10,
           10,
           10,
           10,
           10,
           10,
           10,
           10,
           10
          ]
         },
         "mode": "markers",
         "type": "scatter",
         "x": [
          "Titanic ",
          "The Lord of the Rings: The Return of the King ",
          "Ben-Hur ",
          "The Last Emperor ",
          "West Side Story ",
          "The English Patient ",
          "Gigi ",
          "Lawrence of Arabia ",
          "My Fair Lady ",
          "Slumdog Millionaire ",
          "Gandhi ",
          "Out of Africa ",
          "The Sting ",
          "Schindler's List ",
          "Amadeus ",
          "Gravity ",
          "Dances With Wolves ",
          "Mad Max: Fury Road",
          "Star Wars ",
          "From Here to Eternity ",
          "The Hurt Locker ",
          "Cabaret ",
          "Gone with the Wind ",
          "On the Waterfront ",
          "Patton ",
          "The Bridge on the River Kwai ",
          "A Place in the Sun ",
          "An American in Paris ",
          "Saving Private Ryan ",
          "Shakespeare in Love ",
          "Forrest Gump ",
          "Wilson ",
          "Cleopatra ",
          "Oliver! ",
          "The Best Years of Our Lives ",
          "A Man for All Seasons ",
          "The Apartment ",
          "Chicago ",
          "Raiders of the Lost Ark ",
          "Braveheart ",
          "Doctor Zhivago ",
          "Bob Hope",
          "The Sound of Music ",
          "All about Eve ",
          "Hugo ",
          "The Godfather Part II ",
          "Around the World in 80 Days "
         ],
         "y": [
          11,
          10,
          9,
          9,
          8,
          8,
          8,
          7,
          7,
          7,
          7,
          7,
          7,
          7,
          7,
          7,
          7,
          6,
          6,
          6,
          6,
          6,
          6,
          6,
          6,
          6,
          6,
          6,
          5,
          5,
          5,
          5,
          5,
          5,
          5,
          5,
          5,
          5,
          5,
          5,
          5,
          5,
          5,
          5,
          5,
          5,
          5
         ]
        }
       ],
       "layout": {
        "height": 300,
        "title": "Movies/ Artist with most Oscar wins (Any Award) ",
        "width": 1000
       }
      },
      "text/html": [
       "<div id=\"43ef5efd-cf16-41ff-9f77-920d82a46641\" style=\"height: 300px; width: 1000px;\" class=\"plotly-graph-div\"></div><script type=\"text/javascript\">require([\"plotly\"], function(Plotly) { window.PLOTLYENV=window.PLOTLYENV || {};window.PLOTLYENV.BASE_URL=\"https://plot.ly\";Plotly.newPlot(\"43ef5efd-cf16-41ff-9f77-920d82a46641\", [{\"type\": \"scatter\", \"x\": [\"Titanic \", \"The Lord of the Rings: The Return of the King \", \"Ben-Hur \", \"The Last Emperor \", \"West Side Story \", \"The English Patient \", \"Gigi \", \"Lawrence of Arabia \", \"My Fair Lady \", \"Slumdog Millionaire \", \"Gandhi \", \"Out of Africa \", \"The Sting \", \"Schindler's List \", \"Amadeus \", \"Gravity \", \"Dances With Wolves \", \"Mad Max: Fury Road\", \"Star Wars \", \"From Here to Eternity \", \"The Hurt Locker \", \"Cabaret \", \"Gone with the Wind \", \"On the Waterfront \", \"Patton \", \"The Bridge on the River Kwai \", \"A Place in the Sun \", \"An American in Paris \", \"Saving Private Ryan \", \"Shakespeare in Love \", \"Forrest Gump \", \"Wilson \", \"Cleopatra \", \"Oliver! \", \"The Best Years of Our Lives \", \"A Man for All Seasons \", \"The Apartment \", \"Chicago \", \"Raiders of the Lost Ark \", \"Braveheart \", \"Doctor Zhivago \", \"Bob Hope\", \"The Sound of Music \", \"All about Eve \", \"Hugo \", \"The Godfather Part II \", \"Around the World in 80 Days \"], \"y\": [11, 10, 9, 9, 8, 8, 8, 7, 7, 7, 7, 7, 7, 7, 7, 7, 7, 6, 6, 6, 6, 6, 6, 6, 6, 6, 6, 6, 5, 5, 5, 5, 5, 5, 5, 5, 5, 5, 5, 5, 5, 5, 5, 5, 5, 5, 5], \"mode\": \"markers\", \"marker\": {\"opacity\": [22, 20, 18, 18, 16, 16, 16, 14, 14, 14, 14, 14, 14, 14, 14, 14, 14, 12, 12, 12, 12, 12, 12, 12, 12, 12, 12, 12, 10, 10, 10, 10, 10, 10, 10, 10, 10, 10, 10, 10, 10, 10, 10, 10, 10, 10, 10], \"size\": [22, 20, 18, 18, 16, 16, 16, 14, 14, 14, 14, 14, 14, 14, 14, 14, 14, 12, 12, 12, 12, 12, 12, 12, 12, 12, 12, 12, 10, 10, 10, 10, 10, 10, 10, 10, 10, 10, 10, 10, 10, 10, 10, 10, 10, 10, 10]}}], {\"title\": \"Movies/ Artist with most Oscar wins (Any Award) \", \"width\": 1000, \"height\": 300}, {\"showLink\": true, \"linkText\": \"Export to plot.ly\"})});</script>"
      ],
      "text/vnd.plotly.v1+html": [
       "<div id=\"43ef5efd-cf16-41ff-9f77-920d82a46641\" style=\"height: 300px; width: 1000px;\" class=\"plotly-graph-div\"></div><script type=\"text/javascript\">require([\"plotly\"], function(Plotly) { window.PLOTLYENV=window.PLOTLYENV || {};window.PLOTLYENV.BASE_URL=\"https://plot.ly\";Plotly.newPlot(\"43ef5efd-cf16-41ff-9f77-920d82a46641\", [{\"type\": \"scatter\", \"x\": [\"Titanic \", \"The Lord of the Rings: The Return of the King \", \"Ben-Hur \", \"The Last Emperor \", \"West Side Story \", \"The English Patient \", \"Gigi \", \"Lawrence of Arabia \", \"My Fair Lady \", \"Slumdog Millionaire \", \"Gandhi \", \"Out of Africa \", \"The Sting \", \"Schindler's List \", \"Amadeus \", \"Gravity \", \"Dances With Wolves \", \"Mad Max: Fury Road\", \"Star Wars \", \"From Here to Eternity \", \"The Hurt Locker \", \"Cabaret \", \"Gone with the Wind \", \"On the Waterfront \", \"Patton \", \"The Bridge on the River Kwai \", \"A Place in the Sun \", \"An American in Paris \", \"Saving Private Ryan \", \"Shakespeare in Love \", \"Forrest Gump \", \"Wilson \", \"Cleopatra \", \"Oliver! \", \"The Best Years of Our Lives \", \"A Man for All Seasons \", \"The Apartment \", \"Chicago \", \"Raiders of the Lost Ark \", \"Braveheart \", \"Doctor Zhivago \", \"Bob Hope\", \"The Sound of Music \", \"All about Eve \", \"Hugo \", \"The Godfather Part II \", \"Around the World in 80 Days \"], \"y\": [11, 10, 9, 9, 8, 8, 8, 7, 7, 7, 7, 7, 7, 7, 7, 7, 7, 6, 6, 6, 6, 6, 6, 6, 6, 6, 6, 6, 5, 5, 5, 5, 5, 5, 5, 5, 5, 5, 5, 5, 5, 5, 5, 5, 5, 5, 5], \"mode\": \"markers\", \"marker\": {\"opacity\": [22, 20, 18, 18, 16, 16, 16, 14, 14, 14, 14, 14, 14, 14, 14, 14, 14, 12, 12, 12, 12, 12, 12, 12, 12, 12, 12, 12, 10, 10, 10, 10, 10, 10, 10, 10, 10, 10, 10, 10, 10, 10, 10, 10, 10, 10, 10], \"size\": [22, 20, 18, 18, 16, 16, 16, 14, 14, 14, 14, 14, 14, 14, 14, 14, 14, 12, 12, 12, 12, 12, 12, 12, 12, 12, 12, 12, 10, 10, 10, 10, 10, 10, 10, 10, 10, 10, 10, 10, 10, 10, 10, 10, 10, 10, 10]}}], {\"title\": \"Movies/ Artist with most Oscar wins (Any Award) \", \"width\": 1000, \"height\": 300}, {\"showLink\": true, \"linkText\": \"Export to plot.ly\"})});</script>"
      ]
     },
     "metadata": {},
     "output_type": "display_data"
    }
   ],
   "source": [
    "ds = dd[(dd.values > 4)]\n",
    "size = ds.values*2\n",
    "trace0 = go.Scatter(\n",
    "    x=ds.index,\n",
    "    y=ds.values,\n",
    "    mode='markers',\n",
    "    marker=dict(\n",
    "        opacity= size,\n",
    "        size= size ,\n",
    "    )\n",
    ")\n",
    "\n",
    "data = [trace0]\n",
    "plotly.offline.iplot({\n",
    "    \"data\": [trace0],\n",
    "    \"layout\": go.Layout(title=\"Movies/ Artist with most Oscar wins (Any Award) \"\n",
    "                           ,width=1000,height=300,)\n",
    "})"
   ]
  },
  {
   "cell_type": "markdown",
   "metadata": {},
   "source": [
    "![img ](https://media.giphy.com/media/3o6EhZHDSQe9Bi4LYs/giphy.gif)"
   ]
  },
  {
   "cell_type": "markdown",
   "metadata": {},
   "source": [
    "## Winners of Gordon E Sawyer Award over the years"
   ]
  },
  {
   "cell_type": "code",
   "execution_count": 145,
   "metadata": {
    "extensions": {
     "jupyter_dashboards": {
      "version": 1,
      "views": {
       "grid_default": {
        "hidden": true
       },
       "report_default": {
        "hidden": true
       }
      }
     }
    }
   },
   "outputs": [
    {
     "data": {
      "text/plain": [
       "Donald C. Rogers         1\n",
       "Ray Harryhausen          1\n",
       "Dr. John G. Frayne       1\n",
       "Fred Hynes               1\n",
       "Peter W. Anderson        1\n",
       "David Winchester Gray    1\n",
       "Pierre Angenieux         1\n",
       "Joseph B. Walker         1\n",
       "Irwin W. Young           1\n",
       "Gary Demos               1\n",
       "Peter D. Parks           1\n",
       "Ed Catmull               1\n",
       "Erich Kaestner           1\n",
       "Gordon Henry Cook        1\n",
       "Don Iwerks               1\n",
       "Petro Vlahos             1\n",
       "Takuo Miyagishima        1\n",
       "Linwood G. Dunn          1\n",
       "David A. Grafton         1\n",
       "Stefan Kudelski          1\n",
       "Roderick T. Ryan         1\n",
       "John O. Aalberg          1\n",
       "Ray Feeney               1\n",
       "Douglas Trumbull         1\n",
       "Edmund M. Di Giulio      1\n",
       "Name: Name, dtype: int64"
      ]
     },
     "execution_count": 145,
     "metadata": {},
     "output_type": "execute_result"
    }
   ],
   "source": [
    "df[(df['Award'] == 'Gordon E. Sawyer Award')]['Name'].value_counts()"
   ]
  },
  {
   "cell_type": "markdown",
   "metadata": {},
   "source": [
    "## Winners of John A. Bonner Medal of Commendation"
   ]
  },
  {
   "cell_type": "code",
   "execution_count": 146,
   "metadata": {},
   "outputs": [
    {
     "data": {
      "text/plain": [
       "Don Hall                  1\n",
       "Curt R. Behlmer           1\n",
       "Burton \"Bud\" Stone        1\n",
       "Denny Clairmont           1\n",
       "Edmund M. Di Giulio       1\n",
       "Pete Clark                1\n",
       "N. Paul Kenworthy, Jr.    1\n",
       "Douglas Greenfield        1\n",
       "Bill Taylor               1\n",
       "Mark Kimball              1\n",
       "Ray Feeney                1\n",
       "Volker W. Bahnemann       1\n",
       "Takuo Miyagishima         1\n",
       "Richard B. Glickman       1\n",
       "Richard Edlund            1\n",
       "David W. Gray             1\n",
       "Charles \"Tad\" Marburg     1\n",
       "David Inglish             1\n",
       "Jonathan Erland           1\n",
       "Name: Name, dtype: int64"
      ]
     },
     "execution_count": 146,
     "metadata": {},
     "output_type": "execute_result"
    }
   ],
   "source": [
    "df[(df['Award'] == 'John A. Bonner Medal of Commendation')]['Name'].value_counts()"
   ]
  },
  {
   "cell_type": "markdown",
   "metadata": {},
   "source": [
    "![img ](https://media.giphy.com/media/cC9kQMcSrQ1Xci4MxI/giphy.gif)"
   ]
  }
 ],
 "metadata": {
  "extensions": {
   "jupyter_dashboards": {
    "activeView": "report_default",
    "version": 1,
    "views": {
     "grid_default": {
      "cellMargin": 10,
      "defaultCellHeight": 20,
      "maxColumns": 12,
      "name": "grid",
      "type": "grid"
     },
     "report_default": {
      "name": "report",
      "type": "report"
     }
    }
   }
  },
  "kernelspec": {
   "display_name": "Python 3",
   "language": "python",
   "name": "python3"
  },
  "language_info": {
   "codemirror_mode": {
    "name": "ipython",
    "version": 3
   },
   "file_extension": ".py",
   "mimetype": "text/x-python",
   "name": "python",
   "nbconvert_exporter": "python",
   "pygments_lexer": "ipython3",
   "version": "3.6.3"
  }
 },
 "nbformat": 4,
 "nbformat_minor": 2
}
