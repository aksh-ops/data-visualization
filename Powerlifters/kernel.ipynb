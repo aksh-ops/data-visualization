{
  "cells": [
    {
      "metadata": {
        "_uuid": "9ad639af724b3e9a3aaff7647bf51dc44198ef1d"
      },
      "cell_type": "markdown",
      "source": "# Plotly Visualization of Powerlifters"
    },
    {
      "metadata": {
        "_uuid": "8f2839f25d086af736a60e9eeb907d3b93b6e0e5",
        "_cell_guid": "b1076dfc-b9ad-4769-8c92-a6c4dae69d19",
        "trusted": true,
        "collapsed": true
      },
      "cell_type": "code",
      "source": "import numpy as np\nimport pandas as pd\nimport matplotlib.pyplot as plt\n\nimport plotly.offline as py\npy.init_notebook_mode(connected=True)\nimport plotly.graph_objs as go\nimport plotly.tools as tls\n\nimport warnings\nwarnings.filterwarnings('ignore')",
      "execution_count": null,
      "outputs": []
    },
    {
      "metadata": {
        "_cell_guid": "79c7e3d0-c299-4dcb-8224-4455121ee9b0",
        "_uuid": "d629ff2d2480ee46fbb7e2d37f6b5fab8052498a",
        "trusted": true,
        "collapsed": true
      },
      "cell_type": "code",
      "source": "df = pd.read_csv('../input/openpowerlifting.csv')\ndf.head(2)",
      "execution_count": null,
      "outputs": []
    },
    {
      "metadata": {
        "_uuid": "58ca77d3344ed71d5ecab51f22529e9eaf31b5f2"
      },
      "cell_type": "markdown",
      "source": "**Male vs Female distribution in the dataset**"
    },
    {
      "metadata": {
        "trusted": true,
        "_uuid": "7c2d67d469afc468873c9124c2f7b87326b7d981",
        "collapsed": true
      },
      "cell_type": "code",
      "source": "labels = ['Male','Female']\ncolors = ['#1e90ff', '#E1396C']\ngender = df['Sex'].value_counts()\nvalues = list(gender.values)\n\ntrace = go.Pie(labels=labels, values=values,hoverinfo='label+percent',marker=dict(colors=colors, \n                           line=dict(color='#000000', width=2)))\n\npy.iplot([trace], filename='gender_chart')",
      "execution_count": null,
      "outputs": []
    },
    {
      "metadata": {
        "trusted": true,
        "_uuid": "a1a74f8b4f976e4f35756d042b495d1093e3f06f",
        "collapsed": true
      },
      "cell_type": "code",
      "source": "age = df['Age'].value_counts()\nx = age.index\ny = age.values\n\nlayout = go.Layout(\n    title='Age distribution of Powerlifters',\n    xaxis=dict(\n        title='Age',\n        titlefont=dict(\n            family='Courier New, monospace',\n            size=18,\n            color='#7f7f7f'\n        )\n    ),\n    yaxis=dict(\n        title='Number of Powerlifters',\n        titlefont=dict(\n            family='Courier New, monospace',\n            size=18,\n            color='#7f7f7f'\n        )\n    )\n)\n\ndata = [go.Bar(\n            x=x,\n            y=y\n    )]\npy.iplot(go.Figure(data=data, layout=layout))\n",
      "execution_count": null,
      "outputs": []
    },
    {
      "metadata": {
        "_uuid": "2eb960de9199e30e1b29e4671f1390f4490dbdca"
      },
      "cell_type": "markdown",
      "source": "****Most of the powerlifters are in their 20s and 30s......Looks like there is a 90 year old powerlifter and also a  5 year old ****"
    },
    {
      "metadata": {
        "_uuid": "5c73075214e5ea49303234d7533ecd24236f8c2f"
      },
      "cell_type": "markdown",
      "source": "** Distribution of Bodyweight of Powerlifters**"
    },
    {
      "metadata": {
        "trusted": true,
        "_uuid": "d038f44afbc27c092b3c072ab0f6c542b18bd29d",
        "collapsed": true
      },
      "cell_type": "code",
      "source": "val = df['BodyweightKg'].value_counts()\ntrace1 = go.Scatter(\n    x = val.index,\n    y = val.values,\n    mode='markers',\n    marker=dict(\n        size=16,\n        color = val.values, #set color equal to a variable\n        colorscale='Viridis',\n        showscale=True\n    )\n)\n\nlayout = go.Layout(\n    title='Weight distribution of Powerlifters',\n    xaxis=dict(\n        title='Weight in Kg',\n        titlefont=dict(\n            family='Courier New, monospace',\n            size=18,\n            color='#7f7f7f'\n        )\n    ),\n    yaxis=dict(\n        title='Number of Powerlifters',\n        titlefont=dict(\n            family='Courier New, monospace',\n            size=18,\n            color='#7f7f7f'\n        )\n    )\n)\n\ndata = [trace1]\n\npy.iplot(go.Figure(data=data, layout=layout))",
      "execution_count": null,
      "outputs": []
    },
    {
      "metadata": {
        "trusted": true,
        "_uuid": "2c00a170b9549761972ce51d5b5ff65cbf7c5972",
        "collapsed": true
      },
      "cell_type": "code",
      "source": "classes = df['WeightClassKg'].value_counts()\ndiv = df['Division'].value_counts()\nclasses = classes[classes.values > 6260]\ndiv = div[div.values > 2000]",
      "execution_count": null,
      "outputs": []
    },
    {
      "metadata": {
        "trusted": true,
        "_uuid": "0ba95e61d21fdae7bb8d5a07b67d88b09bd8b25d",
        "collapsed": true
      },
      "cell_type": "code",
      "source": "fig = {\n  \"data\": [\n    {\n      \"values\": classes.values,\n      \"labels\": classes.index,\n      \"domain\": {\"x\": [0, .48]},\n      \"name\": \"Weight Class in Kg\",\n      \"hoverinfo\":\"label+percent+name\",\n      \"hole\": .4,\n      \"type\": \"pie\"\n    },\n    {\n      \"values\": div.values,\n      \"labels\": div.index,\n      \"text\":[\"CO2\"],\n      \"textposition\":\"inside\",\n      \"domain\": {\"x\": [.52, 1]},\n      \"name\": \"Division\",\n      \"hoverinfo\":\"label+percent+name\",\n      \"hole\": .4,\n      \"type\": \"pie\"\n    }],\n  \"layout\": {\n        \"title\":\"Weight Classes & Division Distribution of Powerlifters\",\n        \"annotations\": [\n            {\n                \"font\": {\n                    \"size\": 20\n                },\n                \"showarrow\": False,\n                \"text\": \"Classes\",\n                \"x\": 0.20,\n                \"y\": 0.5\n            },\n            {\n                \"font\": {\n                    \"size\": 20\n                },\n                \"showarrow\": False,\n                \"text\": \"Division\",\n                \"x\": 0.8,\n                \"y\": 0.5\n            }\n        ]\n    }\n}\npy.iplot(fig, filename='donut')\n\n\n\n      ",
      "execution_count": null,
      "outputs": []
    },
    {
      "metadata": {
        "_uuid": "eee31aec5a8aae515bb16ea0f8844848e4260add"
      },
      "cell_type": "markdown",
      "source": "- **About 9.4 % of the powerlifters seem to belong to the 90kg category followed by 8.95% in the 100 kg category**\n-  **About 30% of the powerlifters belong to the Open Division followed by about 25% in the Boys Division**"
    },
    {
      "metadata": {
        "_uuid": "8f20a9381ed05570ee4842e7c428bd86c581db2b"
      },
      "cell_type": "markdown",
      "source": "## The Equipments used by Powerlifters"
    },
    {
      "metadata": {
        "trusted": true,
        "_uuid": "dfce4eb60c4131dcebd64b49a595008557aeb1a0",
        "collapsed": true
      },
      "cell_type": "code",
      "source": "eq = df['Equipment'].value_counts()\nvalues = eq.values\nphases = eq.index\ncolors = ['rgb(32,155,160)', 'rgb(253,93,124)', 'rgb(28,119,139)', 'rgb(182,231,235)', 'rgb(35,154,160)']\nn_phase = len(phases)\nplot_width = 400\n\n# height of a section and difference between sections \nsection_h = 100\nsection_d = 10\n\n# multiplication factor to calculate the width of other sections\nunit_width = plot_width / max(values)\n\n# width of each funnel section relative to the plot width\nphase_w = [int(value * unit_width) for value in values]\n\n# plot height based on the number of sections and the gap in between them\nheight = section_h * n_phase + section_d * (n_phase - 1)\n\n# list containing all the plot shapes\nshapes = []\n\n# list containing the Y-axis location for each section's name and value text\nlabel_y = []\n\nfor i in range(n_phase):\n        if (i == n_phase-1):\n                points = [phase_w[i] / 2, height, phase_w[i] / 2, height - section_h]\n        else:\n                points = [phase_w[i] / 2, height, phase_w[i+1] / 2, height - section_h]\n\n        path = 'M {0} {1} L {2} {3} L -{2} {3} L -{0} {1} Z'.format(*points)\n\n        shape = {\n                'type': 'path',\n                'path': path,\n                'fillcolor': colors[i],\n                'line': {\n                    'width': 1,\n                    'color': colors[i]\n                }\n        }\n        shapes.append(shape)\n        \n        # Y-axis location for this section's details (text)\n        label_y.append(height - (section_h / 2))\n\n        height = height - (section_h + section_d)\n# For phase names\nlabel_trace = go.Scatter(\n    x=[-350]*n_phase,\n    y=label_y,\n    mode='text',\n    text=phases,\n    textfont=dict(\n        color='rgb(200,200,200)',\n        size=15\n    )\n)\n \n# For phase values\nvalue_trace = go.Scatter(\n    x=[350]*n_phase,\n    y=label_y,\n    mode='text',\n    text=values,\n    textfont=dict(\n        color='rgb(200,200,200)',\n        size=15\n    )\n)\n\ndata = [label_trace, value_trace]\n \nlayout = go.Layout(\n    title=\"<b>Equipments used by Powerlifters</b>\",\n    titlefont=dict(\n        size=20,\n        color='rgb(203,203,203)'\n    ),\n    shapes=shapes,\n    height=560,\n    width=900,\n    showlegend=False,\n    paper_bgcolor='rgba(44,58,71,1)',\n    plot_bgcolor='rgba(44,58,71,1)',\n    xaxis=dict(\n        showticklabels=False,\n        zeroline=False,\n    ),\n    yaxis=dict(\n        showticklabels=False,\n        zeroline=False\n    )\n)\n \nfig = go.Figure(data=data, layout=layout)\npy.iplot(fig)\n\n\n",
      "execution_count": null,
      "outputs": []
    },
    {
      "metadata": {
        "trusted": true,
        "_uuid": "028039eb3eac33f5a7e5d116c8252e69471e9b0c",
        "collapsed": true
      },
      "cell_type": "markdown",
      "source": "**Looks like Most of the powerlifters don't use equipments (RAW)**\n\n- Single-ply suits/shirts have one layer of material.\n\n- Multiply suits/shirts have multiple layers of material.\n- Powerlifters also use straps and wraps\n"
    },
    {
      "metadata": {
        "_uuid": "b4f7391ac52829237f7069727deb48e408999f5d"
      },
      "cell_type": "markdown",
      "source": "### Wilks Coefficient:\n\nThe Wilks Coefficient or Wilks Formula is a coefficient that can be used to measure the strength of a powerlifter against other powerlifters despite the different weights of the lifters. Robert Wilks, CEO of Powerlifting Australia, is the author of the formula.\nIt is the total weight lifted (in kg) is multiplied by the Coefficient to find the standard amount lifted normalised across all body weights.\n"
    },
    {
      "metadata": {
        "trusted": true,
        "_uuid": "f2c96a0d1a4576a115e308126c56f3cfc259a522",
        "collapsed": true
      },
      "cell_type": "code",
      "source": "ag = df.groupby(['Age']).mean()\nwt =  df.groupby(['BodyweightKg']).mean()",
      "execution_count": null,
      "outputs": []
    },
    {
      "metadata": {
        "trusted": true,
        "_uuid": "f983e4b9ee5726822a4e3e8e27840d66b312420a",
        "scrolled": true,
        "collapsed": true
      },
      "cell_type": "code",
      "source": "data = [\n    {\n        'x': ag.index,\n        'y': ag['Wilks'],\n        'mode': 'lines+markers',\n        'name': 'Wilks-Coefficient',\n    }\n]\n\nlayout = dict(title = 'Wilks Coefficient Distribution with respect to the Age of Powerlifters',\n              yaxis = dict(title = 'Wilks Coefficient', zeroline = False),\n              xaxis = dict(title= 'Age',zeroline = False)\n             )\nfig = dict(data=data, layout=layout)\npy.iplot(fig, filename='scat')",
      "execution_count": null,
      "outputs": []
    },
    {
      "metadata": {
        "trusted": true,
        "collapsed": true,
        "_uuid": "091f7398a687ced5e890d61806526419f91d9413"
      },
      "cell_type": "markdown",
      "source": ""
    },
    {
      "metadata": {
        "_uuid": "0db0c1a93382cd51d81689bb1252dc19bb90932d"
      },
      "cell_type": "markdown",
      "source": "The Wilks Coefficient increases as age increases(It peaks in their 20s and 30s) and decreases as powerlifters become old which is normal and predictable......But it also looks like there is a 93 year old powerlifter with a high wilks coefficient....young by mind and body....quite fascinating"
    },
    {
      "metadata": {
        "_uuid": "7ae777f19c873791d4d19926f1e4859aa7e2b015"
      },
      "cell_type": "markdown",
      "source": "#### Wilks: \n- 300 is good\n- 400 is great.\n- 500 is elite.\n\n"
    },
    {
      "metadata": {
        "trusted": true,
        "_uuid": "15498a93cdcb9e1d61125c91009ec85a3c255f45",
        "collapsed": true
      },
      "cell_type": "code",
      "source": "above = wt[wt['Wilks'] > 300]\nbelow = wt[wt['Wilks'] < 300]\n\n\ntrace0 = go.Scatter(\n    x = above.index,\n    y = above['Wilks'],\n    name = 'Above 300',\n    mode = 'markers',\n    marker = dict(\n        size = 10,\n        color = 'rgba(152, 0, 0, .8)',\n        line = dict(\n            width = 2,\n            color = 'rgb(0, 0, 0)'\n        )\n    )\n)\n\ntrace1 = go.Scatter(\n    x = below.index,\n    y = below['Wilks'],\n    name = 'Below 300',\n    mode = 'markers',\n    marker = dict(\n        size = 10,\n        color = 'rgba(255, 182, 193, .9)',\n        line = dict(\n            width = 2,\n        )\n    )\n)\n\ndata = [trace0, trace1]\n\nlayout = dict(title = 'Wilks Coefficient Distribution with respect to the Weight of Powerlifters',\n              yaxis = dict(title = 'Wilks Coefficient', zeroline = False),\n              xaxis = dict(title= 'Weight in Kg',zeroline = False)\n             )\n\nfig = dict(data=data, layout=layout)\npy.iplot(fig, filename='styled-scatter')",
      "execution_count": null,
      "outputs": []
    },
    {
      "metadata": {
        "trusted": true,
        "collapsed": true,
        "_uuid": "745aa85a4fbc7f513bb336065015ad462d22e080"
      },
      "cell_type": "markdown",
      "source": "A lot of Powerlifters between of 60 - 180 kg seem to have an above average Wilks Coefficient whereas as the weight increases or decreases normal levels...wilks also decreases"
    },
    {
      "metadata": {
        "trusted": true,
        "_uuid": "b47dd55c5cc7ce6cebc2dc6866fa5aa8deeb15d5",
        "collapsed": true
      },
      "cell_type": "code",
      "source": "pl =  df.groupby(['Place']).mean()\ndata = [\n    {\n        'x': pl.index,\n        'y': pl['Wilks'],\n        'mode': 'markers',\n        'name': 'Wilks-Coefficient',\n    }\n]\n\nlayout = dict(title = 'Wilks Coefficient Distribution with respect to the Place of Powerlifters',\n              yaxis = dict(title = 'Wilks Coefficient', zeroline = False),\n              xaxis = dict(title= 'Place',zeroline = False)\n             )\nfig = dict(data=data, layout=layout)\npy.iplot(fig, filename='scat')",
      "execution_count": null,
      "outputs": []
    },
    {
      "metadata": {
        "trusted": true,
        "collapsed": true,
        "_uuid": "711fa04c1bb8a88c0e58a7418ee7e44f53459367"
      },
      "cell_type": "markdown",
      "source": "***Woah Woah.....Looks like Place 1 Powerlifters have a low mean Wilks coefficient....Weird and interesting ***"
    },
    {
      "metadata": {
        "_uuid": "b809d55be14beceaacd9447e096e7ae129ed857a"
      },
      "cell_type": "markdown",
      "source": "## Total of weights lifted vs Wilks of Powerlifters**"
    },
    {
      "metadata": {
        "trusted": true,
        "_uuid": "2a57071c8e096ee21cbda3b4537b79ef88c0fc44",
        "collapsed": true
      },
      "cell_type": "code",
      "source": "data = [\n    {\n        'x': df['TotalKg'],\n        'y': df['Wilks'],\n        'mode': 'markers',\n        'name': 'Wilks-Coefficient',\n    }\n]\n\nlayout = dict(title = 'Wilks Coefficient Distribution with respect to the Place of Powerlifters',\n              yaxis = dict(title = 'Wilks Coefficient', zeroline = False),\n              xaxis = dict(title= 'Place',zeroline = False)\n             )\nfig = dict(data=data, layout=layout)\npy.iplot(fig, filename='scat')",
      "execution_count": null,
      "outputs": []
    },
    {
      "metadata": {
        "trusted": true,
        "collapsed": true,
        "_uuid": "1645a4e00ce43c7fc6d6d3c6971b10519a226b2c"
      },
      "cell_type": "markdown",
      "source": "### Total weight in kg and Wilks have an almost linear relationship......Makes Sense"
    },
    {
      "metadata": {
        "trusted": true,
        "_uuid": "a735e58240e3d7c0380fed72a25b91f770651219",
        "collapsed": true
      },
      "cell_type": "code",
      "source": "from plotly import tools\ndeadlift = go.Scatter(\n    x = ag.index,\n    y = ag['BestDeadliftKg'],\n    mode='markers',\n    name='Deadlift'\n)\nSquat = go.Scatter(\n    x = ag.index,\n    y = ag['BestSquatKg'],\n    mode='markers',\n    name='Squat'\n\n)\nBench = go.Scatter(\n    x = ag.index,\n    y = ag['BestBenchKg'],\n    mode='markers',\n    name='Bench'\n)\n\nTotal = go.Scatter(\n    x = ag.index,\n    y = ag['TotalKg'],\n    mode='markers',\n    name='Total'\n \n)\n\nfig = tools.make_subplots(rows=2, cols=2, subplot_titles=('Max Deadlift', 'Max Squat',\n                                                          'Max Benchpress','Total Kgs'))\n\nfig.append_trace(deadlift, 1, 1)\nfig.append_trace(Squat, 1, 2)\nfig.append_trace(Bench, 2, 1)\nfig.append_trace(Total, 2, 2)\n\n\nfig['layout'].update(height=800, width=1000, title='Age of Powerlifters' +\n                                                  ' with respect to parameters')\n\npy.iplot(fig, filename='sub')",
      "execution_count": null,
      "outputs": []
    },
    {
      "metadata": {
        "trusted": true,
        "_uuid": "500ba2f488563929a86e613f69d347c2091c6f84",
        "collapsed": true
      },
      "cell_type": "markdown",
      "source": "The Graphs seem to look very much similar.....but I couldnt help but notice an anamoly as the powerlifters get older\n\n### An Exceptionally Strong 93 year powerlifter.....Who could that be ?"
    },
    {
      "metadata": {
        "trusted": true,
        "_uuid": "0a58ed5f44374b55b29a3d02de648dc276a83c42",
        "collapsed": true
      },
      "cell_type": "code",
      "source": "df[(df['Age'] == 93)]",
      "execution_count": null,
      "outputs": []
    },
    {
      "metadata": {
        "_uuid": "7c8465e7fa63664601441e85a9f5c8ac44e0916f"
      },
      "cell_type": "markdown",
      "source": "## Take a bow Dan Mason"
    },
    {
      "metadata": {
        "trusted": true,
        "collapsed": true,
        "_uuid": "952b400a8070b5e667680d930fe2ba6965495ec3"
      },
      "cell_type": "code",
      "source": "",
      "execution_count": null,
      "outputs": []
    },
    {
      "metadata": {
        "trusted": true,
        "collapsed": true,
        "_uuid": "46d711e57159e41ed5001979af90c0f9e3d9cb8d"
      },
      "cell_type": "code",
      "source": "",
      "execution_count": null,
      "outputs": []
    }
  ],
  "metadata": {
    "kernelspec": {
      "display_name": "Python 3",
      "language": "python",
      "name": "python3"
    },
    "language_info": {
      "name": "python",
      "version": "3.6.6",
      "mimetype": "text/x-python",
      "codemirror_mode": {
        "name": "ipython",
        "version": 3
      },
      "pygments_lexer": "ipython3",
      "nbconvert_exporter": "python",
      "file_extension": ".py"
    }
  },
  "nbformat": 4,
  "nbformat_minor": 1
}