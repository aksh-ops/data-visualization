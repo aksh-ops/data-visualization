{
 "cells": [
  {
   "cell_type": "markdown",
   "metadata": {},
   "source": [
    "# Olympic Dataset"
   ]
  },
  {
   "cell_type": "code",
   "execution_count": 1,
   "metadata": {},
   "outputs": [
    {
     "data": {
      "text/html": [
       "<script>requirejs.config({paths: { 'plotly': ['https://cdn.plot.ly/plotly-latest.min']},});if(!window.Plotly) {{require(['plotly'],function(plotly) {window.Plotly=plotly;});}}</script>"
      ],
      "text/vnd.plotly.v1+html": [
       "<script>requirejs.config({paths: { 'plotly': ['https://cdn.plot.ly/plotly-latest.min']},});if(!window.Plotly) {{require(['plotly'],function(plotly) {window.Plotly=plotly;});}}</script>"
      ]
     },
     "metadata": {},
     "output_type": "display_data"
    }
   ],
   "source": [
    "import pandas as pd\n",
    "import plotly\n",
    "import plotly.graph_objs as go\n",
    "plotly.offline.init_notebook_mode(connected=True)\n",
    "import warnings\n",
    "warnings.filterwarnings('ignore')"
   ]
  },
  {
   "cell_type": "code",
   "execution_count": 2,
   "metadata": {},
   "outputs": [
    {
     "data": {
      "text/html": [
       "<div>\n",
       "<style>\n",
       "    .dataframe thead tr:only-child th {\n",
       "        text-align: right;\n",
       "    }\n",
       "\n",
       "    .dataframe thead th {\n",
       "        text-align: left;\n",
       "    }\n",
       "\n",
       "    .dataframe tbody tr th {\n",
       "        vertical-align: top;\n",
       "    }\n",
       "</style>\n",
       "<table border=\"1\" class=\"dataframe\">\n",
       "  <thead>\n",
       "    <tr style=\"text-align: right;\">\n",
       "      <th></th>\n",
       "      <th>ID</th>\n",
       "      <th>Name</th>\n",
       "      <th>Sex</th>\n",
       "      <th>Age</th>\n",
       "      <th>Height</th>\n",
       "      <th>Weight</th>\n",
       "      <th>Team</th>\n",
       "      <th>NOC</th>\n",
       "      <th>Games</th>\n",
       "      <th>Year</th>\n",
       "      <th>Season</th>\n",
       "      <th>City</th>\n",
       "      <th>Sport</th>\n",
       "      <th>Event</th>\n",
       "      <th>Medal</th>\n",
       "    </tr>\n",
       "  </thead>\n",
       "  <tbody>\n",
       "    <tr>\n",
       "      <th>0</th>\n",
       "      <td>1</td>\n",
       "      <td>A Dijiang</td>\n",
       "      <td>M</td>\n",
       "      <td>24.0</td>\n",
       "      <td>180.0</td>\n",
       "      <td>80.0</td>\n",
       "      <td>China</td>\n",
       "      <td>CHN</td>\n",
       "      <td>1992 Summer</td>\n",
       "      <td>1992</td>\n",
       "      <td>Summer</td>\n",
       "      <td>Barcelona</td>\n",
       "      <td>Basketball</td>\n",
       "      <td>Basketball Men's Basketball</td>\n",
       "      <td>NaN</td>\n",
       "    </tr>\n",
       "    <tr>\n",
       "      <th>1</th>\n",
       "      <td>2</td>\n",
       "      <td>A Lamusi</td>\n",
       "      <td>M</td>\n",
       "      <td>23.0</td>\n",
       "      <td>170.0</td>\n",
       "      <td>60.0</td>\n",
       "      <td>China</td>\n",
       "      <td>CHN</td>\n",
       "      <td>2012 Summer</td>\n",
       "      <td>2012</td>\n",
       "      <td>Summer</td>\n",
       "      <td>London</td>\n",
       "      <td>Judo</td>\n",
       "      <td>Judo Men's Extra-Lightweight</td>\n",
       "      <td>NaN</td>\n",
       "    </tr>\n",
       "  </tbody>\n",
       "</table>\n",
       "</div>"
      ],
      "text/plain": [
       "   ID       Name Sex   Age  Height  Weight   Team  NOC        Games  Year  \\\n",
       "0   1  A Dijiang   M  24.0   180.0    80.0  China  CHN  1992 Summer  1992   \n",
       "1   2   A Lamusi   M  23.0   170.0    60.0  China  CHN  2012 Summer  2012   \n",
       "\n",
       "   Season       City       Sport                         Event Medal  \n",
       "0  Summer  Barcelona  Basketball   Basketball Men's Basketball   NaN  \n",
       "1  Summer     London        Judo  Judo Men's Extra-Lightweight   NaN  "
      ]
     },
     "execution_count": 2,
     "metadata": {},
     "output_type": "execute_result"
    }
   ],
   "source": [
    "events = pd.read_csv('athlete_events.csv')\n",
    "events.head(2)"
   ]
  },
  {
   "cell_type": "code",
   "execution_count": 3,
   "metadata": {},
   "outputs": [
    {
     "data": {
      "text/html": [
       "<div>\n",
       "<style>\n",
       "    .dataframe thead tr:only-child th {\n",
       "        text-align: right;\n",
       "    }\n",
       "\n",
       "    .dataframe thead th {\n",
       "        text-align: left;\n",
       "    }\n",
       "\n",
       "    .dataframe tbody tr th {\n",
       "        vertical-align: top;\n",
       "    }\n",
       "</style>\n",
       "<table border=\"1\" class=\"dataframe\">\n",
       "  <thead>\n",
       "    <tr style=\"text-align: right;\">\n",
       "      <th></th>\n",
       "      <th>NOC</th>\n",
       "      <th>region</th>\n",
       "      <th>notes</th>\n",
       "    </tr>\n",
       "  </thead>\n",
       "  <tbody>\n",
       "    <tr>\n",
       "      <th>0</th>\n",
       "      <td>AFG</td>\n",
       "      <td>Afghanistan</td>\n",
       "      <td>NaN</td>\n",
       "    </tr>\n",
       "    <tr>\n",
       "      <th>1</th>\n",
       "      <td>AHO</td>\n",
       "      <td>Curacao</td>\n",
       "      <td>Netherlands Antilles</td>\n",
       "    </tr>\n",
       "  </tbody>\n",
       "</table>\n",
       "</div>"
      ],
      "text/plain": [
       "   NOC       region                 notes\n",
       "0  AFG  Afghanistan                   NaN\n",
       "1  AHO      Curacao  Netherlands Antilles"
      ]
     },
     "execution_count": 3,
     "metadata": {},
     "output_type": "execute_result"
    }
   ],
   "source": [
    "noc = pd.read_csv('noc_regions.csv')\n",
    "noc.head(2)"
   ]
  },
  {
   "cell_type": "markdown",
   "metadata": {},
   "source": [
    "### Lets combine the dataframes"
   ]
  },
  {
   "cell_type": "code",
   "execution_count": 236,
   "metadata": {},
   "outputs": [
    {
     "data": {
      "text/html": [
       "<div>\n",
       "<style>\n",
       "    .dataframe thead tr:only-child th {\n",
       "        text-align: right;\n",
       "    }\n",
       "\n",
       "    .dataframe thead th {\n",
       "        text-align: left;\n",
       "    }\n",
       "\n",
       "    .dataframe tbody tr th {\n",
       "        vertical-align: top;\n",
       "    }\n",
       "</style>\n",
       "<table border=\"1\" class=\"dataframe\">\n",
       "  <thead>\n",
       "    <tr style=\"text-align: right;\">\n",
       "      <th></th>\n",
       "      <th>ID</th>\n",
       "      <th>Name</th>\n",
       "      <th>Sex</th>\n",
       "      <th>Age</th>\n",
       "      <th>Height</th>\n",
       "      <th>Weight</th>\n",
       "      <th>Team</th>\n",
       "      <th>NOC</th>\n",
       "      <th>Games</th>\n",
       "      <th>Year</th>\n",
       "      <th>Season</th>\n",
       "      <th>City</th>\n",
       "      <th>Sport</th>\n",
       "      <th>Event</th>\n",
       "      <th>Medal</th>\n",
       "      <th>region</th>\n",
       "      <th>notes</th>\n",
       "    </tr>\n",
       "  </thead>\n",
       "  <tbody>\n",
       "    <tr>\n",
       "      <th>0</th>\n",
       "      <td>1</td>\n",
       "      <td>A Dijiang</td>\n",
       "      <td>M</td>\n",
       "      <td>24.0</td>\n",
       "      <td>180.0</td>\n",
       "      <td>80.0</td>\n",
       "      <td>China</td>\n",
       "      <td>CHN</td>\n",
       "      <td>1992 Summer</td>\n",
       "      <td>1992</td>\n",
       "      <td>Summer</td>\n",
       "      <td>Barcelona</td>\n",
       "      <td>Basketball</td>\n",
       "      <td>Basketball Men's Basketball</td>\n",
       "      <td>NaN</td>\n",
       "      <td>China</td>\n",
       "      <td>NaN</td>\n",
       "    </tr>\n",
       "  </tbody>\n",
       "</table>\n",
       "</div>"
      ],
      "text/plain": [
       "   ID       Name Sex   Age  Height  Weight   Team  NOC        Games  Year  \\\n",
       "0   1  A Dijiang   M  24.0   180.0    80.0  China  CHN  1992 Summer  1992   \n",
       "\n",
       "   Season       City       Sport                        Event Medal region  \\\n",
       "0  Summer  Barcelona  Basketball  Basketball Men's Basketball   NaN  China   \n",
       "\n",
       "  notes  \n",
       "0   NaN  "
      ]
     },
     "execution_count": 236,
     "metadata": {},
     "output_type": "execute_result"
    }
   ],
   "source": [
    "data = pd.merge(events, noc, on='NOC', how='left')\n",
    "data.head(1)"
   ]
  },
  {
   "cell_type": "markdown",
   "metadata": {},
   "source": [
    "### 205 countries have participated in the Olympics"
   ]
  },
  {
   "cell_type": "code",
   "execution_count": 86,
   "metadata": {},
   "outputs": [
    {
     "data": {
      "text/plain": [
       "205"
      ]
     },
     "execution_count": 86,
     "metadata": {},
     "output_type": "execute_result"
    }
   ],
   "source": [
    "region = data['region'].value_counts()\n",
    "len(region)"
   ]
  },
  {
   "cell_type": "code",
   "execution_count": 87,
   "metadata": {},
   "outputs": [],
   "source": [
    "region = region.sort_values()[::-1][:50]"
   ]
  },
  {
   "cell_type": "code",
   "execution_count": 88,
   "metadata": {},
   "outputs": [
    {
     "data": {
      "application/vnd.plotly.v1+json": {
       "data": [
        {
         "orientation": "h",
         "type": "bar",
         "x": [
          18853,
          15883,
          12758,
          12256,
          11692,
          10715,
          9734,
          8444,
          8339,
          7724,
          6607,
          6431,
          6207,
          6150,
          5839,
          5826,
          5467,
          5313,
          5141,
          4960,
          4464,
          4405,
          3857,
          3848,
          3570,
          3530,
          3297,
          3296,
          3192,
          2880,
          2559,
          2479,
          2342,
          1787,
          1711,
          1622,
          1522,
          1429,
          1408,
          1356,
          1325,
          1111,
          1097,
          1069,
          1055,
          996,
          951,
          927,
          925,
          925
         ],
         "y": [
          "USA",
          "Germany",
          "France",
          "UK",
          "Russia",
          "Italy",
          "Canada",
          "Japan",
          "Sweden",
          "Australia",
          "Hungary",
          "Czech Republic",
          "Poland",
          "Switzerland",
          "Netherlands",
          "China",
          "Finland",
          "Spain",
          "Austria",
          "Norway",
          "South Korea",
          "Romania",
          "Belgium",
          "Brazil",
          "Denmark",
          "Bulgaria",
          "Argentina",
          "Serbia",
          "Greece",
          "Mexico",
          "Ukraine",
          "Cuba",
          "New Zealand",
          "Belarus",
          "South Africa",
          "Egypt",
          "Portugal",
          "Kazakhstan",
          "India",
          "Turkey",
          "Ireland",
          "Slovenia",
          "Taiwan",
          "Colombia",
          "Slovakia",
          "Luxembourg",
          "Latvia",
          "Puerto Rico",
          "Venezuela",
          "Chile"
         ]
        }
       ],
       "layout": {
        "height": 1000,
        "title": "Number of participants per country",
        "width": 1000
       }
      },
      "text/html": [
       "<div id=\"55fb4e65-f1be-471f-b65f-c1654b8b52d2\" style=\"height: 1000px; width: 1000px;\" class=\"plotly-graph-div\"></div><script type=\"text/javascript\">require([\"plotly\"], function(Plotly) { window.PLOTLYENV=window.PLOTLYENV || {};window.PLOTLYENV.BASE_URL=\"https://plot.ly\";Plotly.newPlot(\"55fb4e65-f1be-471f-b65f-c1654b8b52d2\", [{\"type\": \"bar\", \"x\": [18853, 15883, 12758, 12256, 11692, 10715, 9734, 8444, 8339, 7724, 6607, 6431, 6207, 6150, 5839, 5826, 5467, 5313, 5141, 4960, 4464, 4405, 3857, 3848, 3570, 3530, 3297, 3296, 3192, 2880, 2559, 2479, 2342, 1787, 1711, 1622, 1522, 1429, 1408, 1356, 1325, 1111, 1097, 1069, 1055, 996, 951, 927, 925, 925], \"y\": [\"USA\", \"Germany\", \"France\", \"UK\", \"Russia\", \"Italy\", \"Canada\", \"Japan\", \"Sweden\", \"Australia\", \"Hungary\", \"Czech Republic\", \"Poland\", \"Switzerland\", \"Netherlands\", \"China\", \"Finland\", \"Spain\", \"Austria\", \"Norway\", \"South Korea\", \"Romania\", \"Belgium\", \"Brazil\", \"Denmark\", \"Bulgaria\", \"Argentina\", \"Serbia\", \"Greece\", \"Mexico\", \"Ukraine\", \"Cuba\", \"New Zealand\", \"Belarus\", \"South Africa\", \"Egypt\", \"Portugal\", \"Kazakhstan\", \"India\", \"Turkey\", \"Ireland\", \"Slovenia\", \"Taiwan\", \"Colombia\", \"Slovakia\", \"Luxembourg\", \"Latvia\", \"Puerto Rico\", \"Venezuela\", \"Chile\"], \"orientation\": \"h\"}], {\"title\": \"Number of participants per country\", \"width\": 1000, \"height\": 1000}, {\"showLink\": true, \"linkText\": \"Export to plot.ly\"})});</script>"
      ],
      "text/vnd.plotly.v1+html": [
       "<div id=\"55fb4e65-f1be-471f-b65f-c1654b8b52d2\" style=\"height: 1000px; width: 1000px;\" class=\"plotly-graph-div\"></div><script type=\"text/javascript\">require([\"plotly\"], function(Plotly) { window.PLOTLYENV=window.PLOTLYENV || {};window.PLOTLYENV.BASE_URL=\"https://plot.ly\";Plotly.newPlot(\"55fb4e65-f1be-471f-b65f-c1654b8b52d2\", [{\"type\": \"bar\", \"x\": [18853, 15883, 12758, 12256, 11692, 10715, 9734, 8444, 8339, 7724, 6607, 6431, 6207, 6150, 5839, 5826, 5467, 5313, 5141, 4960, 4464, 4405, 3857, 3848, 3570, 3530, 3297, 3296, 3192, 2880, 2559, 2479, 2342, 1787, 1711, 1622, 1522, 1429, 1408, 1356, 1325, 1111, 1097, 1069, 1055, 996, 951, 927, 925, 925], \"y\": [\"USA\", \"Germany\", \"France\", \"UK\", \"Russia\", \"Italy\", \"Canada\", \"Japan\", \"Sweden\", \"Australia\", \"Hungary\", \"Czech Republic\", \"Poland\", \"Switzerland\", \"Netherlands\", \"China\", \"Finland\", \"Spain\", \"Austria\", \"Norway\", \"South Korea\", \"Romania\", \"Belgium\", \"Brazil\", \"Denmark\", \"Bulgaria\", \"Argentina\", \"Serbia\", \"Greece\", \"Mexico\", \"Ukraine\", \"Cuba\", \"New Zealand\", \"Belarus\", \"South Africa\", \"Egypt\", \"Portugal\", \"Kazakhstan\", \"India\", \"Turkey\", \"Ireland\", \"Slovenia\", \"Taiwan\", \"Colombia\", \"Slovakia\", \"Luxembourg\", \"Latvia\", \"Puerto Rico\", \"Venezuela\", \"Chile\"], \"orientation\": \"h\"}], {\"title\": \"Number of participants per country\", \"width\": 1000, \"height\": 1000}, {\"showLink\": true, \"linkText\": \"Export to plot.ly\"})});</script>"
      ]
     },
     "metadata": {},
     "output_type": "display_data"
    }
   ],
   "source": [
    "plotly.offline.iplot({\n",
    "    \"data\": [go.Bar(x=region.values, y=region.index, orientation = 'h')],\n",
    "    \"layout\": go.Layout(title=\"Number of participants per country\"\n",
    "                           ,width=1000,height=1000,)\n",
    "})"
   ]
  },
  {
   "cell_type": "markdown",
   "metadata": {},
   "source": [
    "### USA has sent the most number of athletes to the olympics followed by Germany "
   ]
  },
  {
   "cell_type": "code",
   "execution_count": 49,
   "metadata": {
    "collapsed": true
   },
   "outputs": [],
   "source": [
    "season = data['Season'].value_counts()"
   ]
  },
  {
   "cell_type": "code",
   "execution_count": 52,
   "metadata": {},
   "outputs": [
    {
     "data": {
      "application/vnd.plotly.v1+json": {
       "data": [
        {
         "labels": [
          "Summer",
          "Winter"
         ],
         "type": "pie",
         "values": [
          222552,
          48564
         ]
        }
       ],
       "layout": {}
      },
      "text/html": [
       "<div id=\"bae24ce2-dd09-41e2-9227-7b74a3a67627\" style=\"height: 525px; width: 100%;\" class=\"plotly-graph-div\"></div><script type=\"text/javascript\">require([\"plotly\"], function(Plotly) { window.PLOTLYENV=window.PLOTLYENV || {};window.PLOTLYENV.BASE_URL=\"https://plot.ly\";Plotly.newPlot(\"bae24ce2-dd09-41e2-9227-7b74a3a67627\", [{\"type\": \"pie\", \"labels\": [\"Summer\", \"Winter\"], \"values\": [222552, 48564]}], {}, {\"showLink\": true, \"linkText\": \"Export to plot.ly\"})});</script>"
      ],
      "text/vnd.plotly.v1+html": [
       "<div id=\"bae24ce2-dd09-41e2-9227-7b74a3a67627\" style=\"height: 525px; width: 100%;\" class=\"plotly-graph-div\"></div><script type=\"text/javascript\">require([\"plotly\"], function(Plotly) { window.PLOTLYENV=window.PLOTLYENV || {};window.PLOTLYENV.BASE_URL=\"https://plot.ly\";Plotly.newPlot(\"bae24ce2-dd09-41e2-9227-7b74a3a67627\", [{\"type\": \"pie\", \"labels\": [\"Summer\", \"Winter\"], \"values\": [222552, 48564]}], {}, {\"showLink\": true, \"linkText\": \"Export to plot.ly\"})});</script>"
      ]
     },
     "metadata": {},
     "output_type": "display_data"
    }
   ],
   "source": [
    "plotly.offline.iplot({\n",
    "    \"data\": [go.Pie(labels=season.index, values=season.values)],\n",
    "})"
   ]
  },
  {
   "cell_type": "code",
   "execution_count": 107,
   "metadata": {},
   "outputs": [
    {
     "data": {
      "application/vnd.plotly.v1+json": {
       "data": [
        {
         "marker": {
          "color": "rgba(222,45,38,0.8)"
         },
         "orientation": "h",
         "type": "bar",
         "x": [
          38624,
          26707,
          23195,
          11448,
          10859,
          10735,
          10595,
          9133,
          8829,
          7154,
          6745,
          6586,
          6344,
          6171,
          6047,
          5613,
          5516,
          5417,
          4893,
          4536,
          3937,
          3846,
          3801,
          3665,
          3578,
          3404,
          3058,
          2862,
          2842,
          2401,
          2334,
          2298,
          1955,
          1677,
          1534,
          1479,
          1457,
          1344,
          937,
          936
         ],
         "y": [
          "Athletics",
          "Gymnastics",
          "Swimming",
          "Shooting",
          "Cycling",
          "Fencing",
          "Rowing",
          "Cross Country Skiing",
          "Alpine Skiing",
          "Wrestling",
          "Football",
          "Sailing",
          "Equestrianism",
          "Canoeing",
          "Boxing",
          "Speed Skating",
          "Ice Hockey",
          "Hockey",
          "Biathlon",
          "Basketball",
          "Weightlifting",
          "Water Polo",
          "Judo",
          "Handball",
          "Art Competitions",
          "Volleyball",
          "Bobsleigh",
          "Tennis",
          "Diving",
          "Ski Jumping",
          "Archery",
          "Figure Skating",
          "Table Tennis",
          "Modern Pentathlon",
          "Short Track Speed Skating",
          "Luge",
          "Badminton",
          "Nordic Combined",
          "Freestyle Skiing",
          "Snowboarding"
         ]
        }
       ],
       "layout": {
        "height": 800,
        "margin": {
         "b": 100,
         "l": 300,
         "pad": 4,
         "r": 100,
         "t": 100
        },
        "title": "Sports with most events",
        "width": 700
       }
      },
      "text/html": [
       "<div id=\"4fa93de9-175b-4763-9b80-d1ab27517090\" style=\"height: 800px; width: 700px;\" class=\"plotly-graph-div\"></div><script type=\"text/javascript\">require([\"plotly\"], function(Plotly) { window.PLOTLYENV=window.PLOTLYENV || {};window.PLOTLYENV.BASE_URL=\"https://plot.ly\";Plotly.newPlot(\"4fa93de9-175b-4763-9b80-d1ab27517090\", [{\"type\": \"bar\", \"x\": [38624, 26707, 23195, 11448, 10859, 10735, 10595, 9133, 8829, 7154, 6745, 6586, 6344, 6171, 6047, 5613, 5516, 5417, 4893, 4536, 3937, 3846, 3801, 3665, 3578, 3404, 3058, 2862, 2842, 2401, 2334, 2298, 1955, 1677, 1534, 1479, 1457, 1344, 937, 936], \"y\": [\"Athletics\", \"Gymnastics\", \"Swimming\", \"Shooting\", \"Cycling\", \"Fencing\", \"Rowing\", \"Cross Country Skiing\", \"Alpine Skiing\", \"Wrestling\", \"Football\", \"Sailing\", \"Equestrianism\", \"Canoeing\", \"Boxing\", \"Speed Skating\", \"Ice Hockey\", \"Hockey\", \"Biathlon\", \"Basketball\", \"Weightlifting\", \"Water Polo\", \"Judo\", \"Handball\", \"Art Competitions\", \"Volleyball\", \"Bobsleigh\", \"Tennis\", \"Diving\", \"Ski Jumping\", \"Archery\", \"Figure Skating\", \"Table Tennis\", \"Modern Pentathlon\", \"Short Track Speed Skating\", \"Luge\", \"Badminton\", \"Nordic Combined\", \"Freestyle Skiing\", \"Snowboarding\"], \"orientation\": \"h\", \"marker\": {\"color\": \"rgba(222,45,38,0.8)\"}}], {\"title\": \"Sports with most events\", \"width\": 700, \"height\": 800, \"margin\": {\"l\": 300, \"r\": 100, \"b\": 100, \"t\": 100, \"pad\": 4}}, {\"showLink\": true, \"linkText\": \"Export to plot.ly\"})});</script>"
      ],
      "text/vnd.plotly.v1+html": [
       "<div id=\"4fa93de9-175b-4763-9b80-d1ab27517090\" style=\"height: 800px; width: 700px;\" class=\"plotly-graph-div\"></div><script type=\"text/javascript\">require([\"plotly\"], function(Plotly) { window.PLOTLYENV=window.PLOTLYENV || {};window.PLOTLYENV.BASE_URL=\"https://plot.ly\";Plotly.newPlot(\"4fa93de9-175b-4763-9b80-d1ab27517090\", [{\"type\": \"bar\", \"x\": [38624, 26707, 23195, 11448, 10859, 10735, 10595, 9133, 8829, 7154, 6745, 6586, 6344, 6171, 6047, 5613, 5516, 5417, 4893, 4536, 3937, 3846, 3801, 3665, 3578, 3404, 3058, 2862, 2842, 2401, 2334, 2298, 1955, 1677, 1534, 1479, 1457, 1344, 937, 936], \"y\": [\"Athletics\", \"Gymnastics\", \"Swimming\", \"Shooting\", \"Cycling\", \"Fencing\", \"Rowing\", \"Cross Country Skiing\", \"Alpine Skiing\", \"Wrestling\", \"Football\", \"Sailing\", \"Equestrianism\", \"Canoeing\", \"Boxing\", \"Speed Skating\", \"Ice Hockey\", \"Hockey\", \"Biathlon\", \"Basketball\", \"Weightlifting\", \"Water Polo\", \"Judo\", \"Handball\", \"Art Competitions\", \"Volleyball\", \"Bobsleigh\", \"Tennis\", \"Diving\", \"Ski Jumping\", \"Archery\", \"Figure Skating\", \"Table Tennis\", \"Modern Pentathlon\", \"Short Track Speed Skating\", \"Luge\", \"Badminton\", \"Nordic Combined\", \"Freestyle Skiing\", \"Snowboarding\"], \"orientation\": \"h\", \"marker\": {\"color\": \"rgba(222,45,38,0.8)\"}}], {\"title\": \"Sports with most events\", \"width\": 700, \"height\": 800, \"margin\": {\"l\": 300, \"r\": 100, \"b\": 100, \"t\": 100, \"pad\": 4}}, {\"showLink\": true, \"linkText\": \"Export to plot.ly\"})});</script>"
      ]
     },
     "metadata": {},
     "output_type": "display_data"
    }
   ],
   "source": [
    "sport = data['Sport'].value_counts()\n",
    "sport = sport.sort_values()[::-1][:40]\n",
    "plotly.offline.iplot({\n",
    "    \"data\": [go.Bar(x=sport.values, y=sport.index, orientation = 'h', marker = dict(color = 'rgba(222,45,38,0.8)'))],\n",
    "    \"layout\": go.Layout(title=\"Sports with most events\"\n",
    "                           ,width=700,height=800,margin=go.Margin(\n",
    "        l=300,\n",
    "        r=100,\n",
    "        b=100,\n",
    "        t=100,\n",
    "        pad=4\n",
    "    ),)\n",
    "})"
   ]
  },
  {
   "cell_type": "markdown",
   "metadata": {},
   "source": [
    "## India's Medal Count and distribution"
   ]
  },
  {
   "cell_type": "code",
   "execution_count": 87,
   "metadata": {},
   "outputs": [
    {
     "data": {
      "text/plain": [
       "Gold      138\n",
       "Bronze     40\n",
       "Silver     19\n",
       "Name: Medal, dtype: int64"
      ]
     },
     "execution_count": 87,
     "metadata": {},
     "output_type": "execute_result"
    }
   ],
   "source": [
    "India = data[(data['region']=='India')]\n",
    "medals = India['Medal'].value_counts()\n",
    "medals"
   ]
  },
  {
   "cell_type": "code",
   "execution_count": 61,
   "metadata": {},
   "outputs": [
    {
     "data": {
      "application/vnd.plotly.v1+json": {
       "data": [
        {
         "labels": [
          "Gold",
          "Bronze",
          "Silver"
         ],
         "type": "pie",
         "values": [
          138,
          40,
          19
         ]
        }
       ],
       "layout": {}
      },
      "text/html": [
       "<div id=\"2c6bb9ed-6702-4b04-b835-19475059e3a1\" style=\"height: 525px; width: 100%;\" class=\"plotly-graph-div\"></div><script type=\"text/javascript\">require([\"plotly\"], function(Plotly) { window.PLOTLYENV=window.PLOTLYENV || {};window.PLOTLYENV.BASE_URL=\"https://plot.ly\";Plotly.newPlot(\"2c6bb9ed-6702-4b04-b835-19475059e3a1\", [{\"type\": \"pie\", \"labels\": [\"Gold\", \"Bronze\", \"Silver\"], \"values\": [138, 40, 19]}], {}, {\"showLink\": true, \"linkText\": \"Export to plot.ly\"})});</script>"
      ],
      "text/vnd.plotly.v1+html": [
       "<div id=\"2c6bb9ed-6702-4b04-b835-19475059e3a1\" style=\"height: 525px; width: 100%;\" class=\"plotly-graph-div\"></div><script type=\"text/javascript\">require([\"plotly\"], function(Plotly) { window.PLOTLYENV=window.PLOTLYENV || {};window.PLOTLYENV.BASE_URL=\"https://plot.ly\";Plotly.newPlot(\"2c6bb9ed-6702-4b04-b835-19475059e3a1\", [{\"type\": \"pie\", \"labels\": [\"Gold\", \"Bronze\", \"Silver\"], \"values\": [138, 40, 19]}], {}, {\"showLink\": true, \"linkText\": \"Export to plot.ly\"})});</script>"
      ]
     },
     "metadata": {},
     "output_type": "display_data"
    }
   ],
   "source": [
    "plotly.offline.iplot({\n",
    "    \"data\": [go.Pie(labels=medals.index, values=medals.values)],\n",
    "    \n",
    "})"
   ]
  },
  {
   "cell_type": "code",
   "execution_count": 88,
   "metadata": {
    "collapsed": true
   },
   "outputs": [],
   "source": [
    "India['Gold'] = India['Medal'].map({'Gold': 1, 'Bronze': 0,'Silver':0})\n",
    "India['Silver'] = India['Medal'].map({'Gold': 0, 'Bronze': 0,'Silver':1})\n",
    "India['Bronze'] = India['Medal'].map({'Gold': 0, 'Bronze': 1,'Silver':0})\n",
    "total_medals =India.groupby(['Year']).sum()"
   ]
  },
  {
   "cell_type": "code",
   "execution_count": 95,
   "metadata": {},
   "outputs": [
    {
     "data": {
      "application/vnd.plotly.v1+json": {
       "data": [
        {
         "mode": "lines",
         "name": "GOLD",
         "type": "scatter",
         "x": [
          1900,
          1920,
          1924,
          1928,
          1932,
          1936,
          1948,
          1952,
          1956,
          1960,
          1964,
          1968,
          1972,
          1976,
          1980,
          1984,
          1988,
          1992,
          1996,
          1998,
          2000,
          2002,
          2004,
          2006,
          2008,
          2010,
          2012,
          2014,
          2016
         ],
         "y": [
          0,
          0,
          7,
          14,
          15,
          19,
          20,
          14,
          17,
          0,
          15,
          0,
          0,
          0,
          16,
          0,
          0,
          0,
          0,
          0,
          0,
          0,
          0,
          0,
          1,
          0,
          0,
          0,
          0
         ]
        },
        {
         "mode": "lines",
         "name": "SILVER",
         "type": "scatter",
         "x": [
          1900,
          1920,
          1924,
          1928,
          1932,
          1936,
          1948,
          1952,
          1956,
          1960,
          1964,
          1968,
          1972,
          1976,
          1980,
          1984,
          1988,
          1992,
          1996,
          1998,
          2000,
          2002,
          2004,
          2006,
          2008,
          2010,
          2012,
          2014,
          2016
         ],
         "y": [
          2,
          0,
          0,
          0,
          0,
          0,
          0,
          0,
          0,
          13,
          0,
          0,
          0,
          0,
          0,
          0,
          0,
          0,
          0,
          0,
          0,
          0,
          1,
          0,
          0,
          0,
          2,
          0,
          1
         ]
        },
        {
         "mode": "lines",
         "name": "BRONZE",
         "type": "scatter",
         "x": [
          1900,
          1920,
          1924,
          1928,
          1932,
          1936,
          1948,
          1952,
          1956,
          1960,
          1964,
          1968,
          1972,
          1976,
          1980,
          1984,
          1988,
          1992,
          1996,
          1998,
          2000,
          2002,
          2004,
          2006,
          2008,
          2010,
          2012,
          2014,
          2016
         ],
         "y": [
          0,
          0,
          0,
          0,
          0,
          0,
          0,
          1,
          0,
          0,
          0,
          16,
          14,
          0,
          0,
          0,
          0,
          0,
          1,
          0,
          1,
          0,
          0,
          0,
          2,
          0,
          4,
          0,
          1
         ]
        }
       ],
       "layout": {}
      },
      "text/html": [
       "<div id=\"8794193d-5be2-4e32-893e-6608ad4fddf0\" style=\"height: 525px; width: 100%;\" class=\"plotly-graph-div\"></div><script type=\"text/javascript\">require([\"plotly\"], function(Plotly) { window.PLOTLYENV=window.PLOTLYENV || {};window.PLOTLYENV.BASE_URL=\"https://plot.ly\";Plotly.newPlot(\"8794193d-5be2-4e32-893e-6608ad4fddf0\", [{\"type\": \"scatter\", \"x\": [1900, 1920, 1924, 1928, 1932, 1936, 1948, 1952, 1956, 1960, 1964, 1968, 1972, 1976, 1980, 1984, 1988, 1992, 1996, 1998, 2000, 2002, 2004, 2006, 2008, 2010, 2012, 2014, 2016], \"y\": [0.0, 0.0, 7.0, 14.0, 15.0, 19.0, 20.0, 14.0, 17.0, 0.0, 15.0, 0.0, 0.0, 0.0, 16.0, 0.0, 0.0, 0.0, 0.0, 0.0, 0.0, 0.0, 0.0, 0.0, 1.0, 0.0, 0.0, 0.0, 0.0], \"mode\": \"lines\", \"name\": \"GOLD\"}, {\"type\": \"scatter\", \"x\": [1900, 1920, 1924, 1928, 1932, 1936, 1948, 1952, 1956, 1960, 1964, 1968, 1972, 1976, 1980, 1984, 1988, 1992, 1996, 1998, 2000, 2002, 2004, 2006, 2008, 2010, 2012, 2014, 2016], \"y\": [2.0, 0.0, 0.0, 0.0, 0.0, 0.0, 0.0, 0.0, 0.0, 13.0, 0.0, 0.0, 0.0, 0.0, 0.0, 0.0, 0.0, 0.0, 0.0, 0.0, 0.0, 0.0, 1.0, 0.0, 0.0, 0.0, 2.0, 0.0, 1.0], \"mode\": \"lines\", \"name\": \"SILVER\"}, {\"type\": \"scatter\", \"x\": [1900, 1920, 1924, 1928, 1932, 1936, 1948, 1952, 1956, 1960, 1964, 1968, 1972, 1976, 1980, 1984, 1988, 1992, 1996, 1998, 2000, 2002, 2004, 2006, 2008, 2010, 2012, 2014, 2016], \"y\": [0.0, 0.0, 0.0, 0.0, 0.0, 0.0, 0.0, 1.0, 0.0, 0.0, 0.0, 16.0, 14.0, 0.0, 0.0, 0.0, 0.0, 0.0, 1.0, 0.0, 1.0, 0.0, 0.0, 0.0, 2.0, 0.0, 4.0, 0.0, 1.0], \"mode\": \"lines\", \"name\": \"BRONZE\"}], {}, {\"showLink\": true, \"linkText\": \"Export to plot.ly\"})});</script>"
      ],
      "text/vnd.plotly.v1+html": [
       "<div id=\"8794193d-5be2-4e32-893e-6608ad4fddf0\" style=\"height: 525px; width: 100%;\" class=\"plotly-graph-div\"></div><script type=\"text/javascript\">require([\"plotly\"], function(Plotly) { window.PLOTLYENV=window.PLOTLYENV || {};window.PLOTLYENV.BASE_URL=\"https://plot.ly\";Plotly.newPlot(\"8794193d-5be2-4e32-893e-6608ad4fddf0\", [{\"type\": \"scatter\", \"x\": [1900, 1920, 1924, 1928, 1932, 1936, 1948, 1952, 1956, 1960, 1964, 1968, 1972, 1976, 1980, 1984, 1988, 1992, 1996, 1998, 2000, 2002, 2004, 2006, 2008, 2010, 2012, 2014, 2016], \"y\": [0.0, 0.0, 7.0, 14.0, 15.0, 19.0, 20.0, 14.0, 17.0, 0.0, 15.0, 0.0, 0.0, 0.0, 16.0, 0.0, 0.0, 0.0, 0.0, 0.0, 0.0, 0.0, 0.0, 0.0, 1.0, 0.0, 0.0, 0.0, 0.0], \"mode\": \"lines\", \"name\": \"GOLD\"}, {\"type\": \"scatter\", \"x\": [1900, 1920, 1924, 1928, 1932, 1936, 1948, 1952, 1956, 1960, 1964, 1968, 1972, 1976, 1980, 1984, 1988, 1992, 1996, 1998, 2000, 2002, 2004, 2006, 2008, 2010, 2012, 2014, 2016], \"y\": [2.0, 0.0, 0.0, 0.0, 0.0, 0.0, 0.0, 0.0, 0.0, 13.0, 0.0, 0.0, 0.0, 0.0, 0.0, 0.0, 0.0, 0.0, 0.0, 0.0, 0.0, 0.0, 1.0, 0.0, 0.0, 0.0, 2.0, 0.0, 1.0], \"mode\": \"lines\", \"name\": \"SILVER\"}, {\"type\": \"scatter\", \"x\": [1900, 1920, 1924, 1928, 1932, 1936, 1948, 1952, 1956, 1960, 1964, 1968, 1972, 1976, 1980, 1984, 1988, 1992, 1996, 1998, 2000, 2002, 2004, 2006, 2008, 2010, 2012, 2014, 2016], \"y\": [0.0, 0.0, 0.0, 0.0, 0.0, 0.0, 0.0, 1.0, 0.0, 0.0, 0.0, 16.0, 14.0, 0.0, 0.0, 0.0, 0.0, 0.0, 1.0, 0.0, 1.0, 0.0, 0.0, 0.0, 2.0, 0.0, 4.0, 0.0, 1.0], \"mode\": \"lines\", \"name\": \"BRONZE\"}], {}, {\"showLink\": true, \"linkText\": \"Export to plot.ly\"})});</script>"
      ]
     },
     "metadata": {},
     "output_type": "display_data"
    }
   ],
   "source": [
    "total_medals= total_medals.fillna(0)\n",
    "trace0 = go.Scatter(\n",
    "    x = total_medals.index,\n",
    "    y = total_medals['Gold'],\n",
    "    mode = 'lines',\n",
    "    name = 'GOLD'\n",
    ")\n",
    "trace1 = go.Scatter(\n",
    "    x = total_medals.index,\n",
    "    y = total_medals['Silver'],\n",
    "    mode = 'lines',\n",
    "    name = 'SILVER'\n",
    ")\n",
    "trace2 = go.Scatter(\n",
    "    x = total_medals.index,\n",
    "    y = total_medals['Bronze'],\n",
    "    mode = 'lines',\n",
    "    name = 'BRONZE'\n",
    ")\n",
    "\n",
    "data = [trace0, trace1, trace2]\n",
    "\n",
    "plotly.offline.iplot({\n",
    "    \"data\": data\n",
    "})"
   ]
  },
  {
   "cell_type": "markdown",
   "metadata": {},
   "source": [
    "### The distribution is very lean, let's try USA"
   ]
  },
  {
   "cell_type": "code",
   "execution_count": 103,
   "metadata": {},
   "outputs": [
    {
     "name": "stdout",
     "output_type": "stream",
     "text": [
      "Gold      2638\n",
      "Silver    1641\n",
      "Bronze    1358\n",
      "Name: Medal, dtype: int64\n"
     ]
    }
   ],
   "source": [
    "data = pd.merge(events, noc, on='NOC', how='left')\n",
    "USA = data[(data['region']=='USA')]\n",
    "medals = USA['Medal'].value_counts()\n",
    "print(medals)\n",
    "USA['Gold'] = USA['Medal'].map({'Gold': 1, 'Bronze': 0,'Silver':0})\n",
    "USA['Silver'] = USA['Medal'].map({'Gold': 0, 'Bronze': 0,'Silver':1})\n",
    "USA['Bronze'] = USA['Medal'].map({'Gold': 0, 'Bronze': 1,'Silver':0})\n",
    "total_medals =USA.groupby(['Year']).sum()"
   ]
  },
  {
   "cell_type": "code",
   "execution_count": 104,
   "metadata": {},
   "outputs": [
    {
     "data": {
      "application/vnd.plotly.v1+json": {
       "data": [
        {
         "mode": "lines",
         "name": "GOLD",
         "type": "scatter",
         "x": [
          1896,
          1900,
          1904,
          1906,
          1908,
          1912,
          1920,
          1924,
          1928,
          1932,
          1936,
          1948,
          1952,
          1956,
          1960,
          1964,
          1968,
          1972,
          1976,
          1980,
          1984,
          1988,
          1992,
          1994,
          1996,
          1998,
          2000,
          2002,
          2004,
          2006,
          2008,
          2010,
          2012,
          2014,
          2016
         ],
         "y": [
          11,
          30,
          128,
          12,
          34,
          46,
          111,
          98,
          53,
          91,
          53,
          93,
          87,
          63,
          100,
          96,
          100,
          72,
          73,
          24,
          190,
          89,
          94,
          6,
          159,
          25,
          130,
          11,
          117,
          9,
          127,
          12,
          145,
          10,
          139
         ]
        },
        {
         "mode": "lines",
         "name": "SILVER",
         "type": "scatter",
         "x": [
          1896,
          1900,
          1904,
          1906,
          1908,
          1912,
          1920,
          1924,
          1928,
          1932,
          1936,
          1948,
          1952,
          1956,
          1960,
          1964,
          1968,
          1972,
          1976,
          1980,
          1984,
          1988,
          1992,
          1994,
          1996,
          1998,
          2000,
          2002,
          2004,
          2006,
          2008,
          2010,
          2012,
          2014,
          2016
         ],
         "y": [
          7,
          16,
          141,
          6,
          16,
          25,
          45,
          46,
          30,
          68,
          29,
          34,
          48,
          61,
          27,
          39,
          37,
          77,
          61,
          4,
          121,
          67,
          57,
          8,
          48,
          4,
          61,
          58,
          75,
          11,
          110,
          63,
          57,
          30,
          54
         ]
        },
        {
         "mode": "lines",
         "name": "BRONZE",
         "type": "scatter",
         "x": [
          1896,
          1900,
          1904,
          1906,
          1908,
          1912,
          1920,
          1924,
          1928,
          1932,
          1936,
          1948,
          1952,
          1956,
          1960,
          1964,
          1968,
          1972,
          1976,
          1980,
          1984,
          1988,
          1992,
          1994,
          1996,
          1998,
          2000,
          2002,
          2004,
          2006,
          2008,
          2010,
          2012,
          2014,
          2016
         ],
         "y": [
          2,
          17,
          125,
          6,
          15,
          36,
          38,
          50,
          19,
          64,
          30,
          41,
          29,
          25,
          25,
          42,
          36,
          46,
          41,
          2,
          50,
          58,
          87,
          5,
          52,
          5,
          51,
          15,
          71,
          32,
          80,
          22,
          46,
          24,
          71
         ]
        }
       ],
       "layout": {}
      },
      "text/html": [
       "<div id=\"44c3cbbb-e0a7-4b34-9546-d6f4c2aee098\" style=\"height: 525px; width: 100%;\" class=\"plotly-graph-div\"></div><script type=\"text/javascript\">require([\"plotly\"], function(Plotly) { window.PLOTLYENV=window.PLOTLYENV || {};window.PLOTLYENV.BASE_URL=\"https://plot.ly\";Plotly.newPlot(\"44c3cbbb-e0a7-4b34-9546-d6f4c2aee098\", [{\"type\": \"scatter\", \"x\": [1896, 1900, 1904, 1906, 1908, 1912, 1920, 1924, 1928, 1932, 1936, 1948, 1952, 1956, 1960, 1964, 1968, 1972, 1976, 1980, 1984, 1988, 1992, 1994, 1996, 1998, 2000, 2002, 2004, 2006, 2008, 2010, 2012, 2014, 2016], \"y\": [11.0, 30.0, 128.0, 12.0, 34.0, 46.0, 111.0, 98.0, 53.0, 91.0, 53.0, 93.0, 87.0, 63.0, 100.0, 96.0, 100.0, 72.0, 73.0, 24.0, 190.0, 89.0, 94.0, 6.0, 159.0, 25.0, 130.0, 11.0, 117.0, 9.0, 127.0, 12.0, 145.0, 10.0, 139.0], \"mode\": \"lines\", \"name\": \"GOLD\"}, {\"type\": \"scatter\", \"x\": [1896, 1900, 1904, 1906, 1908, 1912, 1920, 1924, 1928, 1932, 1936, 1948, 1952, 1956, 1960, 1964, 1968, 1972, 1976, 1980, 1984, 1988, 1992, 1994, 1996, 1998, 2000, 2002, 2004, 2006, 2008, 2010, 2012, 2014, 2016], \"y\": [7.0, 16.0, 141.0, 6.0, 16.0, 25.0, 45.0, 46.0, 30.0, 68.0, 29.0, 34.0, 48.0, 61.0, 27.0, 39.0, 37.0, 77.0, 61.0, 4.0, 121.0, 67.0, 57.0, 8.0, 48.0, 4.0, 61.0, 58.0, 75.0, 11.0, 110.0, 63.0, 57.0, 30.0, 54.0], \"mode\": \"lines\", \"name\": \"SILVER\"}, {\"type\": \"scatter\", \"x\": [1896, 1900, 1904, 1906, 1908, 1912, 1920, 1924, 1928, 1932, 1936, 1948, 1952, 1956, 1960, 1964, 1968, 1972, 1976, 1980, 1984, 1988, 1992, 1994, 1996, 1998, 2000, 2002, 2004, 2006, 2008, 2010, 2012, 2014, 2016], \"y\": [2.0, 17.0, 125.0, 6.0, 15.0, 36.0, 38.0, 50.0, 19.0, 64.0, 30.0, 41.0, 29.0, 25.0, 25.0, 42.0, 36.0, 46.0, 41.0, 2.0, 50.0, 58.0, 87.0, 5.0, 52.0, 5.0, 51.0, 15.0, 71.0, 32.0, 80.0, 22.0, 46.0, 24.0, 71.0], \"mode\": \"lines\", \"name\": \"BRONZE\"}], {}, {\"showLink\": true, \"linkText\": \"Export to plot.ly\"})});</script>"
      ],
      "text/vnd.plotly.v1+html": [
       "<div id=\"44c3cbbb-e0a7-4b34-9546-d6f4c2aee098\" style=\"height: 525px; width: 100%;\" class=\"plotly-graph-div\"></div><script type=\"text/javascript\">require([\"plotly\"], function(Plotly) { window.PLOTLYENV=window.PLOTLYENV || {};window.PLOTLYENV.BASE_URL=\"https://plot.ly\";Plotly.newPlot(\"44c3cbbb-e0a7-4b34-9546-d6f4c2aee098\", [{\"type\": \"scatter\", \"x\": [1896, 1900, 1904, 1906, 1908, 1912, 1920, 1924, 1928, 1932, 1936, 1948, 1952, 1956, 1960, 1964, 1968, 1972, 1976, 1980, 1984, 1988, 1992, 1994, 1996, 1998, 2000, 2002, 2004, 2006, 2008, 2010, 2012, 2014, 2016], \"y\": [11.0, 30.0, 128.0, 12.0, 34.0, 46.0, 111.0, 98.0, 53.0, 91.0, 53.0, 93.0, 87.0, 63.0, 100.0, 96.0, 100.0, 72.0, 73.0, 24.0, 190.0, 89.0, 94.0, 6.0, 159.0, 25.0, 130.0, 11.0, 117.0, 9.0, 127.0, 12.0, 145.0, 10.0, 139.0], \"mode\": \"lines\", \"name\": \"GOLD\"}, {\"type\": \"scatter\", \"x\": [1896, 1900, 1904, 1906, 1908, 1912, 1920, 1924, 1928, 1932, 1936, 1948, 1952, 1956, 1960, 1964, 1968, 1972, 1976, 1980, 1984, 1988, 1992, 1994, 1996, 1998, 2000, 2002, 2004, 2006, 2008, 2010, 2012, 2014, 2016], \"y\": [7.0, 16.0, 141.0, 6.0, 16.0, 25.0, 45.0, 46.0, 30.0, 68.0, 29.0, 34.0, 48.0, 61.0, 27.0, 39.0, 37.0, 77.0, 61.0, 4.0, 121.0, 67.0, 57.0, 8.0, 48.0, 4.0, 61.0, 58.0, 75.0, 11.0, 110.0, 63.0, 57.0, 30.0, 54.0], \"mode\": \"lines\", \"name\": \"SILVER\"}, {\"type\": \"scatter\", \"x\": [1896, 1900, 1904, 1906, 1908, 1912, 1920, 1924, 1928, 1932, 1936, 1948, 1952, 1956, 1960, 1964, 1968, 1972, 1976, 1980, 1984, 1988, 1992, 1994, 1996, 1998, 2000, 2002, 2004, 2006, 2008, 2010, 2012, 2014, 2016], \"y\": [2.0, 17.0, 125.0, 6.0, 15.0, 36.0, 38.0, 50.0, 19.0, 64.0, 30.0, 41.0, 29.0, 25.0, 25.0, 42.0, 36.0, 46.0, 41.0, 2.0, 50.0, 58.0, 87.0, 5.0, 52.0, 5.0, 51.0, 15.0, 71.0, 32.0, 80.0, 22.0, 46.0, 24.0, 71.0], \"mode\": \"lines\", \"name\": \"BRONZE\"}], {}, {\"showLink\": true, \"linkText\": \"Export to plot.ly\"})});</script>"
      ]
     },
     "metadata": {},
     "output_type": "display_data"
    }
   ],
   "source": [
    "total_medals= total_medals.fillna(0)\n",
    "trace0 = go.Scatter(\n",
    "    x = total_medals.index,\n",
    "    y = total_medals['Gold'],\n",
    "    mode = 'lines',\n",
    "    name = 'GOLD'\n",
    ")\n",
    "trace1 = go.Scatter(\n",
    "    x = total_medals.index,\n",
    "    y = total_medals['Silver'],\n",
    "    mode = 'lines',\n",
    "    name = 'SILVER'\n",
    ")\n",
    "trace2 = go.Scatter(\n",
    "    x = total_medals.index,\n",
    "    y = total_medals['Bronze'],\n",
    "    mode = 'lines',\n",
    "    name = 'BRONZE'\n",
    ")\n",
    "\n",
    "data = [trace0, trace1, trace2]\n",
    "\n",
    "plotly.offline.iplot({\n",
    "    \"data\": data\n",
    "})"
   ]
  },
  {
   "cell_type": "code",
   "execution_count": 156,
   "metadata": {},
   "outputs": [],
   "source": [
    "data = pd.merge(events, noc, on='NOC', how='left')\n",
    "mean = data.groupby('region').mean()\n",
    "sort = mean.sort_values('Height')[::-1]"
   ]
  },
  {
   "cell_type": "code",
   "execution_count": 39,
   "metadata": {},
   "outputs": [],
   "source": [
    "sort = sort.head(50)"
   ]
  },
  {
   "cell_type": "code",
   "execution_count": 40,
   "metadata": {},
   "outputs": [
    {
     "data": {
      "application/vnd.plotly.v1+json": {
       "data": [
        {
         "name": "Average Weight",
         "type": "bar",
         "x": [
          "Croatia",
          "Montenegro",
          "Lithuania",
          "Iceland",
          "Serbia",
          "Mali",
          "Senegal",
          "Latvia",
          "Cayman Islands",
          "Netherlands",
          "Tonga",
          "Estonia",
          "Central African Republic",
          "Denmark",
          "Bosnia and Herzegovina",
          "Virgin Islands, British",
          "Tunisia",
          "Qatar",
          "Angola",
          "Slovakia",
          "Egypt",
          "Kyrgyzstan",
          "Norway",
          "Sweden",
          "Virgin Islands, US",
          "New Zealand",
          "South Africa",
          "Brazil",
          "Bahamas",
          "Fiji",
          "Bermuda",
          "Puerto Rico",
          "Austria",
          "Curacao",
          "Slovenia",
          "Germany",
          "Saint Vincent",
          "Sierra Leone",
          "Trinidad",
          "Individual Olympic Athletes",
          "USA",
          "Australia",
          "Greece",
          "Cyprus",
          "Ireland",
          "Argentina",
          "Barbados",
          "Guam",
          "Paraguay",
          "Chad"
         ],
         "y": [
          81.62634730538922,
          84.82978723404256,
          78.18013468013469,
          78.3892773892774,
          77.02688860435339,
          74.875,
          74.70809248554913,
          78.26913265306122,
          75,
          73.5559113957833,
          82.75555555555556,
          74.42955112219451,
          70.6304347826087,
          73.83750728013977,
          77.04424778761062,
          73.8,
          74.20190476190476,
          74.53179190751445,
          74.14285714285714,
          73.78578290105668,
          76.63651315789474,
          73.30348258706468,
          72.84607906675308,
          73.10383895131086,
          73.4125,
          74.33710756562017,
          72.58256029684601,
          72.54987452948556,
          73.16524216524216,
          76.25471698113208,
          74.06015037593986,
          72.56720430107526,
          73.7041770573566,
          76.17647058823529,
          72.09593023255815,
          71.97311502684715,
          66.73913043478261,
          68.19,
          72.62837837837837,
          73.29411764705883,
          72.631871079083,
          72.3379963898917,
          73.2683765203596,
          71.1875,
          70.385948026949,
          73.99732023224654,
          72.7696335078534,
          74.1566265060241,
          73.5,
          65.82352941176471
         ]
        },
        {
         "name": "Average Height",
         "type": "bar",
         "x": [
          "Croatia",
          "Montenegro",
          "Lithuania",
          "Iceland",
          "Serbia",
          "Mali",
          "Senegal",
          "Latvia",
          "Cayman Islands",
          "Netherlands",
          "Tonga",
          "Estonia",
          "Central African Republic",
          "Denmark",
          "Bosnia and Herzegovina",
          "Virgin Islands, British",
          "Tunisia",
          "Qatar",
          "Angola",
          "Slovakia",
          "Egypt",
          "Kyrgyzstan",
          "Norway",
          "Sweden",
          "Virgin Islands, US",
          "New Zealand",
          "South Africa",
          "Brazil",
          "Bahamas",
          "Fiji",
          "Bermuda",
          "Puerto Rico",
          "Austria",
          "Curacao",
          "Slovenia",
          "Germany",
          "Saint Vincent",
          "Sierra Leone",
          "Trinidad",
          "Individual Olympic Athletes",
          "USA",
          "Australia",
          "Greece",
          "Cyprus",
          "Ireland",
          "Argentina",
          "Barbados",
          "Guam",
          "Paraguay",
          "Chad"
         ],
         "y": [
          183.6131736526946,
          183.56382978723406,
          182.09950248756218,
          181.2454128440367,
          180.80417198808004,
          180.60655737704917,
          180.17888563049854,
          179.64450127877237,
          179.5068493150685,
          179.48890649762282,
          179.30555555555554,
          179.30186335403727,
          179.27659574468086,
          179.20099667774087,
          178.63392857142858,
          178.6315789473684,
          178.5284090909091,
          178.32558139534885,
          178.20408163265307,
          178.1701923076923,
          178.1044776119403,
          178.075,
          178.0023973629008,
          177.94206363803568,
          177.93333333333334,
          177.83285024154588,
          177.7853839037928,
          177.637147102526,
          177.4406779661017,
          177.42028985507247,
          177.40579710144928,
          177.37619699042406,
          177.36968576709796,
          177.2941176470588,
          177.22674418604652,
          177.06099759615384,
          177.04347826086956,
          177.03960396039605,
          177.0298913043478,
          177.02941176470588,
          176.88690315619098,
          176.87346637102735,
          176.78333333333333,
          176.67539267015707,
          176.61428571428573,
          176.6047223436817,
          176.59895833333334,
          176.58536585365854,
          176.58415841584159,
          176.55882352941177
         ]
        }
       ],
       "layout": {}
      },
      "text/html": [
       "<div id=\"e4305874-fa41-4949-bbb7-1ce63da20e84\" style=\"height: 525px; width: 100%;\" class=\"plotly-graph-div\"></div><script type=\"text/javascript\">require([\"plotly\"], function(Plotly) { window.PLOTLYENV=window.PLOTLYENV || {};window.PLOTLYENV.BASE_URL=\"https://plot.ly\";Plotly.newPlot(\"e4305874-fa41-4949-bbb7-1ce63da20e84\", [{\"type\": \"bar\", \"x\": [\"Croatia\", \"Montenegro\", \"Lithuania\", \"Iceland\", \"Serbia\", \"Mali\", \"Senegal\", \"Latvia\", \"Cayman Islands\", \"Netherlands\", \"Tonga\", \"Estonia\", \"Central African Republic\", \"Denmark\", \"Bosnia and Herzegovina\", \"Virgin Islands, British\", \"Tunisia\", \"Qatar\", \"Angola\", \"Slovakia\", \"Egypt\", \"Kyrgyzstan\", \"Norway\", \"Sweden\", \"Virgin Islands, US\", \"New Zealand\", \"South Africa\", \"Brazil\", \"Bahamas\", \"Fiji\", \"Bermuda\", \"Puerto Rico\", \"Austria\", \"Curacao\", \"Slovenia\", \"Germany\", \"Saint Vincent\", \"Sierra Leone\", \"Trinidad\", \"Individual Olympic Athletes\", \"USA\", \"Australia\", \"Greece\", \"Cyprus\", \"Ireland\", \"Argentina\", \"Barbados\", \"Guam\", \"Paraguay\", \"Chad\"], \"y\": [81.62634730538922, 84.82978723404256, 78.18013468013469, 78.3892773892774, 77.02688860435339, 74.875, 74.70809248554913, 78.26913265306122, 75.0, 73.5559113957833, 82.75555555555556, 74.42955112219451, 70.6304347826087, 73.83750728013977, 77.04424778761062, 73.8, 74.20190476190476, 74.53179190751445, 74.14285714285714, 73.78578290105668, 76.63651315789474, 73.30348258706468, 72.84607906675308, 73.10383895131086, 73.4125, 74.33710756562017, 72.58256029684601, 72.54987452948556, 73.16524216524216, 76.25471698113208, 74.06015037593986, 72.56720430107526, 73.7041770573566, 76.17647058823529, 72.09593023255815, 71.97311502684715, 66.73913043478261, 68.19, 72.62837837837837, 73.29411764705883, 72.631871079083, 72.3379963898917, 73.2683765203596, 71.1875, 70.385948026949, 73.99732023224654, 72.7696335078534, 74.1566265060241, 73.5, 65.82352941176471], \"name\": \"Average Weight\"}, {\"type\": \"bar\", \"x\": [\"Croatia\", \"Montenegro\", \"Lithuania\", \"Iceland\", \"Serbia\", \"Mali\", \"Senegal\", \"Latvia\", \"Cayman Islands\", \"Netherlands\", \"Tonga\", \"Estonia\", \"Central African Republic\", \"Denmark\", \"Bosnia and Herzegovina\", \"Virgin Islands, British\", \"Tunisia\", \"Qatar\", \"Angola\", \"Slovakia\", \"Egypt\", \"Kyrgyzstan\", \"Norway\", \"Sweden\", \"Virgin Islands, US\", \"New Zealand\", \"South Africa\", \"Brazil\", \"Bahamas\", \"Fiji\", \"Bermuda\", \"Puerto Rico\", \"Austria\", \"Curacao\", \"Slovenia\", \"Germany\", \"Saint Vincent\", \"Sierra Leone\", \"Trinidad\", \"Individual Olympic Athletes\", \"USA\", \"Australia\", \"Greece\", \"Cyprus\", \"Ireland\", \"Argentina\", \"Barbados\", \"Guam\", \"Paraguay\", \"Chad\"], \"y\": [183.6131736526946, 183.56382978723406, 182.09950248756218, 181.2454128440367, 180.80417198808004, 180.60655737704917, 180.17888563049854, 179.64450127877237, 179.5068493150685, 179.48890649762282, 179.30555555555554, 179.30186335403727, 179.27659574468086, 179.20099667774087, 178.63392857142858, 178.6315789473684, 178.5284090909091, 178.32558139534885, 178.20408163265307, 178.1701923076923, 178.1044776119403, 178.075, 178.0023973629008, 177.94206363803568, 177.93333333333334, 177.83285024154588, 177.7853839037928, 177.637147102526, 177.4406779661017, 177.42028985507247, 177.40579710144928, 177.37619699042406, 177.36968576709796, 177.2941176470588, 177.22674418604652, 177.06099759615384, 177.04347826086956, 177.03960396039605, 177.0298913043478, 177.02941176470588, 176.88690315619098, 176.87346637102735, 176.78333333333333, 176.67539267015707, 176.61428571428573, 176.6047223436817, 176.59895833333334, 176.58536585365854, 176.58415841584159, 176.55882352941177], \"name\": \"Average Height\"}], {}, {\"showLink\": true, \"linkText\": \"Export to plot.ly\"})});</script>"
      ],
      "text/vnd.plotly.v1+html": [
       "<div id=\"e4305874-fa41-4949-bbb7-1ce63da20e84\" style=\"height: 525px; width: 100%;\" class=\"plotly-graph-div\"></div><script type=\"text/javascript\">require([\"plotly\"], function(Plotly) { window.PLOTLYENV=window.PLOTLYENV || {};window.PLOTLYENV.BASE_URL=\"https://plot.ly\";Plotly.newPlot(\"e4305874-fa41-4949-bbb7-1ce63da20e84\", [{\"type\": \"bar\", \"x\": [\"Croatia\", \"Montenegro\", \"Lithuania\", \"Iceland\", \"Serbia\", \"Mali\", \"Senegal\", \"Latvia\", \"Cayman Islands\", \"Netherlands\", \"Tonga\", \"Estonia\", \"Central African Republic\", \"Denmark\", \"Bosnia and Herzegovina\", \"Virgin Islands, British\", \"Tunisia\", \"Qatar\", \"Angola\", \"Slovakia\", \"Egypt\", \"Kyrgyzstan\", \"Norway\", \"Sweden\", \"Virgin Islands, US\", \"New Zealand\", \"South Africa\", \"Brazil\", \"Bahamas\", \"Fiji\", \"Bermuda\", \"Puerto Rico\", \"Austria\", \"Curacao\", \"Slovenia\", \"Germany\", \"Saint Vincent\", \"Sierra Leone\", \"Trinidad\", \"Individual Olympic Athletes\", \"USA\", \"Australia\", \"Greece\", \"Cyprus\", \"Ireland\", \"Argentina\", \"Barbados\", \"Guam\", \"Paraguay\", \"Chad\"], \"y\": [81.62634730538922, 84.82978723404256, 78.18013468013469, 78.3892773892774, 77.02688860435339, 74.875, 74.70809248554913, 78.26913265306122, 75.0, 73.5559113957833, 82.75555555555556, 74.42955112219451, 70.6304347826087, 73.83750728013977, 77.04424778761062, 73.8, 74.20190476190476, 74.53179190751445, 74.14285714285714, 73.78578290105668, 76.63651315789474, 73.30348258706468, 72.84607906675308, 73.10383895131086, 73.4125, 74.33710756562017, 72.58256029684601, 72.54987452948556, 73.16524216524216, 76.25471698113208, 74.06015037593986, 72.56720430107526, 73.7041770573566, 76.17647058823529, 72.09593023255815, 71.97311502684715, 66.73913043478261, 68.19, 72.62837837837837, 73.29411764705883, 72.631871079083, 72.3379963898917, 73.2683765203596, 71.1875, 70.385948026949, 73.99732023224654, 72.7696335078534, 74.1566265060241, 73.5, 65.82352941176471], \"name\": \"Average Weight\"}, {\"type\": \"bar\", \"x\": [\"Croatia\", \"Montenegro\", \"Lithuania\", \"Iceland\", \"Serbia\", \"Mali\", \"Senegal\", \"Latvia\", \"Cayman Islands\", \"Netherlands\", \"Tonga\", \"Estonia\", \"Central African Republic\", \"Denmark\", \"Bosnia and Herzegovina\", \"Virgin Islands, British\", \"Tunisia\", \"Qatar\", \"Angola\", \"Slovakia\", \"Egypt\", \"Kyrgyzstan\", \"Norway\", \"Sweden\", \"Virgin Islands, US\", \"New Zealand\", \"South Africa\", \"Brazil\", \"Bahamas\", \"Fiji\", \"Bermuda\", \"Puerto Rico\", \"Austria\", \"Curacao\", \"Slovenia\", \"Germany\", \"Saint Vincent\", \"Sierra Leone\", \"Trinidad\", \"Individual Olympic Athletes\", \"USA\", \"Australia\", \"Greece\", \"Cyprus\", \"Ireland\", \"Argentina\", \"Barbados\", \"Guam\", \"Paraguay\", \"Chad\"], \"y\": [183.6131736526946, 183.56382978723406, 182.09950248756218, 181.2454128440367, 180.80417198808004, 180.60655737704917, 180.17888563049854, 179.64450127877237, 179.5068493150685, 179.48890649762282, 179.30555555555554, 179.30186335403727, 179.27659574468086, 179.20099667774087, 178.63392857142858, 178.6315789473684, 178.5284090909091, 178.32558139534885, 178.20408163265307, 178.1701923076923, 178.1044776119403, 178.075, 178.0023973629008, 177.94206363803568, 177.93333333333334, 177.83285024154588, 177.7853839037928, 177.637147102526, 177.4406779661017, 177.42028985507247, 177.40579710144928, 177.37619699042406, 177.36968576709796, 177.2941176470588, 177.22674418604652, 177.06099759615384, 177.04347826086956, 177.03960396039605, 177.0298913043478, 177.02941176470588, 176.88690315619098, 176.87346637102735, 176.78333333333333, 176.67539267015707, 176.61428571428573, 176.6047223436817, 176.59895833333334, 176.58536585365854, 176.58415841584159, 176.55882352941177], \"name\": \"Average Height\"}], {}, {\"showLink\": true, \"linkText\": \"Export to plot.ly\"})});</script>"
      ]
     },
     "metadata": {},
     "output_type": "display_data"
    }
   ],
   "source": [
    "trace1 = go.Bar(\n",
    "    x= sort.index,\n",
    "    y=sort['Weight'],\n",
    "    name='Average Weight'\n",
    ")\n",
    "trace2 = go.Bar(\n",
    "    x= sort.index,\n",
    "    y= sort['Height'],\n",
    "    name='Average Height'\n",
    ")\n",
    "\n",
    "data = [trace1, trace2]\n",
    "layout = go.Layout(\n",
    "    barmode='stack'\n",
    ")\n",
    "\n",
    "\n",
    "plotly.offline.iplot({\n",
    "    \"data\": data\n",
    "})"
   ]
  },
  {
   "cell_type": "markdown",
   "metadata": {
    "collapsed": true
   },
   "source": [
    "### Almost all athletes lie in the same height, weight range"
   ]
  },
  {
   "cell_type": "code",
   "execution_count": 160,
   "metadata": {},
   "outputs": [
    {
     "data": {
      "text/html": [
       "<div>\n",
       "<style>\n",
       "    .dataframe thead tr:only-child th {\n",
       "        text-align: right;\n",
       "    }\n",
       "\n",
       "    .dataframe thead th {\n",
       "        text-align: left;\n",
       "    }\n",
       "\n",
       "    .dataframe tbody tr th {\n",
       "        vertical-align: top;\n",
       "    }\n",
       "</style>\n",
       "<table border=\"1\" class=\"dataframe\">\n",
       "  <thead>\n",
       "    <tr style=\"text-align: right;\">\n",
       "      <th></th>\n",
       "      <th>ID</th>\n",
       "      <th>Age</th>\n",
       "      <th>Height</th>\n",
       "      <th>Weight</th>\n",
       "      <th>Year</th>\n",
       "    </tr>\n",
       "    <tr>\n",
       "      <th>region</th>\n",
       "      <th></th>\n",
       "      <th></th>\n",
       "      <th></th>\n",
       "      <th></th>\n",
       "      <th></th>\n",
       "    </tr>\n",
       "  </thead>\n",
       "  <tbody>\n",
       "    <tr>\n",
       "      <th>Micronesia</th>\n",
       "      <td>60748.307692</td>\n",
       "      <td>23.846154</td>\n",
       "      <td>161.24</td>\n",
       "      <td>60.84</td>\n",
       "      <td>2008.153846</td>\n",
       "    </tr>\n",
       "  </tbody>\n",
       "</table>\n",
       "</div>"
      ],
      "text/plain": [
       "                      ID        Age  Height  Weight         Year\n",
       "region                                                          \n",
       "Micronesia  60748.307692  23.846154  161.24   60.84  2008.153846"
      ]
     },
     "execution_count": 160,
     "metadata": {},
     "output_type": "execute_result"
    }
   ],
   "source": [
    "data = pd.merge(events, noc, on='NOC', how='left')\n",
    "mean = data.groupby('region').mean()\n",
    "sort = mean.sort_values('Height')[::-1]\n",
    "sort.tail(1)"
   ]
  },
  {
   "cell_type": "markdown",
   "metadata": {},
   "source": [
    "- Micronesia has the Shortest Atheletes\n",
    "- Croatia has the tallest athletes"
   ]
  },
  {
   "cell_type": "code",
   "execution_count": 48,
   "metadata": {},
   "outputs": [
    {
     "data": {
      "text/html": [
       "<div>\n",
       "<style>\n",
       "    .dataframe thead tr:only-child th {\n",
       "        text-align: right;\n",
       "    }\n",
       "\n",
       "    .dataframe thead th {\n",
       "        text-align: left;\n",
       "    }\n",
       "\n",
       "    .dataframe tbody tr th {\n",
       "        vertical-align: top;\n",
       "    }\n",
       "</style>\n",
       "<table border=\"1\" class=\"dataframe\">\n",
       "  <thead>\n",
       "    <tr style=\"text-align: right;\">\n",
       "      <th></th>\n",
       "      <th>ID</th>\n",
       "      <th>Age</th>\n",
       "      <th>Height</th>\n",
       "      <th>Weight</th>\n",
       "      <th>Year</th>\n",
       "    </tr>\n",
       "    <tr>\n",
       "      <th>region</th>\n",
       "      <th></th>\n",
       "      <th></th>\n",
       "      <th></th>\n",
       "      <th></th>\n",
       "      <th></th>\n",
       "    </tr>\n",
       "  </thead>\n",
       "  <tbody>\n",
       "    <tr>\n",
       "      <th>Maldives</th>\n",
       "      <td>63310.571429</td>\n",
       "      <td>20.918367</td>\n",
       "      <td>163.761905</td>\n",
       "      <td>54.97619</td>\n",
       "      <td>1998.938776</td>\n",
       "    </tr>\n",
       "  </tbody>\n",
       "</table>\n",
       "</div>"
      ],
      "text/plain": [
       "                    ID        Age      Height    Weight         Year\n",
       "region                                                              \n",
       "Maldives  63310.571429  20.918367  163.761905  54.97619  1998.938776"
      ]
     },
     "execution_count": 48,
     "metadata": {},
     "output_type": "execute_result"
    }
   ],
   "source": [
    "sort.sort_values('Weight').head(1)"
   ]
  },
  {
   "cell_type": "code",
   "execution_count": 49,
   "metadata": {},
   "outputs": [
    {
     "data": {
      "text/html": [
       "<div>\n",
       "<style>\n",
       "    .dataframe thead tr:only-child th {\n",
       "        text-align: right;\n",
       "    }\n",
       "\n",
       "    .dataframe thead th {\n",
       "        text-align: left;\n",
       "    }\n",
       "\n",
       "    .dataframe tbody tr th {\n",
       "        vertical-align: top;\n",
       "    }\n",
       "</style>\n",
       "<table border=\"1\" class=\"dataframe\">\n",
       "  <thead>\n",
       "    <tr style=\"text-align: right;\">\n",
       "      <th></th>\n",
       "      <th>ID</th>\n",
       "      <th>Age</th>\n",
       "      <th>Height</th>\n",
       "      <th>Weight</th>\n",
       "      <th>Year</th>\n",
       "    </tr>\n",
       "    <tr>\n",
       "      <th>region</th>\n",
       "      <th></th>\n",
       "      <th></th>\n",
       "      <th></th>\n",
       "      <th></th>\n",
       "      <th></th>\n",
       "    </tr>\n",
       "  </thead>\n",
       "  <tbody>\n",
       "    <tr>\n",
       "      <th>Nauru</th>\n",
       "      <td>65194.923077</td>\n",
       "      <td>23.461538</td>\n",
       "      <td>167.181818</td>\n",
       "      <td>95.846154</td>\n",
       "      <td>2004.923077</td>\n",
       "    </tr>\n",
       "  </tbody>\n",
       "</table>\n",
       "</div>"
      ],
      "text/plain": [
       "                  ID        Age      Height     Weight         Year\n",
       "region                                                             \n",
       "Nauru   65194.923077  23.461538  167.181818  95.846154  2004.923077"
      ]
     },
     "execution_count": 49,
     "metadata": {},
     "output_type": "execute_result"
    }
   ],
   "source": [
    "sort.sort_values('Weight').tail(1)"
   ]
  },
  {
   "cell_type": "markdown",
   "metadata": {},
   "source": [
    "- Nauru has the heaviest athletes\n",
    "- Maldives has the lightest athletes\n"
   ]
  },
  {
   "cell_type": "code",
   "execution_count": 53,
   "metadata": {},
   "outputs": [
    {
     "data": {
      "text/plain": [
       "24.6051711301777"
      ]
     },
     "execution_count": 53,
     "metadata": {},
     "output_type": "execute_result"
    }
   ],
   "source": [
    "sort.sort_values('Age')['Age'].mean()"
   ]
  },
  {
   "cell_type": "markdown",
   "metadata": {},
   "source": [
    "## Average Age of Olympic atheltes is about 25"
   ]
  },
  {
   "cell_type": "code",
   "execution_count": 237,
   "metadata": {},
   "outputs": [],
   "source": [
    "data['region'] = data['region'].fillna(data['Team'])\n",
    "allmedal = data.fillna(0)\n",
    "allmedal['Medal'] = allmedal['Medal'].map({'Gold': 1, 'Bronze': 1,'Silver':1})"
   ]
  },
  {
   "cell_type": "code",
   "execution_count": 238,
   "metadata": {},
   "outputs": [],
   "source": [
    "almedal = allmedal.groupby('region').sum()\n",
    "medal = almedal.dropna()\n",
    "nomedals = almedal[(almedal['Medal'].isnull())].index"
   ]
  },
  {
   "cell_type": "code",
   "execution_count": 241,
   "metadata": {},
   "outputs": [],
   "source": [
    "medal['COUNTRY'] = medal.index\n",
    "medal['Medal']=medal['Medal'].map(int)"
   ]
  },
  {
   "cell_type": "code",
   "execution_count": 323,
   "metadata": {},
   "outputs": [
    {
     "data": {
      "text/html": [
       "<div>\n",
       "<style>\n",
       "    .dataframe thead tr:only-child th {\n",
       "        text-align: right;\n",
       "    }\n",
       "\n",
       "    .dataframe thead th {\n",
       "        text-align: left;\n",
       "    }\n",
       "\n",
       "    .dataframe tbody tr th {\n",
       "        vertical-align: top;\n",
       "    }\n",
       "</style>\n",
       "<table border=\"1\" class=\"dataframe\">\n",
       "  <thead>\n",
       "    <tr style=\"text-align: right;\">\n",
       "      <th></th>\n",
       "      <th>ID</th>\n",
       "      <th>Age</th>\n",
       "      <th>Height</th>\n",
       "      <th>Weight</th>\n",
       "      <th>Year</th>\n",
       "      <th>Medal</th>\n",
       "      <th>COUNTRY</th>\n",
       "      <th>GDP (BILLIONS)</th>\n",
       "      <th>CODE</th>\n",
       "    </tr>\n",
       "  </thead>\n",
       "  <tbody>\n",
       "    <tr>\n",
       "      <th>0</th>\n",
       "      <td>8918075</td>\n",
       "      <td>1836.0</td>\n",
       "      <td>9212.0</td>\n",
       "      <td>4020.0</td>\n",
       "      <td>247720</td>\n",
       "      <td>2</td>\n",
       "      <td>Afghanistan</td>\n",
       "      <td>21.71</td>\n",
       "      <td>AFG</td>\n",
       "    </tr>\n",
       "  </tbody>\n",
       "</table>\n",
       "</div>"
      ],
      "text/plain": [
       "        ID     Age  Height  Weight    Year  Medal      COUNTRY  \\\n",
       "0  8918075  1836.0  9212.0  4020.0  247720      2  Afghanistan   \n",
       "\n",
       "   GDP (BILLIONS) CODE  \n",
       "0           21.71  AFG  "
      ]
     },
     "execution_count": 323,
     "metadata": {},
     "output_type": "execute_result"
    }
   ],
   "source": [
    "df = pd.read_csv('https://raw.githubusercontent.com/plotly/datasets/master/2014_world_gdp_with_codes.csv')\n",
    "d = pd.merge(medal,df, on='COUNTRY', how='left')\n",
    "d.head(1)"
   ]
  },
  {
   "cell_type": "code",
   "execution_count": 324,
   "metadata": {},
   "outputs": [
    {
     "data": {
      "text/html": [
       "<div>\n",
       "<style>\n",
       "    .dataframe thead tr:only-child th {\n",
       "        text-align: right;\n",
       "    }\n",
       "\n",
       "    .dataframe thead th {\n",
       "        text-align: left;\n",
       "    }\n",
       "\n",
       "    .dataframe tbody tr th {\n",
       "        vertical-align: top;\n",
       "    }\n",
       "</style>\n",
       "<table border=\"1\" class=\"dataframe\">\n",
       "  <thead>\n",
       "    <tr style=\"text-align: right;\">\n",
       "      <th></th>\n",
       "      <th>ID</th>\n",
       "      <th>Age</th>\n",
       "      <th>Height</th>\n",
       "      <th>Weight</th>\n",
       "      <th>Year</th>\n",
       "      <th>Medal</th>\n",
       "      <th>COUNTRY</th>\n",
       "      <th>GDP (BILLIONS)</th>\n",
       "      <th>CODE</th>\n",
       "    </tr>\n",
       "  </thead>\n",
       "  <tbody>\n",
       "    <tr>\n",
       "      <th>7</th>\n",
       "      <td>24872152</td>\n",
       "      <td>9859.0</td>\n",
       "      <td>62814.0</td>\n",
       "      <td>2.568100e+04</td>\n",
       "      <td>744924</td>\n",
       "      <td>40</td>\n",
       "      <td>Bahamas</td>\n",
       "      <td>NaN</td>\n",
       "      <td>NaN</td>\n",
       "    </tr>\n",
       "    <tr>\n",
       "      <th>51</th>\n",
       "      <td>6290837</td>\n",
       "      <td>2357.0</td>\n",
       "      <td>12038.0</td>\n",
       "      <td>4.984000e+03</td>\n",
       "      <td>187598</td>\n",
       "      <td>5</td>\n",
       "      <td>Individual Olympic Athletes</td>\n",
       "      <td>NaN</td>\n",
       "      <td>NaN</td>\n",
       "    </tr>\n",
       "    <tr>\n",
       "      <th>58</th>\n",
       "      <td>11119524</td>\n",
       "      <td>4291.0</td>\n",
       "      <td>28050.0</td>\n",
       "      <td>1.130000e+04</td>\n",
       "      <td>384384</td>\n",
       "      <td>3</td>\n",
       "      <td>Ivory Coast</td>\n",
       "      <td>NaN</td>\n",
       "      <td>NaN</td>\n",
       "    </tr>\n",
       "    <tr>\n",
       "      <th>88</th>\n",
       "      <td>53917474</td>\n",
       "      <td>17790.0</td>\n",
       "      <td>104528.0</td>\n",
       "      <td>3.754100e+04</td>\n",
       "      <td>1607570</td>\n",
       "      <td>67</td>\n",
       "      <td>North Korea</td>\n",
       "      <td>NaN</td>\n",
       "      <td>NaN</td>\n",
       "    </tr>\n",
       "    <tr>\n",
       "      <th>108</th>\n",
       "      <td>297169257</td>\n",
       "      <td>101882.0</td>\n",
       "      <td>668190.0</td>\n",
       "      <td>2.596930e+05</td>\n",
       "      <td>8902536</td>\n",
       "      <td>638</td>\n",
       "      <td>South Korea</td>\n",
       "      <td>NaN</td>\n",
       "      <td>NaN</td>\n",
       "    </tr>\n",
       "    <tr>\n",
       "      <th>122</th>\n",
       "      <td>22708176</td>\n",
       "      <td>9734.0</td>\n",
       "      <td>65147.0</td>\n",
       "      <td>2.687250e+04</td>\n",
       "      <td>785822</td>\n",
       "      <td>37</td>\n",
       "      <td>Trinidad</td>\n",
       "      <td>NaN</td>\n",
       "      <td>NaN</td>\n",
       "    </tr>\n",
       "    <tr>\n",
       "      <th>125</th>\n",
       "      <td>809225029</td>\n",
       "      <td>309697.0</td>\n",
       "      <td>1395588.0</td>\n",
       "      <td>5.591310e+05</td>\n",
       "      <td>24084678</td>\n",
       "      <td>2068</td>\n",
       "      <td>UK</td>\n",
       "      <td>NaN</td>\n",
       "      <td>NaN</td>\n",
       "    </tr>\n",
       "    <tr>\n",
       "      <th>126</th>\n",
       "      <td>1258144263</td>\n",
       "      <td>483369.0</td>\n",
       "      <td>2622879.0</td>\n",
       "      <td>1.038127e+06</td>\n",
       "      <td>37142720</td>\n",
       "      <td>5637</td>\n",
       "      <td>USA</td>\n",
       "      <td>NaN</td>\n",
       "      <td>NaN</td>\n",
       "    </tr>\n",
       "    <tr>\n",
       "      <th>134</th>\n",
       "      <td>19781950</td>\n",
       "      <td>7955.0</td>\n",
       "      <td>42704.0</td>\n",
       "      <td>1.761900e+04</td>\n",
       "      <td>585074</td>\n",
       "      <td>1</td>\n",
       "      <td>Virgin Islands, US</td>\n",
       "      <td>NaN</td>\n",
       "      <td>NaN</td>\n",
       "    </tr>\n",
       "  </tbody>\n",
       "</table>\n",
       "</div>"
      ],
      "text/plain": [
       "             ID       Age     Height        Weight      Year  Medal  \\\n",
       "7      24872152    9859.0    62814.0  2.568100e+04    744924     40   \n",
       "51      6290837    2357.0    12038.0  4.984000e+03    187598      5   \n",
       "58     11119524    4291.0    28050.0  1.130000e+04    384384      3   \n",
       "88     53917474   17790.0   104528.0  3.754100e+04   1607570     67   \n",
       "108   297169257  101882.0   668190.0  2.596930e+05   8902536    638   \n",
       "122    22708176    9734.0    65147.0  2.687250e+04    785822     37   \n",
       "125   809225029  309697.0  1395588.0  5.591310e+05  24084678   2068   \n",
       "126  1258144263  483369.0  2622879.0  1.038127e+06  37142720   5637   \n",
       "134    19781950    7955.0    42704.0  1.761900e+04    585074      1   \n",
       "\n",
       "                         COUNTRY  GDP (BILLIONS) CODE  \n",
       "7                        Bahamas             NaN  NaN  \n",
       "51   Individual Olympic Athletes             NaN  NaN  \n",
       "58                   Ivory Coast             NaN  NaN  \n",
       "88                   North Korea             NaN  NaN  \n",
       "108                  South Korea             NaN  NaN  \n",
       "122                     Trinidad             NaN  NaN  \n",
       "125                           UK             NaN  NaN  \n",
       "126                          USA             NaN  NaN  \n",
       "134           Virgin Islands, US             NaN  NaN  "
      ]
     },
     "execution_count": 324,
     "metadata": {},
     "output_type": "execute_result"
    }
   ],
   "source": [
    "d[(d['CODE'].isnull())]"
   ]
  },
  {
   "cell_type": "code",
   "execution_count": 326,
   "metadata": {},
   "outputs": [],
   "source": [
    "d['CODE'] =  d['CODE'].fillna(d['COUNTRY'])"
   ]
  },
  {
   "cell_type": "code",
   "execution_count": 335,
   "metadata": {},
   "outputs": [],
   "source": [
    "d = d.replace('Bahamas', 'BHM')\n",
    "d = d.replace('Ivory Coast', 'CIV')\n",
    "d = d.replace('North Korea', 'PRK')\n",
    "d = d.replace('South Korea', 'KOR')\n",
    "d = d.replace('Trinidad', 'BRB')\n",
    "d = d.replace('UK', 'GBR')\n",
    "d = d.replace('Virgin Islands, US', 'VGB')"
   ]
  },
  {
   "cell_type": "code",
   "execution_count": 338,
   "metadata": {},
   "outputs": [
    {
     "data": {
      "text/html": [
       "<iframe id=\"igraph\" scrolling=\"no\" style=\"border:none;\" seamless=\"seamless\" src=\"https://plot.ly/~Sangarshanan/70.embed\" height=\"525px\" width=\"100%\"></iframe>"
      ],
      "text/plain": [
       "<plotly.tools.PlotlyDisplay object>"
      ]
     },
     "execution_count": 338,
     "metadata": {},
     "output_type": "execute_result"
    }
   ],
   "source": [
    "import plotly.plotly as py\n",
    "data = [ dict(\n",
    "        type = 'choropleth',\n",
    "        locations = d['CODE'],\n",
    "        z = d['Medal'],\n",
    "        text = d['COUNTRY'],\n",
    "        colorscale = [[0,\"rgb(5, 10, 172)\"],[0.35,\"rgb(40, 60, 190)\"],[0.5,\"rgb(70, 100, 245)\"],\\\n",
    "            [0.6,\"rgb(90, 120, 245)\"],[0.7,\"rgb(106, 137, 247)\"],[1,\"rgb(220, 220, 220)\"]],\n",
    "        autocolorscale = False,\n",
    "        reversescale = True,\n",
    "        marker = dict(\n",
    "            line = dict (\n",
    "                color = 'rgb(180,180,180)',\n",
    "                width = 0.5\n",
    "            ) ),\n",
    "        colorbar = dict(\n",
    "            autotick = False,\n",
    "            title = 'Total Number of Medals'),\n",
    "      ) ]\n",
    "\n",
    "layout = dict(\n",
    "    title = 'Medal count wrt each country',\n",
    "    geo = dict(\n",
    "        showframe = False,\n",
    "        showcoastlines = False,\n",
    "        projection = dict(\n",
    "            type = 'Mercator'\n",
    "        )\n",
    "    )\n",
    ")\n",
    "\n",
    "fig = dict( data=data, layout=layout )\n",
    "py.iplot( fig, validate=False, filename='d3-world-map' )"
   ]
  },
  {
   "cell_type": "markdown",
   "metadata": {},
   "source": [
    "### The Map does not contain countries with no medals"
   ]
  },
  {
   "cell_type": "code",
   "execution_count": 339,
   "metadata": {},
   "outputs": [
    {
     "name": "stdout",
     "output_type": "stream",
     "text": [
      "#### COUNTRIES WITH NO OLYMPIC MEDALS ###\n",
      "\n",
      "Albania\n",
      "American Samoa\n",
      "Andorra\n",
      "Angola\n",
      "Antigua\n",
      "Aruba\n",
      "Bangladesh\n",
      "Belize\n",
      "Benin\n",
      "Bhutan\n",
      "Boliva\n",
      "Bosnia and Herzegovina\n",
      "Brunei\n",
      "Burkina Faso\n",
      "Cambodia\n",
      "Cape Verde\n",
      "Cayman Islands\n",
      "Central African Republic\n",
      "Chad\n",
      "Comoros\n",
      "Cook Islands\n",
      "Democratic Republic of the Congo\n",
      "Dominica\n",
      "El Salvador\n",
      "Equatorial Guinea\n",
      "Gambia\n",
      "Guam\n",
      "Guinea\n",
      "Guinea-Bissau\n",
      "Honduras\n",
      "June Climene\n",
      "Kiribati\n",
      "Laos\n",
      "Lesotho\n",
      "Liberia\n",
      "Libya\n",
      "Madagascar\n",
      "Malawi\n",
      "Maldives\n",
      "Mali\n",
      "Malta\n",
      "Marshall Islands\n",
      "Mauritania\n",
      "Micronesia\n",
      "Myanmar\n",
      "Nauru\n",
      "Nicaragua\n",
      "Oman\n",
      "Palau\n",
      "Palestine\n",
      "Papua New Guinea\n",
      "Refugee Olympic Athletes\n",
      "Republic of Congo\n",
      "Rika II\n",
      "Rwanda\n",
      "Saint Kitts\n",
      "Saint Lucia\n",
      "Saint Vincent\n",
      "Samoa\n",
      "San Marino\n",
      "Sao Tome and Principe\n",
      "Seychelles\n",
      "Sierra Leone\n",
      "Singapore-1\n",
      "Singapore-2\n",
      "Solomon Islands\n",
      "Somalia\n",
      "South Sudan\n",
      "Swaziland\n",
      "Timor-Leste\n",
      "Turkmenistan\n",
      "Tuvalu\n",
      "Unknown\n",
      "Vanuatu\n",
      "Virgin Islands, British\n",
      "Yemen\n"
     ]
    }
   ],
   "source": [
    "print(\"#### COUNTRIES WITH NO OLYMPIC MEDALS ###\\n\")\n",
    "for i in nomedals:\n",
    "    print(i)"
   ]
  },
  {
   "cell_type": "code",
   "execution_count": null,
   "metadata": {},
   "outputs": [],
   "source": []
  },
  {
   "cell_type": "code",
   "execution_count": null,
   "metadata": {},
   "outputs": [],
   "source": []
  },
  {
   "cell_type": "code",
   "execution_count": null,
   "metadata": {},
   "outputs": [],
   "source": []
  },
  {
   "cell_type": "code",
   "execution_count": null,
   "metadata": {},
   "outputs": [],
   "source": []
  },
  {
   "cell_type": "code",
   "execution_count": null,
   "metadata": {},
   "outputs": [],
   "source": []
  },
  {
   "cell_type": "code",
   "execution_count": null,
   "metadata": {},
   "outputs": [],
   "source": []
  },
  {
   "cell_type": "code",
   "execution_count": null,
   "metadata": {},
   "outputs": [],
   "source": []
  }
 ],
 "metadata": {
  "kernelspec": {
   "display_name": "Python 3",
   "language": "python",
   "name": "python3"
  },
  "language_info": {
   "codemirror_mode": {
    "name": "ipython",
    "version": 3
   },
   "file_extension": ".py",
   "mimetype": "text/x-python",
   "name": "python",
   "nbconvert_exporter": "python",
   "pygments_lexer": "ipython3",
   "version": "3.6.3"
  }
 },
 "nbformat": 4,
 "nbformat_minor": 2
}
